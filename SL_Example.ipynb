{
 "cells": [
  {
   "cell_type": "markdown",
   "metadata": {},
   "source": [
    "# Example Notebook"
   ]
  },
  {
   "cell_type": "code",
   "execution_count": 4,
   "metadata": {},
   "outputs": [
    {
     "ename": "ModuleNotFoundError",
     "evalue": "No module named 'art_skills'",
     "output_type": "error",
     "traceback": [
      "\u001b[0;31m---------------------------------------------------------------------------\u001b[0m",
      "\u001b[0;31mModuleNotFoundError\u001b[0m                       Traceback (most recent call last)",
      "\u001b[0;32m<ipython-input-4-fa1155a48c3a>\u001b[0m in \u001b[0;36m<module>\u001b[0;34m\u001b[0m\n\u001b[1;32m      7\u001b[0m \u001b[0;34m\u001b[0m\u001b[0m\n\u001b[1;32m      8\u001b[0m \u001b[0;31m# import local package\u001b[0m\u001b[0;34m\u001b[0m\u001b[0;34m\u001b[0m\u001b[0m\n\u001b[0;32m----> 9\u001b[0;31m \u001b[0;32mimport\u001b[0m \u001b[0mpython\u001b[0m\u001b[0;34m\u001b[0m\u001b[0;34m\u001b[0m\u001b[0m\n\u001b[0m",
      "\u001b[0;32m~/GIT_REPOS/gtsam_projects/art_skills/python/__init__.py\u001b[0m in \u001b[0;36m<module>\u001b[0;34m\u001b[0m\n\u001b[0;32m----> 1\u001b[0;31m \u001b[0;32mimport\u001b[0m \u001b[0mart_skills\u001b[0m\u001b[0;34m\u001b[0m\u001b[0;34m\u001b[0m\u001b[0m\n\u001b[0m\u001b[1;32m      2\u001b[0m \u001b[0;32mimport\u001b[0m \u001b[0mtests\u001b[0m\u001b[0;34m\u001b[0m\u001b[0;34m\u001b[0m\u001b[0m\n",
      "\u001b[0;31mModuleNotFoundError\u001b[0m: No module named 'art_skills'"
     ]
    }
   ],
   "source": [
    "import math\n",
    "import unittest\n",
    "\n",
    "# import gtsam\n",
    "import gtsam\n",
    "from gtsam.utils.test_case import GtsamTestCase\n",
    "\n",
    "# import local package\n",
    "import python"
   ]
  },
  {
   "cell_type": "code",
   "execution_count": null,
   "metadata": {},
   "outputs": [],
   "source": [
    "class TestGTSamFunctionality(GtsamTestCase):\n",
    "    \"\"\"testing GTSAM functionality.\"\"\"\n",
    "\n",
    "    def test_range(self):\n",
    "        \"\"\"Test range method.\"\"\"\n",
    "        l2 = gtsam.Point3(1, 1, 0)\n",
    "        x1 = gtsam.Pose3()\n",
    "\n",
    "        # establish range is indeed sqrt2\n",
    "        self.assertEqual(math.sqrt(2.0), x1.range(point=l2))\n",
    "\n",
    "class TestLocalModule(GtsamTestCase):\n",
    "    \"\"\"testing GTSAM functionality through local module.\"\"\"\n",
    "    \n",
    "    def test_meaning_of_everything(self):\n",
    "        \"\"\"Test simple function in module.\"\"\"\n",
    "        self.assertEqual(mod.meaning_of_everything(), 42)\n",
    "\n",
    "    def test_create_special_2d_pose(self):\n",
    "        \"\"\"Test GTSAM function in module.\"\"\"\n",
    "        actual = mod.create_special_2d_pose()\n",
    "        self.assertIsInstance(actual, gtsam.Pose2)\n",
    "        self.gtsamAssertEquals(actual, gtsam.Pose2(1,2,3), 1e-7)\n",
    "\n",
    "if __name__ == '__main__':\n",
    "    unittest.main(argv=['first-arg-is-ignored'], exit=False)"
   ]
  },
  {
   "cell_type": "code",
   "execution_count": null,
   "metadata": {},
   "outputs": [],
   "source": []
  }
 ],
 "metadata": {
  "kernelspec": {
   "display_name": "Python 3",
   "language": "python",
   "name": "python3"
  },
  "language_info": {
   "codemirror_mode": {
    "name": "ipython",
    "version": 3
   },
   "file_extension": ".py",
   "mimetype": "text/x-python",
   "name": "python",
   "nbconvert_exporter": "python",
   "pygments_lexer": "ipython3",
   "version": "3.9.7"
  }
 },
 "nbformat": 4,
 "nbformat_minor": 2
}
