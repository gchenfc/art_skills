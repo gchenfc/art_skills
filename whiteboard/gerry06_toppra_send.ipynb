{
 "cells": [
  {
   "attachments": {},
   "cell_type": "markdown",
   "metadata": {},
   "source": [
    "# Apply TOPP-RA and send to cable robot\n",
    "\n",
    "A template for creating a real-time version\n",
    "\n",
    "It is reasonably likely this file will eventually turn into a .py file."
   ]
  },
  {
   "cell_type": "code",
   "execution_count": null,
   "metadata": {},
   "outputs": [],
   "source": [
    "%load_ext autoreload\n",
    "%autoreload 2"
   ]
  },
  {
   "cell_type": "code",
   "execution_count": null,
   "metadata": {},
   "outputs": [],
   "source": [
    "import numpy as np\n",
    "import matplotlib.pyplot as plt\n",
    "from IPython.display import HTML\n",
    "import src.io as io\n",
    "import src.topp as topp\n",
    "import src.util as util\n",
    "from src.communicate import CableRobot\n",
    "plt.rc('axes', unicode_minus=False)  # Glyph 8722"
   ]
  },
  {
   "cell_type": "code",
   "execution_count": null,
   "metadata": {},
   "outputs": [],
   "source": [
    "strokes = io.load_log('logs/G.txt')\n",
    "for stroke in strokes:\n",
    "    print(stroke.shape)"
   ]
  },
  {
   "cell_type": "code",
   "execution_count": null,
   "metadata": {},
   "outputs": [],
   "source": [
    "# Recenter\n",
    "# W, H = 2.92, 2.32\n",
    "W, H = 6.17, 2.64\n",
    "stroke = topp.Stroke(strokes[0][::5], clean=True)\n",
    "center = np.mean([np.max(stroke.x, axis=0), np.min(stroke.x, axis=0)], axis=0)\n",
    "newx = stroke.x - center + [W / 2, H / 2]\n",
    "stroke = topp.Stroke(np.hstack((stroke.t.reshape(-1, 1), newx)),\n",
    "                     clean=False)"
   ]
  },
  {
   "cell_type": "code",
   "execution_count": null,
   "metadata": {},
   "outputs": [],
   "source": [
    "# Do TOPP-RA\n",
    "stroke.spline_interp()\n",
    "# stroke.retime(vmax=0.3, amax=3)\n",
    "stroke.retime(vmax=0.3, amax=0.5)\n",
    "\n",
    "ts, xs, xds, xdds = stroke.sample_retimed(dt=0.05)\n",
    "print(f'# of spline segments: {stroke.retimed_path.cspl.c.shape[1]}')"
   ]
  },
  {
   "cell_type": "code",
   "execution_count": null,
   "metadata": {},
   "outputs": [],
   "source": [
    "# Plot TOPP-RA results\n",
    "# fig, axes = plt.subplots(3, 2, figsize=(5, 6))\n",
    "fig, axes = plt.subplots(3, 2, figsize=(12, 5))\n",
    "stroke.plot_xva(axes, markersize=1.5, linewidth=0.5)\n",
    "fig.tight_layout()"
   ]
  },
  {
   "cell_type": "code",
   "execution_count": null,
   "metadata": {
    "scrolled": false
   },
   "outputs": [],
   "source": [
    "# Create html animation\n",
    "HTML(stroke.create_html_anim('test1.html', bnds='air', markersize=2))\n",
    "# HTML(stroke.create_html_anim('test1.html', bnds='auto'))"
   ]
  },
  {
   "cell_type": "code",
   "execution_count": null,
   "metadata": {},
   "outputs": [],
   "source": [
    "PORT = '/dev/tty.usbmodem100994303'"
   ]
  },
  {
   "cell_type": "code",
   "execution_count": null,
   "metadata": {},
   "outputs": [],
   "source": [
    "io.send_spline_serial(stroke.retimed_path.cspl, PORT)"
   ]
  },
  {
   "cell_type": "code",
   "execution_count": null,
   "metadata": {},
   "outputs": [],
   "source": [
    "t, x, v, _ = stroke.sample_retimed(dt=0.1)\n",
    "print('Ground Truth:')\n",
    "print(np.hstack((t[:10].reshape(-1, 1), x[:10], v[:10])))\n",
    "print('Read back from robot:')\n",
    "with CableRobot(print_raw=True, write_timeout=None, initial_msg='d10,100', port=PORT) as robot:\n",
    "    robot.send('x*')\n",
    "    io.read_spline_serial(robot, num_lines=10)"
   ]
  },
  {
   "cell_type": "code",
   "execution_count": null,
   "metadata": {},
   "outputs": [],
   "source": []
  }
 ],
 "metadata": {
  "kernelspec": {
   "display_name": "Python 3 (ipykernel)",
   "language": "python",
   "name": "python3"
  },
  "language_info": {
   "codemirror_mode": {
    "name": "ipython",
    "version": 3
   },
   "file_extension": ".py",
   "mimetype": "text/x-python",
   "name": "python",
   "nbconvert_exporter": "python",
   "pygments_lexer": "ipython3",
   "version": "3.9.15"
  },
  "vscode": {
   "interpreter": {
    "hash": "402f513bd64bb05ccdfd11315d0c88453571d1d1d73db48414a1b2a41f771ebc"
   }
  }
 },
 "nbformat": 4,
 "nbformat_minor": 2
}
