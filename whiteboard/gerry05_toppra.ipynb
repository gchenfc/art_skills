{
 "cells": [
  {
   "cell_type": "markdown",
   "metadata": {},
   "source": [
    "# Test out `topp.py`, `util.py`, `io.py`"
   ]
  },
  {
   "cell_type": "code",
   "execution_count": null,
   "metadata": {},
   "outputs": [],
   "source": [
    "%load_ext autoreload\n",
    "%autoreload 2"
   ]
  },
  {
   "cell_type": "code",
   "execution_count": null,
   "metadata": {},
   "outputs": [],
   "source": [
    "import numpy as np\n",
    "import matplotlib.pyplot as plt\n",
    "from IPython.display import HTML\n",
    "import src.io as io\n",
    "import src.topp as topp\n",
    "import src.util as util\n",
    "from src.communicate import CableRobot\n",
    "plt.rc('axes', unicode_minus=False)  # Glyph 8722"
   ]
  },
  {
   "cell_type": "code",
   "execution_count": null,
   "metadata": {},
   "outputs": [],
   "source": [
    "strokes = io.load_log('logs/G.txt')\n",
    "for stroke in strokes:\n",
    "    print(stroke.shape)"
   ]
  },
  {
   "cell_type": "code",
   "execution_count": null,
   "metadata": {},
   "outputs": [],
   "source": [
    "# Plot strokes\n",
    "strokes = util.clean_strokes(strokes)\n",
    "fig, axes = plt.subplots(1, 3, figsize=(12, 4))\n",
    "for t, xy in util.strokes2txs(strokes):\n",
    "    xydot, xyddot = util.derivatives(t, xy)\n",
    "    axes[0].plot(*xy.T)\n",
    "    axes[1].plot(t, np.linalg.norm(xydot, axis=1))\n",
    "    axes[2].plot(t, np.linalg.norm(xyddot, axis=1))\n",
    "axes[0].axis('equal')\n",
    "axes[0].set_title('xy')\n",
    "axes[1].set_title('Speed vs time')\n",
    "axes[2].set_title('||Acceleration|| vs time');"
   ]
  },
  {
   "cell_type": "code",
   "execution_count": null,
   "metadata": {},
   "outputs": [],
   "source": [
    "# Do TOPP-RA\n",
    "stroke = topp.Stroke(strokes[0], clean=True)\n",
    "stroke.spline_interp()\n",
    "stroke.retime(vmax=1, amax=5)\n",
    "\n",
    "ts, xs, xds, xdds = stroke.sample_retimed(N=200)"
   ]
  },
  {
   "cell_type": "code",
   "execution_count": null,
   "metadata": {},
   "outputs": [],
   "source": [
    "# Plot TOPP-RA results\n",
    "fig, axes = plt.subplots(3, 2, figsize=(5, 6))\n",
    "stroke.plot_xva(axes)\n",
    "fig.tight_layout()"
   ]
  },
  {
   "cell_type": "code",
   "execution_count": null,
   "metadata": {
    "scrolled": false
   },
   "outputs": [],
   "source": [
    "# Create html animation\n",
    "HTML(stroke.create_html_anim('test1.html'))"
   ]
  },
  {
   "cell_type": "markdown",
   "metadata": {},
   "source": [
    "# Investigate the data format of `toppra.SplineInterpolator`\n",
    "(to reverse-engineer)"
   ]
  },
  {
   "cell_type": "code",
   "execution_count": null,
   "metadata": {},
   "outputs": [],
   "source": [
    "coeff = stroke.path.cspl.c\n",
    "coeffv = stroke.path.cspld.c\n",
    "breakpts = stroke.path.cspl.x\n",
    "print(coeff.shape) # (degree, numsegments, xy)\n",
    "print(breakpts.shape) # (numsegments+1)"
   ]
  },
  {
   "cell_type": "code",
   "execution_count": null,
   "metadata": {},
   "outputs": [],
   "source": [
    "print(coeff.shape, coeffv.shape) # coeffv should have degree 1 less than coeff\n",
    "print(coeff[:, 10, 0])\n",
    "print(coeffv[:, 10, 0])\n",
    "print(coeff[:, 10, 0] * np.arange(3, -1, -1)) # manually take the derivative to compare to coeffv"
   ]
  },
  {
   "cell_type": "code",
   "execution_count": null,
   "metadata": {},
   "outputs": [],
   "source": [
    "# Now try to manually evaluate the piecewise polynomial!\n",
    "t = np.array([6e-4, 0.2, 0.4, 0.6, 1])\n",
    "expected = stroke.path(t)\n",
    "print(expected)\n",
    "\n",
    "# manually evaluate the spline\n",
    "t2 = t.reshape(-1, 1)\n",
    "cond = np.logical_and(t2 >= breakpts[:-1].reshape(1, -1), t2 < breakpts[1:].reshape(1, -1))\n",
    "xy = []\n",
    "for t_, col in zip(t, cond):\n",
    "    coeff_ = coeff[:, col, :].squeeze()\n",
    "    N = coeff_.shape[0] - 1\n",
    "    t_ = t_ - breakpts[:-1][col]\n",
    "    tpow = np.power(t_, np.arange(N, -1, -1)).reshape(1, -1)\n",
    "    xy.append(tpow @ coeff_)\n",
    "actual = np.array(xy).squeeze()\n",
    "print(actual)\n",
    "print(expected - actual)"
   ]
  },
  {
   "cell_type": "code",
   "execution_count": null,
   "metadata": {},
   "outputs": [],
   "source": [
    "# Implemented the above code in `topp.manually_evaluate_spline`\n",
    "# Test `topp.manually_evaluate_spline`\n",
    "t = np.array([6e-4, 0.2, 0.4, 0.6, 1])\n",
    "expected = stroke.path(t)\n",
    "actual = topp.manually_evaluate_spline(t, stroke.path)\n",
    "np.testing.assert_allclose(actual, expected, rtol=1e-15, atol=1e-15)"
   ]
  },
  {
   "cell_type": "markdown",
   "metadata": {},
   "source": [
    "# Create data for c++ unit tests"
   ]
  },
  {
   "cell_type": "code",
   "execution_count": null,
   "metadata": {},
   "outputs": [],
   "source": [
    "xc = [1, 2, 3, 4]\n",
    "yc = [5, 6, 7, 8]\n",
    "t = 0.1\n",
    "xdc, ydc = np.polyder(xc), np.polyder(yc)\n",
    "xddc, yddc = np.polyder(xdc), np.polyder(ydc)\n",
    "for t in [0.05, 0.09999999]:\n",
    "    print(f'EXPECT_XVA_EQUAL({t}, 1e-6,             // t, tol')\n",
    "    print(f'                 {np.polyval(xc, t):.6f}, {np.polyval(yc, t):.6f},    // x')\n",
    "    print(f'                 {np.polyval(xdc, t):.6f}, {np.polyval(ydc, t):.6f},    // v')\n",
    "    print(f'                 {np.polyval(xddc, t):.6f}, {np.polyval(yddc, t):.6f});  // a')"
   ]
  },
  {
   "cell_type": "code",
   "execution_count": null,
   "metadata": {},
   "outputs": [],
   "source": [
    "for i in range(4):\n",
    "    b = breakpts[i+1]\n",
    "    c = coeff[:, i, :].squeeze()\n",
    "    row2str = lambda row: ', '.join(f'{n:.6f}' for n in row)\n",
    "    print(f'spline.add_segment({b}, {{{{ {{{{ {row2str(c[:, 0])} }}}}, {{{{ {row2str(c[:, 1])} }}}} }}}});')"
   ]
  },
  {
   "cell_type": "code",
   "execution_count": null,
   "metadata": {},
   "outputs": [],
   "source": [
    "for t in [0.005, 0.01, 0.015, breakpts[2], 0.035, 0.045]:\n",
    "    print(f'EXPECT_XVA_EQUAL({t}, 1e-6,            // t, tol')\n",
    "    print(f'                 {row2str(stroke.path.eval(t))},  // x')\n",
    "    print(f'                 {row2str(stroke.path.evald(t))},  // v')\n",
    "    print(f'                 {row2str(stroke.path.evaldd(t))});  // a')\n",
    "t = breakpts[4]\n",
    "print(f'EXPECT_XVA_EQUAL({0.05}, 1e-6,            // t, tol')\n",
    "print(f'                 {row2str(stroke.path.eval(t))},  // x')\n",
    "print(f'                 {row2str(stroke.path.evald(t))},  // v')\n",
    "print(f'                 {row2str(stroke.path.evaldd(t))});  // a')"
   ]
  },
  {
   "cell_type": "markdown",
   "metadata": {},
   "source": [
    "# Re-scale and Send over serial to robot"
   ]
  },
  {
   "cell_type": "code",
   "execution_count": null,
   "metadata": {},
   "outputs": [],
   "source": [
    "PORT = '/dev/tty.usbmodem100994303'"
   ]
  },
  {
   "cell_type": "code",
   "execution_count": null,
   "metadata": {},
   "outputs": [],
   "source": [
    "W, H = 2.92, 2.32\n",
    "center = np.mean([np.max(stroke.x, axis=0), np.min(stroke.x, axis=0)], axis=0)\n",
    "newx = stroke.x - center + [W / 2, H / 2]\n",
    "stroke = topp.Stroke(np.hstack((stroke.t.reshape(-1, 1), newx)),\n",
    "                     clean=False)\n",
    "plt.figure(figsize=(4, 3))\n",
    "plt.plot(*stroke.x.T)\n",
    "plt.axis('equal')\n",
    "plt.xlim(0, W)\n",
    "plt.ylim(0, H);\n",
    "stroke.retime()"
   ]
  },
  {
   "cell_type": "code",
   "execution_count": null,
   "metadata": {},
   "outputs": [],
   "source": [
    "io.send_spline_serial(stroke.retimed_path.cspl, PORT)"
   ]
  },
  {
   "cell_type": "code",
   "execution_count": null,
   "metadata": {},
   "outputs": [],
   "source": [
    "t, x, v, _ = stroke.sample_retimed(dt=0.1)\n",
    "print('Ground Truth:')\n",
    "print(np.hstack((t[:10].reshape(-1, 1), x[:10], v[:10])))\n",
    "print('Read back from robot:')\n",
    "with CableRobot(print_raw=True, write_timeout=None, initial_msg='d10,100', port=PORT) as robot:\n",
    "    robot.send('t*')\n",
    "    io.read_spline_serial(robot, num_lines=10)"
   ]
  },
  {
   "cell_type": "code",
   "execution_count": null,
   "metadata": {},
   "outputs": [],
   "source": []
  }
 ],
 "metadata": {
  "kernelspec": {
   "display_name": "Python 3 (ipykernel)",
   "language": "python",
   "name": "python3"
  },
  "language_info": {
   "codemirror_mode": {
    "name": "ipython",
    "version": 3
   },
   "file_extension": ".py",
   "mimetype": "text/x-python",
   "name": "python",
   "nbconvert_exporter": "python",
   "pygments_lexer": "ipython3",
   "version": "3.9.15"
  },
  "vscode": {
   "interpreter": {
    "hash": "402f513bd64bb05ccdfd11315d0c88453571d1d1d73db48414a1b2a41f771ebc"
   }
  }
 },
 "nbformat": 4,
 "nbformat_minor": 2
}
