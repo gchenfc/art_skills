{
 "cells": [
  {
   "cell_type": "code",
   "execution_count": 1,
   "metadata": {},
   "outputs": [],
   "source": [
    "import numpy as np\n",
    "import pandas as pd\n",
    "import matplotlib.pyplot as plt\n",
    "import matplotlib.lines as mlines\n",
    "import temp_crt\n",
    "plt.rcParams['figure.figsize'] = [5, 3]\n",
    "plt.rcParams['figure.dpi'] = 100\n",
    "plt.rcParams['figure.constrained_layout.use'] = True\n",
    "\n",
    "# py.offline.init_notebook_mode(connected=True)"
   ]
  },
  {
   "cell_type": "code",
   "execution_count": 2,
   "metadata": {},
   "outputs": [
    {
     "name": "stdout",
     "output_type": "stream",
     "text": [
      "<numpy.lib.npyio.NpzFile object at 0x7fb8e0ec7b50>\n",
      "[[ 0.          0.32548974 -0.89366016]\n",
      " [ 0.00833333  0.32695257 -0.89007452]\n",
      " [ 0.01666667  0.32914537 -0.8852161 ]\n",
      " [ 0.025       0.33255154 -0.87876724]\n",
      " [ 0.03333333  0.33596793 -0.87038594]\n",
      " [ 0.04166667  0.33999239 -0.86028261]\n",
      " [ 0.05        0.34428248 -0.84801635]\n",
      " [ 0.05833333  0.34916279 -0.83337008]\n",
      " [ 0.06666667  0.35394446 -0.8171723 ]\n",
      " [ 0.075       0.35921595 -0.79869806]\n",
      " [ 0.08333333  0.36505462 -0.77872797]\n",
      " [ 0.09166667  0.37147365 -0.75701367]\n",
      " [ 0.1         0.37786341 -0.73339041]\n",
      " [ 0.10833333  0.38432812 -0.70873764]\n",
      " [ 0.11666667  0.39096239 -0.68246551]\n",
      " [ 0.125       0.39748432 -0.65558797]\n",
      " [ 0.13333333  0.40392292 -0.62766685]\n",
      " [ 0.14166667  0.41053474 -0.59928396]\n",
      " [ 0.15        0.41702437 -0.57096764]\n",
      " [ 0.15833333  0.42259627 -0.54243402]\n",
      " [ 0.16666667  0.42863629 -0.51415032]\n",
      " [ 0.175       0.43431932 -0.48628412]\n",
      " [ 0.18333333  0.43888407 -0.45903812]\n",
      " [ 0.19166667  0.44274009 -0.43309119]\n",
      " [ 0.2         0.44575187 -0.40922331]\n",
      " [ 0.20833333  0.44835547 -0.38834703]\n",
      " [ 0.21666667  0.45057881 -0.37094512]\n",
      " [ 0.225       0.4521774  -0.35821436]\n",
      " [ 0.23333333  0.45403927 -0.35029295]\n",
      " [ 0.24166667  0.45530277 -0.34655503]\n",
      " [ 0.25        0.45690555 -0.34639319]]\n"
     ]
    }
   ],
   "source": [
    "# parse the letter 'a'\n",
    "traj = temp_crt.parse_trajectory(\"D\")\n",
    "strokes = traj[0]\n",
    "t = strokes[0]\n",
    "x = strokes[1]\n",
    "y = strokes[2]\n",
    "stroke1 = strokes[:, 0:31]\n",
    "print(np.transpose(stroke1))\n",
    "stroke2 = strokes[:, 31:57]\n",
    "stroke3 = strokes[:, 57:]\n",
    "np.savetxt(\"stroke1.csv\", np.transpose(stroke1), delimiter=\",\")"
   ]
  },
  {
   "cell_type": "code",
   "execution_count": 3,
   "metadata": {},
   "outputs": [
    {
     "data": {
      "text/plain": [
       "Text(0, 0.5, 'y')"
      ]
     },
     "execution_count": 3,
     "metadata": {},
     "output_type": "execute_result"
    },
    {
     "data": {
      "image/png": "[encoded data removed]",
      "text/plain": [
       "<Figure size 500x300 with 1 Axes>"
      ]
     },
     "metadata": {
      "needs_background": "light"
     },
     "output_type": "display_data"
    }
   ],
   "source": [
    "# Plotting\n",
    "blk_ln = mlines.Line2D([], [], color='black', marker='_',\n",
    "                       markersize=15, label='measured')\n",
    "green_pt = mlines.Line2D([], [], color='green', marker='.',\n",
    "                         markersize=15, label='measured')\n",
    "red_pt = mlines.Line2D([], [], color='red', marker='.',\n",
    "                       markersize=15, label='predicted')\n",
    "yellow_ln = mlines.Line2D([], [], color='yellow', marker='_',\n",
    "                          markersize=15, label='error')\n",
    "\n",
    "fig, ax = plt.subplots()\n",
    "plt.title('1-Stroke Trajectory, \"D\" ')\n",
    "plt.grid(visible=1)\n",
    "plt.scatter(stroke1[1,:], stroke1[2,:])\n",
    "plt.xlabel('$x$', labelpad=0)\n",
    "plt.ylabel('y', labelpad=0)\n",
    "\n",
    "# fig, ax = plt.subplots()\n",
    "# plt.title('Speed Profile')\n",
    "# plt.title('1-Stroke Trajectory, \"Incorrect\" Estimate')\n",
    "# plt.grid(visible=1)\n",
    "# plt.plot(xex, yex, c='k')\n",
    "# plt.scatter(xre2, yre2, c='r')\n",
    "# plt.xlabel('$x$', labelpad=0)\n",
    "# plt.ylabel('y', labelpad=0)"
   ]
  },
  {
   "cell_type": "code",
   "execution_count": 4,
   "metadata": {},
   "outputs": [],
   "source": [
    "# # Import csv file\n",
    "# file = open('example.csv')\n",
    "# columns = [\"time\", \"x\", \"y\"]\n",
    "# dex = pd.read_csv(\"example.csv\", usecols=columns)\n",
    "# tex = dex.time.tolist()\n",
    "# xex = dex.x.tolist()\n",
    "# yex = dex.y.tolist()\n",
    "\n",
    "# file = open('result.csv')\n",
    "# columns = [\"time\", \"x\", \"y\"]\n",
    "# dre = pd.read_csv(\"result.csv\", usecols=columns)\n",
    "# tre = dre.time.tolist()\n",
    "# xre = dre.x.tolist()\n",
    "# yre = dre.y.tolist()\n",
    "\n",
    "# file = open('result2.csv')\n",
    "# columns = [\"time\", \"x\", \"y\"]\n",
    "# dre2 = pd.read_csv(\"result2.csv\", usecols=columns)\n",
    "# tre2 = dre2.time.tolist()\n",
    "# xre2 = dre2.x.tolist()\n",
    "# yre2 = dre2.y.tolist()\n",
    "\n",
    "# # trajectory_generator = TrajectoryGenerator(**parameters)\n",
    "# # trajectory, strokes = trajectory_generator.generate_trajectory()\n",
    "# # maxima = trajectory_generator.extract_strokes()\n",
    "\n",
    "# # # print(trajectory)\n",
    "\n",
    "# # # print(maxima)\n",
    "\n",
    "# # velocity = trajectory_generator.velocity()\n",
    "###########################################################################\n",
    "\n",
    "# plt.scatter(px, py, c='g')\n",
    "# plt.scatter(Xx, Xy, c='r')\n",
    "# for i in range(len(px)):\n",
    "#     lineXdata = (px[i], px[i])  # same X\n",
    "#     lineYdata = (py[i], Xy[i])  # different Y\n",
    "#     plt.plot(lineXdata, lineYdata, c='y')\n",
    "# plt.xlabel('$x$', labelpad=0)\n",
    "# plt.ylabel('y', labelpad=0)\n",
    "# ax.set_box_aspect(1)\n",
    "# plt.legend(handles=[blk_ln, green_pt, red_pt],\n",
    "#            bbox_to_anchor=(1.05, 1), loc=2, borderaxespad=0.)\n",
    "\n",
    "# fig, axs = plt.subplots(2, sharex=True)\n",
    "# fig.suptitle('X and Y vs Time')\n",
    "# axs[0].grid()\n",
    "# axs[0].scatter(tm, px, c='g')\n",
    "# axs[0].scatter(tm, Xx, c='r')\n",
    "# for i in range(len(px)):\n",
    "#     lineXdata = (tm[i], tm[i])  # same X\n",
    "#     lineYdata = (px[i], Xx[i])  # different Y\n",
    "#     axs[0].plot(lineXdata, lineYdata, c='y')\n",
    "# axs[0].set(xlabel='$t$', ylabel='x')\n",
    "# axs[1].grid()\n",
    "# axs[1].scatter(tm, py, c='g')\n",
    "# axs[1].scatter(tm, Xy, c='r')\n",
    "# for i in range(len(py)):\n",
    "#     lineXdata = (tm[i], tm[i])  # same X\n",
    "#     lineYdata = (py[i], Xy[i])  # different Y\n",
    "#     axs[1].plot(lineXdata, lineYdata, c='y')\n",
    "# axs[1].set(xlabel='$t$', ylabel='y')\n",
    "# plt.legend(handles=[green_pt, red_pt, yellow_ln],\n",
    "#            loc='right')\n",
    "\n",
    "# fig, ax = plt.subplots()\n",
    "# plt.title('Speed Profile')\n",
    "# plt.grid(visible=1)\n",
    "# for i, s in enumerate(strokes):\n",
    "#     plt.fill_between(t, 0, s, where=s > 0, facecolor='grey', alpha=0.5)\n",
    "# plt.plot(t, velocity, 'k')\n",
    "# plt.scatter(tm, v, c='g')\n",
    "# plt.scatter(tm, V, c='r')\n",
    "# for i in range(len(px)):\n",
    "#     lineXdata = (tm[i], tm[i])  # same X\n",
    "#     lineYdata = (v[i], V[i])  # different Y\n",
    "#     plt.plot(lineXdata, lineYdata, c='y')\n",
    "# plt.xlabel('$t$', labelpad=0)\n",
    "# plt.ylabel('speed', labelpad=0)\n",
    "# ax.set_box_aspect(1)\n",
    "# plt.legend(handles=[blk_ln, green_pt, red_pt, yellow_ln],\n",
    "#            bbox_to_anchor=(1.05, 1), loc=2, borderaxespad=0.)"
   ]
  }
 ],
 "metadata": {
  "interpreter": {
   "hash": "558604a386a08b755e338e53c64746a46b195689c26271921b35d01bfd9b8c64"
  },
  "kernelspec": {
   "display_name": "Python 3.9.6 64-bit ('gtsam': conda)",
   "name": "python3"
  },
  "language_info": {
   "codemirror_mode": {
    "name": "ipython",
    "version": 3
   },
   "file_extension": ".py",
   "mimetype": "text/x-python",
   "name": "python",
   "nbconvert_exporter": "python",
   "pygments_lexer": "ipython3",
   "version": "3.9.7"
  },
  "metadata": {
   "interpreter": {
    "hash": "56faf2608bd7395c2ca9e7dc550cb81edf567bff87061f72d7d9ac4a6aaf3131"
   }
  },
  "orig_nbformat": 2
 },
 "nbformat": 4,
 "nbformat_minor": 2
}
