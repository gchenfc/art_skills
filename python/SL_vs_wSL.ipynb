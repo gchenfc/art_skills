{
 "cells": [
  {
   "cell_type": "code",
   "execution_count": 1,
   "metadata": {},
   "outputs": [],
   "source": [
    "from art_skills.wSL_trajectory_generator import TrajectoryGenerator\n",
    "from art_skills.wSL_trajectory_generator import SL_TG\n",
    "from art_skills.wSL_stroke_generator import StrokeGenerator\n",
    "import numpy as np\n",
    "import matplotlib.pyplot as plt\n",
    "# py.offline.init_notebook_mode(connected=True)\n"
   ]
  },
  {
   "cell_type": "code",
   "execution_count": 2,
   "metadata": {},
   "outputs": [],
   "source": [
    "# wSL\n",
    "parameters = {\"dt\": 0.01, \n",
    "              \"t_points\": np.array([[0,0], [50, 0]]).T,\n",
    "              \"delta\": np.array([0.0]),\n",
    "              \"Ac\": np.array([0.05]),\n",
    "              \"delta_t\": np.array([0.0]), \n",
    "              \"T\": 0.5}\n",
    "\n",
    "strokegen = StrokeGenerator()\n",
    "wsl_sigma = strokegen.sigma(parameters[\"Ac\"])\n",
    "wsl_mu = strokegen.mu(wsl_sigma, parameters[\"T\"])\n",
    "wsl_t0, wsl_t = strokegen.t0_t(parameters[\"dt\"], wsl_sigma, wsl_mu, parameters[\"T\"], parameters[\"delta_t\"])\n",
    "\n",
    "trajectory_generator = TrajectoryGenerator(**parameters)\n",
    "wsl_trajectory, wsl_strokes = trajectory_generator.generate_trajectory()\n",
    "maxima = trajectory_generator.extract_strokes()\n",
    "\n",
    "#print(trajectory)\n",
    "\n",
    "#print(maxima)\n",
    "\n",
    "velocity = trajectory_generator.velocity()\n",
    "#SL = np.multiply(velocity[0:5], 1/D[0][0])\n",
    "#print(SL)"
   ]
  },
  {
   "cell_type": "code",
   "execution_count": 3,
   "metadata": {},
   "outputs": [],
   "source": [
    "# SL\n",
    "p0 = np.array([[-0.000127670365896, -4.43650781626e-15], [-0.000127670365896 + 49.9993834018, -4.43650781626e-15]])\n",
    "dt = 0.01\n",
    "t0 = np.array([-0.172941819298])\n",
    "D = np.array([49.9993834018])\n",
    "th1 = -9.59385979009e-16\n",
    "th2 = 1.41346260438e-15\n",
    "theta = np.array([0])\n",
    "sigma = np.array([0.226449091217])\n",
    "mu = np.array([-1.07548267662])\n",
    "TG = SL_TG(p0, dt, t0, D, th1, th2, theta, sigma, mu)\n",
    "trajectory, strokes, t = TG.generate_trajectory()\n"
   ]
  },
  {
   "cell_type": "code",
   "execution_count": 11,
   "metadata": {},
   "outputs": [
    {
     "data": {
      "text/plain": [
       "Text(0.5, 0, '$t$')"
      ]
     },
     "execution_count": 11,
     "metadata": {},
     "output_type": "execute_result"
    },
    {
     "data": {
      "image/png": "[encoded data removed]",
      "text/plain": [
       "<Figure size 576x216 with 3 Axes>"
      ]
     },
     "metadata": {
      "needs_background": "light"
     },
     "output_type": "display_data"
    }
   ],
   "source": [
    "fig1 = plt.figure(figsize=(8,3))\n",
    "plt.subplot(131)\n",
    "#plt.scatter(t_points[0,:], t_points[1,:], c='k')\n",
    "plt.plot(wsl_t, wsl_trajectory[0,:], 'g')\n",
    "plt.plot(t, wsl_trajectory[0,:], 'r--')\n",
    "plt.xlabel('$t$', labelpad=0)\n",
    "\n",
    "plt.subplot(132)\n",
    "plt.plot(wsl_t, trajectory[1,:], 'g')\n",
    "plt.plot(t, trajectory[1,:], 'r--')\n",
    "plt.xlabel('$t$', labelpad=0)\n",
    "\n",
    "plt.subplot(133)\n",
    "for i, s in enumerate(wsl_strokes):\n",
    "    plt.fill_between(wsl_t, 0, s, where=s>0, facecolor='g', alpha=0.25)\n",
    "plt.plot(wsl_t, velocity, 'g')\n",
    "\n",
    "for i, s in enumerate(strokes):\n",
    "    plt.fill_between(t, 0, s, where=s>0, facecolor='r', alpha=0.25)\n",
    "plt.plot(t, velocity, 'r--')\n",
    "plt.xlabel('$t$', labelpad=0)"
   ]
  }
 ],
 "metadata": {
  "interpreter": {
   "hash": "558604a386a08b755e338e53c64746a46b195689c26271921b35d01bfd9b8c64"
  },
  "kernelspec": {
   "display_name": "Python 3.9.6 64-bit ('gtsam': conda)",
   "name": "python3"
  },
  "language_info": {
   "codemirror_mode": {
    "name": "ipython",
    "version": 3
   },
   "file_extension": ".py",
   "mimetype": "text/x-python",
   "name": "python",
   "nbconvert_exporter": "python",
   "pygments_lexer": "ipython3",
   "version": "3.9.7"
  },
  "metadata": {
   "interpreter": {
    "hash": "56faf2608bd7395c2ca9e7dc550cb81edf567bff87061f72d7d9ac4a6aaf3131"
   }
  },
  "orig_nbformat": 2
 },
 "nbformat": 4,
 "nbformat_minor": 2
}
