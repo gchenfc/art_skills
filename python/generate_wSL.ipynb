{
 "cells": [
  {
   "cell_type": "code",
   "execution_count": 1,
   "metadata": {},
   "outputs": [],
   "source": [
    "from art_skills.wSL_trajectory_generator import TrajectoryGenerator\n",
    "from art_skills.wSL_stroke_generator import StrokeGenerator\n",
    "import numpy as np\n",
    "import matplotlib.pyplot as plt\n",
    "# py.offline.init_notebook_mode(connected=True)"
   ]
  },
  {
   "cell_type": "code",
   "execution_count": 2,
   "metadata": {},
   "outputs": [],
   "source": [
    "# GTSAM SLN Unit Testing\n",
    "parameters = {\"dt\": 0.01, \n",
    "              \"t_points\": np.array([[0,0], [50, 0], [100,0]]).T,\n",
    "              \"delta\": np.array([0.0, 0.0]),\n",
    "              \"Ac\": np.array([0.05, 0.05]),\n",
    "              \"delta_t\": np.array([0.0, 0.4]), \n",
    "              \"T\": 0.5}\n",
    "\n",
    "strokegen = StrokeGenerator()\n",
    "sigma = strokegen.sigma(parameters[\"Ac\"])\n",
    "mu = strokegen.mu(sigma, parameters[\"T\"])\n",
    "#print(\"sigma\", sigma)\n",
    "#print(\"mu\", mu)\n",
    "t0, t = strokegen.t0_t(parameters[\"dt\"], sigma, mu, parameters[\"T\"], parameters[\"delta_t\"])\n",
    "#print(\"t0\", t0)\n",
    "# D =  strokegent.D_theta(parameters[\"t_points\"], parameters[\"delta\"])\n",
    "# print(\"D\", D[0])\n",
    "# th1 = 1\n",
    "# print(\"th1\", th1)\n",
    "# th2 = 1\n",
    "# print(\"th2\", th2)\n",
    "\n",
    "\n",
    "# Berio Code\n",
    "# parameters = {\"dt\": 0.01, \n",
    "#                 \"t_points\": np.array([[0,0], [-50, 100], [100,70], [-40, 120]]).T,\n",
    "#                 \"delta\": np.array([0.3, 0.3, 0.3]), \n",
    "#                 \"Ac\": np.array([0.05, 0.05, 0.05]),\n",
    "#                 \"delta_t\": np.array([0.4, 0.4, 0.4]), \n",
    "#                 \"T\": 0.3}\n",
    "              # note: period is for each stroke, with endtime being calculated as t0[0] + t[-1] + period\n",
    "\n",
    "# Letter G\n",
    "    # parameters = {\"dt\": 0.01,\n",
    "    #               \"t_points\": np.array([[0,0], [-100,100], [-200,-100], [-100,-300], [0,-100], [-100,-100]]).T,\n",
    "    #               \"delta\": np.array([0.4, 0.4, 0.4, 0.4, 0.4]), \n",
    "    #               \"Ac\": np.array([0.05, 0.05, 0.05, 0.05, 0.05]),\n",
    "    #               \"delta_t\": np.array([0.3, 0.3, 0.3, 0.3, 0.7]), \n",
    "    #               \"T\": 0.8}\n",
    "\n",
    "# Fig 8. Djioua08EPM\n",
    "    #parameters = {\"dt\": 0.01, \"t_points\": np.array([[25,18], [6,4], [8,5.5]]).T, \"delta\": np.array([-0.5, 0.5]), \"Ac\": np.array([0.043949, 0.1082468]), \"delta_t\": np.array([0, 0]), \"T\": 0.4}\n",
    "    #parameters = {\"dt\": 0.01, \"t_points\": np.array([[25,18], [6,4], [8,5.5]]), \"delta\": [-0.5, 0.5], \"Ac\": [0.043949, 0.1082468], \"delta_t\": [0, 0], \"T\": [0.5, 0.2]}\n",
    "\n",
    "t_points = parameters[\"t_points\"]\n",
    "trajectory_generator = TrajectoryGenerator(**parameters)\n",
    "trajectory, strokes = trajectory_generator.generate_trajectory()\n",
    "maxima = trajectory_generator.extract_strokes()\n",
    "\n",
    "#print(trajectory)\n",
    "\n",
    "#print(maxima)\n",
    "\n",
    "velocity = trajectory_generator.velocity()\n",
    "#SL = np.multiply(velocity[0:5], 1/D[0][0])\n",
    "#print(SL)"
   ]
  },
  {
   "cell_type": "code",
   "execution_count": 3,
   "metadata": {},
   "outputs": [
    {
     "name": "stdout",
     "output_type": "stream",
     "text": [
      "unit x [0.14819899]\n",
      "[0.05 array([1.50799612]) array([0.])]\n",
      "[0.1 array([8.11741321]) array([0.])]\n",
      "[0.15 array([20.21929084]) array([0.])]\n",
      "[0.2 array([32.72157755]) array([0.])]\n",
      "[0.25 array([42.94530815]) array([0.])]\n",
      "[0.34 array([65.78952532]) array([0.])]\n",
      "[0.39 array([79.7163996]) array([0.])]\n",
      "[0.44 array([89.78552592]) array([0.])]\n",
      "[0.49 array([95.47698334]) array([0.])]\n",
      "[0.54 array([98.17967079]) array([0.])]\n",
      "[8.07040837]\n"
     ]
    },
    {
     "name": "stderr",
     "output_type": "stream",
     "text": [
      "<ipython-input-3-e902408d6984>:11: VisibleDeprecationWarning: Creating an ndarray from ragged nested sequences (which is a list-or-tuple of lists-or-tuples-or ndarrays with different lengths or shapes) is deprecated. If you meant to do this, you must specify 'dtype=object' when creating the ndarray.\n",
      "  new_meas = np.array([timeval, ptx, pty])\n",
      "<ipython-input-3-e902408d6984>:18: VisibleDeprecationWarning: Creating an ndarray from ragged nested sequences (which is a list-or-tuple of lists-or-tuples-or ndarrays with different lengths or shapes) is deprecated. If you meant to do this, you must specify 'dtype=object' when creating the ndarray.\n",
      "  new_meas = np.array([timeval, ptx, pty])\n"
     ]
    },
    {
     "data": {
      "text/plain": [
       "Text(0, 0.5, 'speed')"
      ]
     },
     "execution_count": 3,
     "metadata": {},
     "output_type": "execute_result"
    },
    {
     "data": {
      "image/png": "[encoded data removed]",
      "text/plain": [
       "<Figure size 576x216 with 3 Axes>"
      ]
     },
     "metadata": {
      "needs_background": "light"
     },
     "output_type": "display_data"
    }
   ],
   "source": [
    "timeval = round(0.01, 2)\n",
    "index = np.where(t == timeval)\n",
    "ptx = trajectory[0, index[0]]\n",
    "print(\"unit x\", ptx)\n",
    "\n",
    "for i in range(5):\n",
    "    timeval = round(0.05*(i+1), 2)\n",
    "    index = np.where(t == timeval)\n",
    "    ptx = trajectory[0, index[0]]\n",
    "    pty = trajectory[1, index[0]]\n",
    "    new_meas = np.array([timeval, ptx, pty])\n",
    "    print(new_meas)\n",
    "for i in range(5):\n",
    "    timeval = round(0.29 + 0.05*(i+1), 2)\n",
    "    index = np.where(t == timeval)\n",
    "    ptx = trajectory[0, index[0]]\n",
    "    pty = trajectory[1, index[0]]\n",
    "    new_meas = np.array([timeval, ptx, pty])\n",
    "    print(new_meas)\n",
    "\n",
    "timeval = round(0.01)\n",
    "index = np.where(t == timeval)\n",
    "vel = velocity[index[0]]\n",
    "\n",
    "fig = plt.figure(figsize=(8,3))\n",
    "plt.subplot(131)\n",
    "#plt.scatter(t_points[0,:], t_points[1,:], c='k')\n",
    "plt.plot(t, trajectory[0,:])\n",
    "plt.subplot(132)\n",
    "plt.plot(t, trajectory[1,:])\n",
    "\n",
    "plt.subplot(133)\n",
    "for i, s in enumerate(strokes):\n",
    "    plt.fill_between(t, 0, s, where=s>0, facecolor='c', alpha=0.5)\n",
    "\n",
    "plt.plot(t, velocity, 'k')\n",
    "plt.xlabel('$t$', labelpad=0)\n",
    "plt.ylabel('speed', labelpad=0)"
   ]
  }
 ],
 "metadata": {
  "interpreter": {
   "hash": "558604a386a08b755e338e53c64746a46b195689c26271921b35d01bfd9b8c64"
  },
  "kernelspec": {
   "display_name": "Python 3.9.6 64-bit ('gtsam': conda)",
   "name": "python3"
  },
  "language_info": {
   "codemirror_mode": {
    "name": "ipython",
    "version": 3
   },
   "file_extension": ".py",
   "mimetype": "text/x-python",
   "name": "python",
   "nbconvert_exporter": "python",
   "pygments_lexer": "ipython3",
   "version": "3.9.7"
  },
  "metadata": {
   "interpreter": {
    "hash": "56faf2608bd7395c2ca9e7dc550cb81edf567bff87061f72d7d9ac4a6aaf3131"
   }
  },
  "orig_nbformat": 2
 },
 "nbformat": 4,
 "nbformat_minor": 2
}
