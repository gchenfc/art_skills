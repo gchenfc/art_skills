{
 "cells": [
  {
   "cell_type": "markdown",
   "metadata": {},
   "source": [
    "See also:\n",
    "* [GML Spec](https://fffff.at/gml/)\n",
    "* [javascript canvas player example](https://jamiedubs.com/canvasplayer/?random), and [source](https://github.com/jamiew/canvasplayer)"
   ]
  },
  {
   "cell_type": "code",
   "execution_count": null,
   "metadata": {},
   "outputs": [],
   "source": [
    "import json\n",
    "from pathlib import Path\n",
    "\n",
    "import load_gml\n",
    "import matplotlib.pyplot as plt\n",
    "import numpy as np\n",
    "import tqdm.notebook as tqdm\n",
    "from load_gml import Drawing\n",
    "\n",
    "%load_ext autoreload\n",
    "%autoreload 2"
   ]
  },
  {
   "cell_type": "code",
   "execution_count": null,
   "metadata": {},
   "outputs": [],
   "source": [
    "# Download (or use cached file)\n",
    "drawing = load_gml.get_from_blackbook(30083, verbosity=3)\n",
    "\n",
    "# Draw\n",
    "def draw_tag(ax, drawing: Drawing):\n",
    "    for stroke in drawing.strokes:\n",
    "        ax.plot(stroke[:, 1], stroke[:, 2], 'k-')\n",
    "        ax.axis('equal')\n",
    "    ax.set_title(f\"Tag {drawing.id} {drawing.raw_dict['gml']['tag']['environment']['up']}\")\n",
    "\n",
    "fig, ax = plt.subplots(figsize=(2, 2))\n",
    "draw_tag(ax, drawing)"
   ]
  },
  {
   "cell_type": "code",
   "execution_count": null,
   "metadata": {},
   "outputs": [],
   "source": [
    "FOLDER = Path('data/gml')\n",
    "sorted_fnames = reversed(sorted(FOLDER.glob('*.json'), key=lambda x: int(x.with_suffix('').name)))\n",
    "katsu_fnames = load_gml.filter_by_application(sorted_fnames)\n",
    "drawings = map(load_gml.Drawing, katsu_fnames)\n",
    "\n",
    "# display(next(jsons))"
   ]
  },
  {
   "cell_type": "code",
   "execution_count": null,
   "metadata": {},
   "outputs": [],
   "source": [
    "fig, axes = plt.subplots(5, 5, figsize=(15, 10))\n",
    "for drawing, ax in zip(drawings, reversed(axes.flatten())):\n",
    "    draw_tag(ax, drawing)\n",
    "fig.tight_layout()"
   ]
  },
  {
   "cell_type": "code",
   "execution_count": null,
   "metadata": {},
   "outputs": [],
   "source": []
  }
 ],
 "metadata": {
  "kernelspec": {
   "display_name": "Python 3.9.15 ('base')",
   "language": "python",
   "name": "python3"
  },
  "language_info": {
   "codemirror_mode": {
    "name": "ipython",
    "version": 3
   },
   "file_extension": ".py",
   "mimetype": "text/x-python",
   "name": "python",
   "nbconvert_exporter": "python",
   "pygments_lexer": "ipython3",
   "version": "3.9.15"
  },
  "orig_nbformat": 4,
  "vscode": {
   "interpreter": {
    "hash": "402f513bd64bb05ccdfd11315d0c88453571d1d1d73db48414a1b2a41f771ebc"
   }
  }
 },
 "nbformat": 4,
 "nbformat_minor": 2
}
