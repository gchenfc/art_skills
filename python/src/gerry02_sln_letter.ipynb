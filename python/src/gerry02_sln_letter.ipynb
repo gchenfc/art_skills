{
 "cells": [
  {
   "cell_type": "code",
   "execution_count": null,
   "metadata": {},
   "outputs": [],
   "source": [
    "import numpy as np\n",
    "import scipy.signal\n",
    "import matplotlib\n",
    "import matplotlib.pyplot as plt\n",
    "from IPython.display import HTML\n",
    "import tqdm\n",
    "import sln_letter_fit\n",
    "from sln_letter_fit import FitParams\n",
    "from sln_stroke_fit import OptimizationLoggingParams\n",
    "\n",
    "%load_ext autoreload\n",
    "%autoreload 1\n",
    "%aimport sln_letter_fit"
   ]
  },
  {
   "cell_type": "markdown",
   "metadata": {},
   "source": [
    "# Conventions:\n",
    "\n",
    "* Trajectory - full set of points from pen down to pen up\n",
    "* Stroke - subset of trajectory segmented by velocity curve\n",
    "* Segment - either a stroke or trajectory, depending on context"
   ]
  },
  {
   "cell_type": "markdown",
   "metadata": {},
   "source": [
    "# Loading and Plotting Utilities"
   ]
  },
  {
   "cell_type": "code",
   "execution_count": null,
   "metadata": {},
   "outputs": [],
   "source": [
    "DT = 1./120\n",
    "def load_letter(letter='D'):\n",
    "    with np.load('../all_letters.npz', allow_pickle=True) as data:\n",
    "        return data[letter]\n",
    "def split_trajectory(trajectory, debug=False):\n",
    "    v = np.diff(trajectory[:, 1:], axis=0)\n",
    "    speed2 = np.sum(np.square(v), axis=1)\n",
    "    speed2_smooth = scipy.signal.savgol_filter(speed2, 5, 1)\n",
    "    # find local minima in speeds\n",
    "    splits, _ = scipy.signal.find_peaks(-speed2_smooth, width=0.02 * 120)\n",
    "    splits = list(filter(lambda i: i > 0.05 * 120, splits))\n",
    "\n",
    "    if debug:\n",
    "        plt.subplot(121)\n",
    "        # plt.plot(speed2, 'k-')\n",
    "        plt.plot(speed2_smooth, '-', linewidth=1)\n",
    "        plt.plot(splits, speed2[splits], 'r*')\n",
    "        plt.subplot(122)\n",
    "        plt.plot(trajectory[:, 1], trajectory[:, 2])\n",
    "        plt.plot(trajectory[splits, 1], trajectory[splits, 2], 'r*')\n",
    "\n",
    "    splits = [0, *splits, trajectory.shape[0] - 1]\n",
    "    return [trajectory[begin:end, :] for begin, end in zip(splits[:-1], splits[1:])]\n",
    "def trajectory2strokes(trajectory, debug=False):\n",
    "    t = np.arange(0, trajectory.shape[0] * DT, DT).reshape(-1, 1)\n",
    "    return split_trajectory(np.hstack((t, trajectory)), debug=debug)\n",
    "def load_segments(letter='D', index=1, debug=False):\n",
    "    \"\"\" If index is None, load all trajectories.\n",
    "        If index is an int, load all the strokes in that one trajectory.\"\"\"\n",
    "    letter_data = load_letter(letter)\n",
    "    if index is None:  # return all strokes\n",
    "        return [trajectory2strokes(letter_data[i], debug=debug) for i in range(1, len(letter_data), 2)]\n",
    "    return trajectory2strokes(letter_data[index], debug=debug)\n",
    "# Debug:\n",
    "# load_segments('A', 1, debug=True);\n",
    "for letter in 'ABCD':\n",
    "    plt.figure(figsize=(10, 5))\n",
    "    load_segments(letter, index=None, debug=True);\n",
    "    plt.show()"
   ]
  },
  {
   "cell_type": "code",
   "execution_count": null,
   "metadata": {},
   "outputs": [],
   "source": [
    "def plot_trajectory(ax, strokes, sol, iteration_number=None):\n",
    "    txy_gt = np.vstack(strokes)\n",
    "    txy_params = sol['txy_from_params']\n",
    "    ax.plot(txy_gt[:, 1], txy_gt[:, 2], 'k.', label='Mocap data')\n",
    "    colors = 'rgb'\n",
    "    for i, (begin, end) in enumerate(sol['stroke_indices'].values()):\n",
    "        color = colors[i % 3]\n",
    "        ax.plot(txy_params[begin:end, 1], txy_params[begin:end, 2], color + '-', \\\n",
    "                label='Optimized SLN curve', linewidth=1)\n",
    "        ax.plot(sol['txy'][begin:end, 1], sol['txy'][begin:end, 2], color + '.')\n",
    "    def expand_range(vec, padding=0.1):\n",
    "        l, h = np.min(vec), np.max(vec)\n",
    "        return l - (h - l) * padding, h + (h - l) * padding\n",
    "    ax.axis('equal')\n",
    "    ax.set_xlim(*expand_range(txy_gt[:, 1]))\n",
    "    ax.set_ylim(*expand_range(txy_gt[:, 2]))\n",
    "    # ax.set_aspect('equal', adjustable='box')\n",
    "    if iteration_number is not None:\n",
    "        ax.text(0.05, 0.9, 'Iter {:}'.format(iteration_number), transform=ax.transAxes)\n",
    "    # Display params on plot:\n",
    "    text = '\\n'.join('params: {:}'.format(np.round(params, 2)) for params in sol['params'])\n",
    "    text_box = matplotlib.offsetbox.AnchoredText(text,\n",
    "                                                 frameon=True,\n",
    "                                                 loc='lower right',\n",
    "                                                 pad=0.3,\n",
    "                                                 bbox_to_anchor=(1, 0),\n",
    "                                                 bbox_transform=ax.transAxes,\n",
    "                                                 borderpad=0,\n",
    "                                                 prop=dict(size=9))\n",
    "    text_box.patch.set_alpha(0.4)\n",
    "    ax.add_artist(text_box)\n",
    "    ax.legend(loc='upper right')\n",
    "def plot_letter(ax, trajectories, sols):\n",
    "    for strokes, sol in zip(trajectories, sols):\n",
    "        plot_trajectory(ax, strokes, sol)\n",
    "    ax.get_legend().remove()\n",
    "animation_oversample = 1\n",
    "save_animation_fname = None\n",
    "def animate_trajectories(ax, trajectories, sols_and_histories):\n",
    "    def update(i):\n",
    "        ax.cla()\n",
    "        for strokes, (_, history) in zip(trajectories, sols_and_histories):\n",
    "            plot_trajectory(ax, strokes, history[min(i, len(history) - 1)], iteration_number=i)\n",
    "        ax.get_legend().remove()\n",
    "        ax.axis('equal')\n",
    "\n",
    "    max_iterations = max(len(history) for _, history in sols_and_histories)\n",
    "    with tqdm.notebook.trange(0, max_iterations, animation_oversample) as progress_bar:\n",
    "        progress_bar.set_description('Creating Animation')\n",
    "        ani = matplotlib.animation.FuncAnimation(fig, update, frames=progress_bar)\n",
    "        if save_animation_fname is not None:\n",
    "            print(\"Saving animation...\")\n",
    "            ani.save(save_animation_fname, writer=matplotlib.animation.FFMpegWriter(fps=60))\n",
    "            print(\"Saved.\")\n",
    "            progress_bar.reset()\n",
    "        return HTML(ani.to_jshtml())"
   ]
  },
  {
   "cell_type": "code",
   "execution_count": null,
   "metadata": {},
   "outputs": [],
   "source": [
    "# Convenience functions to both fit and plot at the same time\n",
    "def fit_and_plot_trajectory(ax, strokes, max_iters: int, log_history: bool, pbar_description: str):\n",
    "    sol, history, fitter, _ = sln_letter_fit.fit_letter(\n",
    "        strokes,\n",
    "        fit_params=FitParams(max_iters=max_iters, initialization_strategy_params=' :D '),\n",
    "        optimization_logging_params=OptimizationLoggingParams(\n",
    "            log_optimization_values=log_history,\n",
    "            progress_bar_class=tqdm.tqdm_notebook,\n",
    "            progress_bar_description=pbar_description))\n",
    "    plot_trajectory(ax, strokes, sol)\n",
    "    return sol, history\n",
    "\n",
    "def fit_and_plot_trajectories(ax,\n",
    "                        letter,\n",
    "                        num_strokes=None,\n",
    "                        trajectory_indices=(0,),\n",
    "                        max_iters=100,\n",
    "                        log_history=False,\n",
    "                        animate=False):\n",
    "    \"\"\"\n",
    "    Returns:\n",
    "        sols_and_histories:\n",
    "            For each trajectory,\n",
    "                Returns 2-tuple of sol, history\n",
    "    \"\"\"\n",
    "    all_trajectories = load_segments(letter, index=None)\n",
    "    if trajectory_indices is not None:\n",
    "        all_trajectories = [all_trajectories[i] for i in trajectory_indices]\n",
    "    all_returns = []\n",
    "    for traji, strokes in enumerate(all_trajectories):\n",
    "        if num_strokes is None:\n",
    "            num_strokes = len(strokes)\n",
    "        sol, history = fit_and_plot_trajectory(\n",
    "            ax,\n",
    "            strokes[:num_strokes],\n",
    "            max_iters,\n",
    "            log_history or animate,\n",
    "            pbar_description='Fitting Letter {:}, traj {:}'.format(letter, traji))\n",
    "        all_returns.append((sol, history))\n",
    "    if animate:\n",
    "        return all_returns, animate_trajectories(ax, all_trajectories, all_returns)\n",
    "    return all_returns"
   ]
  },
  {
   "cell_type": "markdown",
   "metadata": {},
   "source": [
    "# Fit and Plot the letter 'D'"
   ]
  },
  {
   "cell_type": "code",
   "execution_count": null,
   "metadata": {},
   "outputs": [],
   "source": [
    "# Don't use convenience function, so that we can see more clearly what's going on\n",
    "strokes = load_segments('D', 1)\n",
    "sol, history, fitter, _ = sln_letter_fit.fit_letter(\n",
    "    strokes,\n",
    "    fit_params=FitParams(max_iters=50, initialization_strategy_params=' :D '),\n",
    "    optimization_logging_params=OptimizationLoggingParams(log_optimization_values=False,\n",
    "                                                          progress_bar_class=tqdm.tqdm_notebook))\n",
    "fig, ax = plt.subplots()\n",
    "plot_trajectory(ax, strokes, sol, iteration_number=len(history))\n",
    "plt.show()"
   ]
  },
  {
   "cell_type": "code",
   "execution_count": null,
   "metadata": {},
   "outputs": [],
   "source": [
    "fig, ax = plt.subplots()\n",
    "_, anim = fit_and_plot_trajectories(ax, 'D', num_strokes=None, max_iters=50, animate=True)\n",
    "plt.close()\n",
    "anim"
   ]
  },
  {
   "cell_type": "markdown",
   "metadata": {},
   "source": [
    "# Playing around"
   ]
  },
  {
   "cell_type": "code",
   "execution_count": null,
   "metadata": {},
   "outputs": [],
   "source": [
    "# Plot the hole in the letter \"A\"\n",
    "fit_and_plot_trajectories(ax,\n",
    "                          'A',\n",
    "                          num_strokes=3,\n",
    "                          trajectory_indices=[1],\n",
    "                          max_iters=100,\n",
    "                          animate=True)[1]"
   ]
  },
  {
   "cell_type": "code",
   "execution_count": null,
   "metadata": {},
   "outputs": [],
   "source": [
    "animation_oversample = 1\n",
    "save_animation_fname = 'data/optimization_animation_C_allstrokes.mp4'\n",
    "fig, ax = plt.subplots(figsize=(5, 4))\n",
    "_, anim = fit_and_plot_trajectories(ax,\n",
    "                                    'C',\n",
    "                                    num_strokes=None,\n",
    "                                    trajectory_indices=(0,),\n",
    "                                    max_iters=250,\n",
    "                                    log_history=True,\n",
    "                                    animate=True)\n",
    "save_animation_fname = None\n",
    "plt.close()\n",
    "anim"
   ]
  },
  {
   "cell_type": "markdown",
   "metadata": {},
   "source": [
    "# Fit and plot lots of letters"
   ]
  },
  {
   "cell_type": "code",
   "execution_count": null,
   "metadata": {},
   "outputs": [],
   "source": [
    "def fit_and_plot_letters(letters, **kwargs):\n",
    "    fig, axes = plt.subplots(1, len(letters), figsize=(25, 5))\n",
    "    for ax, letter in zip(axes, letters):\n",
    "        fit_and_plot_trajectories(ax, letter, **kwargs) # animate doesn't work\n",
    "        ax.get_legend().remove()\n",
    "        ax.axis('equal')"
   ]
  },
  {
   "cell_type": "code",
   "execution_count": null,
   "metadata": {},
   "outputs": [],
   "source": [
    "fit_and_plot_letters('ABCD', num_strokes=None, trajectory_indices=None, max_iters=250)"
   ]
  },
  {
   "cell_type": "code",
   "execution_count": null,
   "metadata": {},
   "outputs": [],
   "source": [
    "# initializations:\n",
    "fit_and_plot_letters('ABCD', num_strokes=None, trajectory_indices=None, max_iters=1)"
   ]
  },
  {
   "cell_type": "code",
   "execution_count": null,
   "metadata": {},
   "outputs": [],
   "source": [
    "animation_oversample = 10\n",
    "for letter in 'ABCDE':\n",
    "    save_animation_fname = 'data/optimization_animation_{:}_allstrokes_fast.mp4'.format(letter)\n",
    "    fig, ax = plt.subplots(figsize=(5, 4))\n",
    "    _, anim = fit_and_plot_trajectories(ax,\n",
    "                                        letter,\n",
    "                                        num_strokes=None,\n",
    "                                        # trajectory_indices=(0,),\n",
    "                                        trajectory_indices=None,\n",
    "                                        max_iters=250,\n",
    "                                        log_history=True,\n",
    "                                        animate=True)\n",
    "    save_animation_fname = None\n",
    "    plt.close()"
   ]
  },
  {
   "cell_type": "code",
   "execution_count": null,
   "metadata": {},
   "outputs": [],
   "source": []
  }
 ],
 "metadata": {
  "interpreter": {
   "hash": "402f513bd64bb05ccdfd11315d0c88453571d1d1d73db48414a1b2a41f771ebc"
  },
  "kernelspec": {
   "display_name": "Python 3.9.6 ('base')",
   "language": "python",
   "name": "python3"
  },
  "language_info": {
   "codemirror_mode": {
    "name": "ipython",
    "version": 3
   },
   "file_extension": ".py",
   "mimetype": "text/x-python",
   "name": "python",
   "nbconvert_exporter": "python",
   "pygments_lexer": "ipython3",
   "version": "3.9.6"
  },
  "orig_nbformat": 4
 },
 "nbformat": 4,
 "nbformat_minor": 2
}
