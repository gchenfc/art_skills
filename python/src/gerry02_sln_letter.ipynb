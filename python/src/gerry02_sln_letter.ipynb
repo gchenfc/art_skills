{
 "cells": [
  {
   "cell_type": "code",
   "execution_count": null,
   "metadata": {},
   "outputs": [],
   "source": [
    "import numpy as np\n",
    "import matplotlib\n",
    "import matplotlib.pyplot as plt\n",
    "from IPython.display import HTML\n",
    "import tqdm\n",
    "import sln_letter_fit\n",
    "from sln_letter_fit import FitParams, OptimizationLoggingParams\n",
    "import loader, plotting\n",
    "\n",
    "%load_ext autoreload\n",
    "%autoreload 1\n",
    "%aimport sln_letter_fit, loader, plotting"
   ]
  },
  {
   "cell_type": "markdown",
   "metadata": {},
   "source": [
    "# Conventions:\n",
    "\n",
    "* Trajectory - full set of points from pen down to pen up\n",
    "* Stroke - subset of trajectory segmented by velocity curve\n",
    "* Segment - either a stroke or trajectory, depending on context"
   ]
  },
  {
   "cell_type": "markdown",
   "metadata": {},
   "source": [
    "# Fit and Plot the letter 'D'"
   ]
  },
  {
   "cell_type": "code",
   "execution_count": null,
   "metadata": {},
   "outputs": [],
   "source": [
    "# Don't use convenience function, so that we can see more clearly what's going on\n",
    "strokes = loader.load_segments('D', 1)\n",
    "sol, history, fitter, _ = sln_letter_fit.fit_trajectory(\n",
    "    strokes,\n",
    "    fit_params=FitParams(max_iters=50, initialization_strategy_params=' :D '),\n",
    "    optimization_logging_params=OptimizationLoggingParams(log_optimization_values=False,\n",
    "                                                          progress_bar_class=tqdm.tqdm_notebook))\n",
    "fig, ax = plt.subplots()\n",
    "plotting.plot_trajectory(ax, strokes, sol, iteration_number=len(history))\n",
    "plt.show()"
   ]
  },
  {
   "cell_type": "code",
   "execution_count": null,
   "metadata": {},
   "outputs": [],
   "source": [
    "# Use convenience function - it should give the same result\n",
    "fig, ax = plt.subplots()\n",
    "_, anim = sln_letter_fit.fit_and_plot_trajectories(ax,\n",
    "                                                   'D',\n",
    "                                                   num_strokes=None,\n",
    "                                                   max_iters=50,\n",
    "                                                   animate=True)\n",
    "plt.close()\n",
    "HTML(anim.to_jshtml())"
   ]
  },
  {
   "cell_type": "markdown",
   "metadata": {},
   "source": [
    "# Playing around"
   ]
  },
  {
   "cell_type": "code",
   "execution_count": null,
   "metadata": {},
   "outputs": [],
   "source": [
    "# Plot the hole in the letter \"A\"\n",
    "_, anim = sln_letter_fit.fit_and_plot_trajectories(ax,\n",
    "                                                   'A',\n",
    "                                                   num_strokes=3,\n",
    "                                                   trajectory_indices=[1],\n",
    "                                                   max_iters=100,\n",
    "                                                   animate=True)\n",
    "HTML(anim.to_jshtml())\n"
   ]
  },
  {
   "cell_type": "code",
   "execution_count": null,
   "metadata": {},
   "outputs": [],
   "source": [
    "fig, ax = plt.subplots(figsize=(5, 4))\n",
    "_, anim = sln_letter_fit.fit_and_plot_trajectories(\n",
    "    ax,\n",
    "    'C',\n",
    "    num_strokes=None,\n",
    "    trajectory_indices=(0,),\n",
    "    max_iters=250,\n",
    "    log_history=True,\n",
    "    animate=True,\n",
    "    animation_oversample=1,\n",
    "    save_animation_fname='data/optimization_animation_C_allstrokes.mp4')\n",
    "plt.close()\n",
    "HTML(anim.to_jshtml())"
   ]
  },
  {
   "cell_type": "markdown",
   "metadata": {},
   "source": [
    "# Fit and plot lots of letters"
   ]
  },
  {
   "cell_type": "code",
   "execution_count": null,
   "metadata": {},
   "outputs": [],
   "source": [
    "def fit_and_plot_letters(letters, **kwargs):\n",
    "    fig, axes = plt.subplots(1, len(letters), figsize=(25, 5))\n",
    "    for ax, letter in zip(axes, letters):\n",
    "        fit_and_plot_trajectories(ax, letter, **kwargs) # animate doesn't work\n",
    "        ax.get_legend().remove()\n",
    "        ax.axis('equal')"
   ]
  },
  {
   "cell_type": "code",
   "execution_count": null,
   "metadata": {},
   "outputs": [],
   "source": [
    "fit_and_plot_letters('ABCD', num_strokes=None, trajectory_indices=None, max_iters=250)"
   ]
  },
  {
   "cell_type": "code",
   "execution_count": null,
   "metadata": {},
   "outputs": [],
   "source": [
    "# initializations:\n",
    "fit_and_plot_letters('ABCD', num_strokes=None, trajectory_indices=None, max_iters=1)"
   ]
  },
  {
   "cell_type": "code",
   "execution_count": null,
   "metadata": {},
   "outputs": [],
   "source": [
    "animation_oversample = 10\n",
    "for letter in 'ABCDE':\n",
    "    save_animation_fname = 'data/optimization_animation_{:}_allstrokes_fast.mp4'.format(letter)\n",
    "    fig, ax = plt.subplots(figsize=(5, 4))\n",
    "    _, anim = fit_and_plot_trajectories(ax,\n",
    "                                        letter,\n",
    "                                        num_strokes=None,\n",
    "                                        # trajectory_indices=(0,),\n",
    "                                        trajectory_indices=None,\n",
    "                                        max_iters=250,\n",
    "                                        log_history=True,\n",
    "                                        animate=True)\n",
    "    save_animation_fname = None\n",
    "    plt.close()"
   ]
  }
 ],
 "metadata": {
  "interpreter": {
   "hash": "402f513bd64bb05ccdfd11315d0c88453571d1d1d73db48414a1b2a41f771ebc"
  },
  "kernelspec": {
   "display_name": "Python 3.9.6 ('base')",
   "language": "python",
   "name": "python3"
  },
  "language_info": {
   "codemirror_mode": {
    "name": "ipython",
    "version": 3
   },
   "file_extension": ".py",
   "mimetype": "text/x-python",
   "name": "python",
   "nbconvert_exporter": "python",
   "pygments_lexer": "ipython3",
   "version": "3.9.6"
  },
  "orig_nbformat": 4
 },
 "nbformat": 4,
 "nbformat_minor": 2
}
