{
 "cells": [
  {
   "cell_type": "code",
   "execution_count": null,
   "metadata": {},
   "outputs": [],
   "source": [
    "import numpy as np\n",
    "import matplotlib\n",
    "import matplotlib.pyplot as plt\n",
    "from IPython.display import HTML\n",
    "import tqdm\n",
    "import sln_letter_fit\n",
    "from sln_letter_fit import FitParams, OptimizationLoggingParams\n",
    "import loader, plotting\n",
    "\n",
    "%load_ext autoreload\n",
    "%autoreload 1\n",
    "%aimport sln_letter_fit, loader, plotting"
   ]
  },
  {
   "cell_type": "markdown",
   "metadata": {},
   "source": [
    "# Conventions:\n",
    "\n",
    "* Trajectory - full set of points from pen down to pen up\n",
    "* Stroke - subset of trajectory segmented by velocity curve\n",
    "* Segment - either a stroke or trajectory, depending on context"
   ]
  },
  {
   "cell_type": "markdown",
   "metadata": {},
   "source": [
    "# Fit and Plot the letter 'D'"
   ]
  },
  {
   "cell_type": "code",
   "execution_count": null,
   "metadata": {},
   "outputs": [],
   "source": [
    "# Don't use convenience function, so that we can see more clearly what's going on\n",
    "strokes = loader.load_segments('D', 1)\n",
    "sol, history, fitter, _ = sln_letter_fit.fit_trajectory(\n",
    "    strokes,\n",
    "    fit_params=FitParams(max_iters=50, initialization_strategy_params=' :D '),\n",
    "    optimization_logging_params=OptimizationLoggingParams(log_optimization_values=False,\n",
    "                                                          progress_bar_class=tqdm.tqdm_notebook))\n",
    "fig, ax = plt.subplots()\n",
    "plotting.plot_trajectory(ax, strokes, sol, iteration_number=len(history))\n",
    "plt.show()"
   ]
  },
  {
   "cell_type": "code",
   "execution_count": null,
   "metadata": {},
   "outputs": [],
   "source": [
    "# Use convenience function - it should give the same result\n",
    "fig, ax = plt.subplots()\n",
    "_, anim = sln_letter_fit.fit_and_plot_trajectories(ax,\n",
    "                                                   'D',\n",
    "                                                   num_strokes=None,\n",
    "                                                   max_iters=50,\n",
    "                                                   animate=True)\n",
    "plt.close()\n",
    "HTML(anim.to_jshtml())"
   ]
  },
  {
   "cell_type": "markdown",
   "metadata": {},
   "source": [
    "# Playing around"
   ]
  },
  {
   "cell_type": "code",
   "execution_count": null,
   "metadata": {},
   "outputs": [],
   "source": [
    "# Plot the hole in the letter \"A\"\n",
    "_, anim = sln_letter_fit.fit_and_plot_trajectories(ax,\n",
    "                                                   'A',\n",
    "                                                   num_strokes=3,\n",
    "                                                   trajectory_indices=[1],\n",
    "                                                   max_iters=100,\n",
    "                                                   animate=True)\n",
    "HTML(anim.to_jshtml())\n"
   ]
  },
  {
   "cell_type": "code",
   "execution_count": null,
   "metadata": {},
   "outputs": [],
   "source": [
    "fig, ax = plt.subplots(figsize=(5, 4))\n",
    "_, anim = sln_letter_fit.fit_and_plot_trajectories(\n",
    "    ax,\n",
    "    'C',\n",
    "    num_strokes=None,\n",
    "    trajectory_indices=(0,),\n",
    "    max_iters=250,\n",
    "    log_history=True,\n",
    "    animate=True,\n",
    "    animation_oversample=1,\n",
    "    save_animation_fname='data/optimization_animation_C_allstrokes.mp4')\n",
    "plt.close()\n",
    "HTML(anim.to_jshtml())"
   ]
  },
  {
   "cell_type": "markdown",
   "metadata": {},
   "source": [
    "# Fit and plot lots of letters"
   ]
  },
  {
   "cell_type": "code",
   "execution_count": null,
   "metadata": {},
   "outputs": [],
   "source": [
    "def fit_and_plot_letters(letters, **kwargs):\n",
    "    fig, axes = plt.subplots(1, len(letters), figsize=(25, 5))\n",
    "    for ax, letter in zip(axes, letters):\n",
    "        sln_letter_fit.fit_and_plot_trajectories(ax, letter, **kwargs) # animate doesn't work\n",
    "        ax.axis('equal')"
   ]
  },
  {
   "cell_type": "code",
   "execution_count": null,
   "metadata": {},
   "outputs": [],
   "source": [
    "fit_and_plot_letters('ABCD', num_strokes=None, trajectory_indices=None, max_iters=250)"
   ]
  },
  {
   "cell_type": "code",
   "execution_count": null,
   "metadata": {},
   "outputs": [],
   "source": [
    "# initializations:\n",
    "fit_and_plot_letters('ABCD', num_strokes=None, trajectory_indices=None, max_iters=0)"
   ]
  },
  {
   "cell_type": "code",
   "execution_count": null,
   "metadata": {},
   "outputs": [],
   "source": [
    "animation_oversample = 10\n",
    "for letter in 'ABCDE':\n",
    "    save_animation_fname = 'data/optimization_animation_{:}_allstrokes_fast.mp4'.format(letter)\n",
    "    fig, ax = plt.subplots(figsize=(5, 4))\n",
    "    _, anim = fit_and_plot_trajectories(ax,\n",
    "                                        letter,\n",
    "                                        num_strokes=None,\n",
    "                                        # trajectory_indices=(0,),\n",
    "                                        trajectory_indices=None,\n",
    "                                        max_iters=250,\n",
    "                                        log_history=True,\n",
    "                                        animate=True)\n",
    "    save_animation_fname = None\n",
    "    plt.close()"
   ]
  },
  {
   "cell_type": "code",
   "execution_count": 92,
   "metadata": {},
   "outputs": [
    {
     "data": {
      "application/vnd.jupyter.widget-view+json": {
       "model_id": "fd63a04c0a434828b590f3337c1da536",
       "version_major": 2,
       "version_minor": 0
      },
      "text/plain": [
       "  0%|          | 0/26 [00:00<?, ?it/s]"
      ]
     },
     "metadata": {},
     "output_type": "display_data"
    }
   ],
   "source": [
    "# Combine all letters into a single video\n",
    "import cv2\n",
    "\n",
    "w_, h_ = 500, 400\n",
    "w, h = w_ * 7, h_ * 4\n",
    "T = 101\n",
    "imgs = np.ones((T, h, w, 3), dtype=np.uint8) * 255\n",
    "\n",
    "for i, letter in enumerate(tqdm.notebook.tqdm('ABCDEFGHIJKLMNOPQRSTUVWXYZ')):\n",
    "    xi, yi = i % 7, i // 7\n",
    "    x, y = xi * w_, yi * h_\n",
    "    vid = cv2.VideoCapture('data/optimization_animation_{:}_allstrokes_fast.mp4'.format(letter))\n",
    "    for k in range(T):\n",
    "        success, frame = vid.read()\n",
    "        if success:\n",
    "            imgs[k, y:y + h_, x:x + w_, :] = frame\n",
    "\n",
    "fps = 30\n",
    "out = cv2.VideoWriter('data/optimization_animation_all_allstrokes_fast.mp4', cv2.VideoWriter_fourcc(*'mp4v'), fps, (w, h), True)\n",
    "for frame in imgs:\n",
    "    out.write(frame)\n",
    "out.release()\n",
    "out = None"
   ]
  }
 ],
 "metadata": {
  "interpreter": {
   "hash": "402f513bd64bb05ccdfd11315d0c88453571d1d1d73db48414a1b2a41f771ebc"
  },
  "kernelspec": {
   "display_name": "Python 3.9.6 ('base')",
   "language": "python",
   "name": "python3"
  },
  "language_info": {
   "codemirror_mode": {
    "name": "ipython",
    "version": 3
   },
   "file_extension": ".py",
   "mimetype": "text/x-python",
   "name": "python",
   "nbconvert_exporter": "python",
   "pygments_lexer": "ipython3",
   "version": "3.9.6"
  },
  "orig_nbformat": 4
 },
 "nbformat": 4,
 "nbformat_minor": 2
}
