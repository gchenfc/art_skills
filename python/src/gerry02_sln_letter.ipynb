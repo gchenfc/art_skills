{
 "cells": [
  {
   "cell_type": "code",
   "execution_count": null,
   "metadata": {},
   "outputs": [],
   "source": [
    "import numpy as np\n",
    "import scipy.signal\n",
    "import matplotlib.pyplot as plt\n",
    "import tqdm\n",
    "import sln_letter_fit\n",
    "from sln_letter_fit import FitParams\n",
    "from sln_stroke_fit import OptimizationLoggingParams\n",
    "\n",
    "%load_ext autoreload\n",
    "%autoreload 1\n",
    "%aimport sln_letter_fit"
   ]
  },
  {
   "cell_type": "markdown",
   "metadata": {},
   "source": [
    "# Loading and Plotting Utilities"
   ]
  },
  {
   "cell_type": "code",
   "execution_count": null,
   "metadata": {},
   "outputs": [],
   "source": [
    "DT = 1./120\n",
    "def load_letter(letter='D'):\n",
    "    with np.load('../all_letters.npz', allow_pickle=True) as data:\n",
    "        return data[letter]\n",
    "def split_curve(curve, debug=False):\n",
    "    v = np.diff(curve[:, 1:], axis=0)\n",
    "    speed2 = np.sum(np.square(v), axis=1)\n",
    "    speed2_smooth = scipy.signal.savgol_filter(speed2, 5, 1)\n",
    "    # find local minima in speeds\n",
    "    splits, _ = scipy.signal.find_peaks(-speed2_smooth, width=0.02 * 120)\n",
    "\n",
    "    if debug:\n",
    "        plt.subplot(121)\n",
    "        # plt.plot(speed2, 'k-')\n",
    "        plt.plot(speed2_smooth, '-', linewidth=1)\n",
    "        plt.plot(splits, speed2[splits], 'r*')\n",
    "        plt.subplot(122)\n",
    "        plt.plot(curve[:, 1], curve[:, 2])\n",
    "        plt.plot(curve[splits, 1], curve[splits, 2], 'r*')\n",
    "\n",
    "    splits = [0, *splits, curve.shape[0] - 1]\n",
    "    return [curve[begin:end, :] for begin, end in zip(splits[:-1], splits[1:])]\n",
    "def curve2strokes(curve, debug=False):\n",
    "    t = np.arange(0, curve.shape[0] * DT, DT).reshape(-1, 1)\n",
    "    return split_curve(np.hstack((t, curve)), debug=debug)\n",
    "def load_strokes(letter='D', index=1, debug=False):\n",
    "    letter_data = load_letter(letter)\n",
    "    if index is None:  # return all strokes\n",
    "        return [curve2strokes(letter_data[i], debug=debug) for i in range(1, len(letter_data), 2)]\n",
    "    return curve2strokes(letter_data[index], debug=debug)\n",
    "# Debug:\n",
    "# load_strokes('A', 1, debug=True);\n",
    "plt.figure(figsize=(10, 5))\n",
    "load_strokes('A', index=None, debug=True);\n",
    "plt.show()"
   ]
  },
  {
   "cell_type": "code",
   "execution_count": null,
   "metadata": {},
   "outputs": [],
   "source": [
    "def plot_letter(ax, strokes, sol):\n",
    "    txy_gt = np.vstack(strokes)\n",
    "    txy_params = sol['txy_from_params']\n",
    "    ax.plot(txy_gt[:, 1], txy_gt[:, 2], 'k.', label='Mocap data')\n",
    "    ax.plot(txy_params[:, 1], txy_params[:, 2], 'r-', label='Optimized SLN curve', linewidth=1)\n",
    "    ax.plot(sol['txy'][:, 1], sol['txy'][:, 2], 'r.')\n",
    "    ax.axis('equal')\n",
    "    ax.legend()"
   ]
  },
  {
   "cell_type": "markdown",
   "metadata": {},
   "source": [
    "# Fit and Plot the letter 'D'"
   ]
  },
  {
   "cell_type": "code",
   "execution_count": null,
   "metadata": {},
   "outputs": [],
   "source": [
    "strokes = load_strokes('D', 1)"
   ]
  },
  {
   "cell_type": "code",
   "execution_count": null,
   "metadata": {},
   "outputs": [],
   "source": [
    "sol, history, fitter, _ = sln_letter_fit.fit_letter(\n",
    "    strokes,\n",
    "    fit_params=FitParams(max_iters=50),\n",
    "    optimization_logging_params=OptimizationLoggingParams(log_optimization_values=False,\n",
    "                                                          progress_bar_class=tqdm.tqdm_notebook))\n"
   ]
  },
  {
   "cell_type": "code",
   "execution_count": null,
   "metadata": {},
   "outputs": [],
   "source": [
    "fig, ax = plt.subplots()\n",
    "plot_letter(ax, strokes, sol)\n",
    "plt.show()"
   ]
  },
  {
   "cell_type": "code",
   "execution_count": null,
   "metadata": {},
   "outputs": [],
   "source": [
    "def fit_and_plot_letter(ax, letter, num_strokes=None, num_trajectories=1, max_iters=100):\n",
    "    all_trajectories = load_strokes(letter, index=None)\n",
    "    if num_trajectories is None:\n",
    "        num_trajectories = len(all_trajectories)\n",
    "    all_trajectories = all_trajectories[:min(num_trajectories, len(all_trajectories))]\n",
    "    for traji, strokes in enumerate(all_trajectories):\n",
    "        if num_strokes is None:\n",
    "            num_strokes = len(strokes)\n",
    "        sol, history, fitter, _ = sln_letter_fit.fit_letter(\n",
    "            strokes[:num_strokes],\n",
    "            fit_params=FitParams(max_iters=max_iters),\n",
    "            optimization_logging_params=OptimizationLoggingParams(\n",
    "                log_optimization_values=False,\n",
    "                progress_bar_class=tqdm.tqdm_notebook,\n",
    "                progress_bar_description='Fitting Letter {:}, stroke{:}'.format(letter, traji)))\n",
    "        plot_letter(ax, strokes, sol)\n",
    "    return sol\n",
    "# test\n",
    "fig, ax = plt.subplots()\n",
    "fit_and_plot_letter(ax, 'D', num_strokes=None, num_trajectories=None, max_iters=100);"
   ]
  },
  {
   "cell_type": "markdown",
   "metadata": {},
   "source": [
    "# Fit and plot lots of letters"
   ]
  },
  {
   "cell_type": "code",
   "execution_count": null,
   "metadata": {},
   "outputs": [],
   "source": [
    "def fit_and_plot_letters(letters, num_strokes=None, max_iters=25):\n",
    "    fig, axes = plt.subplots(1, len(letters), figsize=(20, 5))\n",
    "    for ax, letter in zip(axes, letters):\n",
    "        fit_and_plot_letter(ax, letter, num_strokes=num_strokes, max_iters=max_iters)\n",
    "fit_and_plot_letters('ABCD', 2, max_iters=100)"
   ]
  },
  {
   "cell_type": "code",
   "execution_count": null,
   "metadata": {},
   "outputs": [],
   "source": [
    "letter = 'A'\n",
    "strokes = load_strokes(letter)\n",
    "sol, history, fitter, _ = sln_letter_fit.fit_letter(\n",
    "    strokes,\n",
    "    fit_params=FitParams(max_iters=50),\n",
    "    optimization_logging_params=OptimizationLoggingParams(\n",
    "        log_optimization_values=False,\n",
    "        progress_bar_class=tqdm.tqdm_notebook,\n",
    "        progress_bar_description='Fitting Letter ' + letter))\n",
    "plot_letter(ax, strokes, sol)\n",
    "solutions[letter] = sol"
   ]
  }
 ],
 "metadata": {
  "interpreter": {
   "hash": "402f513bd64bb05ccdfd11315d0c88453571d1d1d73db48414a1b2a41f771ebc"
  },
  "kernelspec": {
   "display_name": "Python 3.9.6 ('base')",
   "language": "python",
   "name": "python3"
  },
  "language_info": {
   "codemirror_mode": {
    "name": "ipython",
    "version": 3
   },
   "file_extension": ".py",
   "mimetype": "text/x-python",
   "name": "python",
   "nbconvert_exporter": "python",
   "pygments_lexer": "ipython3",
   "version": "3.9.6"
  },
  "orig_nbformat": 4
 },
 "nbformat": 4,
 "nbformat_minor": 2
}
