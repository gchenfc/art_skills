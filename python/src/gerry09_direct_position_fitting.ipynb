{
 "cells": [
  {
   "cell_type": "code",
   "execution_count": null,
   "metadata": {},
   "outputs": [],
   "source": [
    "import numpy as np\n",
    "import matplotlib.pyplot as plt\n",
    "import tqdm.notebook as tqdm\n",
    "import gtsam\n",
    "from gtsam.symbol_shorthand import P, X\n",
    "from art_skills import ExpressionFactorPoint2, ExpressionDouble, ExpressionPoint2, DebugExpressionPoint2, DebugExpressionFactorPoint2\n",
    "from art_skills import SlnStrokeExpression2\n",
    "import loader\n",
    "import initialize_utils\n",
    "import utils\n",
    "from utils import Double_, Point2_, Time\n",
    "from fit_types import OptimizationLoggingParams, Solution\n",
    "import plotting2\n",
    "import sln_fit\n",
    "\n",
    "%load_ext autoreload\n",
    "%autoreload 2\n",
    "%aimport -numpy\n",
    "%aimport -matplotlib\n",
    "%aimport -tqdm\n",
    "%aimport -gtsam"
   ]
  },
  {
   "cell_type": "markdown",
   "metadata": {},
   "source": [
    "# Setup"
   ]
  },
  {
   "cell_type": "code",
   "execution_count": null,
   "metadata": {},
   "outputs": [],
   "source": [
    "# Constants\n",
    "noise_model = gtsam.noiseModel.Isotropic.Sigma(2, 1.0)\n",
    "# Data\n",
    "letter_data = loader.load_segments('D', index=None)\n",
    "trajectory_data = letter_data[0]\n",
    "stroke_data = trajectory_data[0]"
   ]
  },
  {
   "cell_type": "code",
   "execution_count": null,
   "metadata": {},
   "outputs": [],
   "source": [
    "# Debugging\n",
    "stroke = SlnStrokeExpression2(P(0))\n",
    "def create_debug_expression_cb(stroke, t, x, y, only_on_failure=True):\n",
    "    def debug_expression_cb(values, ret):\n",
    "        # if any(np.isnan(ret)):\n",
    "        #     print(f'(t, x, y) = ({t:.3f}, {x:.2f}, {y:.2f}), pred = {ret}, P = {values.atVector(P(0)).tolist()}, X = {values.atVector(X(0)).tolist()}')\n",
    "        if any (np.isnan(stroke.pos(t, x0=values.atPoint2(X(0)), values=values))):\n",
    "            print(stroke.pos(Double_(t), values.atPoint2(X(0)), 1e-2).value(values))\n",
    "    return debug_expression_cb"
   ]
  },
  {
   "cell_type": "markdown",
   "metadata": {},
   "source": [
    "# Fitting"
   ]
  },
  {
   "cell_type": "code",
   "execution_count": null,
   "metadata": {},
   "outputs": [],
   "source": [
    "sol = sln_fit.fit_stroke(stroke_data)"
   ]
  },
  {
   "cell_type": "code",
   "execution_count": null,
   "metadata": {},
   "outputs": [],
   "source": [
    "plotting2.plot_stroke(None, sol)"
   ]
  },
  {
   "cell_type": "code",
   "execution_count": null,
   "metadata": {},
   "outputs": [],
   "source": [
    "plotting2.plot_trajectory(None, sln_fit.fit_trajectory(trajectory_data))"
   ]
  },
  {
   "cell_type": "code",
   "execution_count": null,
   "metadata": {},
   "outputs": [],
   "source": [
    "with Time('fit letter'):\n",
    "    sol = sln_fit.fit_letter(letter_data)\n",
    "with Time('plot'):\n",
    "    plotting2.plot_letter(None, sol)"
   ]
  },
  {
   "cell_type": "code",
   "execution_count": null,
   "metadata": {},
   "outputs": [],
   "source": [
    "params = sln_fit.FitStrokeParams(\n",
    "    lm_params=utils.create_params(absoluteErrorTol=0, relativeErrorTol=0))\n",
    "fig, axes = plt.subplots(1, 5, figsize=(25, 5))\n",
    "all_sols = []\n",
    "with Time('Fit letters'):\n",
    "    for letter in 'ABCDE':\n",
    "        letter_data = loader.load_segments(letter, index=None)\n",
    "        all_sols.append(sln_fit.fit_letter(letter_data, fit_params=params))\n",
    "        break\n",
    "with Time('Plotting'):\n",
    "    for sol, ax in zip(all_sols, axes):\n",
    "        plotting2.plot_letter(ax, sol)"
   ]
  },
  {
   "cell_type": "code",
   "execution_count": null,
   "metadata": {},
   "outputs": [],
   "source": []
  },
  {
   "cell_type": "code",
   "execution_count": null,
   "metadata": {},
   "outputs": [],
   "source": []
  }
 ],
 "metadata": {
  "kernelspec": {
   "display_name": "Python 3.9.6 ('base')",
   "language": "python",
   "name": "python3"
  },
  "language_info": {
   "codemirror_mode": {
    "name": "ipython",
    "version": 3
   },
   "file_extension": ".py",
   "mimetype": "text/x-python",
   "name": "python",
   "nbconvert_exporter": "python",
   "pygments_lexer": "ipython3",
   "version": "3.9.6"
  },
  "orig_nbformat": 4,
  "vscode": {
   "interpreter": {
    "hash": "402f513bd64bb05ccdfd11315d0c88453571d1d1d73db48414a1b2a41f771ebc"
   }
  }
 },
 "nbformat": 4,
 "nbformat_minor": 2
}
