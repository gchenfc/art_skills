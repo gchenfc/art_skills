{
 "cells": [
  {
   "cell_type": "code",
   "execution_count": null,
   "metadata": {},
   "outputs": [],
   "source": [
    "import numpy as np\n",
    "import matplotlib.pyplot as plt\n",
    "import tqdm.notebook as tqdm\n",
    "import gtsam\n",
    "from gtsam.symbol_shorthand import P, X\n",
    "from art_skills import ExpressionFactorPoint2, ExpressionDouble, ExpressionPoint2, DebugExpressionPoint2, DebugExpressionFactorPoint2\n",
    "from art_skills import SlnStrokeExpression2\n",
    "import loader\n",
    "import initialize_utils\n",
    "import utils\n",
    "from utils import Double_, Point2_, Time\n",
    "from fit_types import OptimizationLoggingParams, Solution\n",
    "import plotting2\n",
    "import sln_fit\n",
    "\n",
    "%load_ext autoreload\n",
    "%autoreload 2\n",
    "%aimport -numpy\n",
    "%aimport -matplotlib\n",
    "%aimport -tqdm\n",
    "%aimport -gtsam"
   ]
  },
  {
   "cell_type": "markdown",
   "metadata": {},
   "source": [
    "# Setup"
   ]
  },
  {
   "cell_type": "code",
   "execution_count": null,
   "metadata": {},
   "outputs": [],
   "source": [
    "# Constants\n",
    "noise_model = gtsam.noiseModel.Isotropic.Sigma(2, 1.0)\n",
    "# Data\n",
    "letter_data = loader.load_segments('A', index=None)\n",
    "trajectory_data = letter_data[0]\n",
    "stroke_data = trajectory_data[1]"
   ]
  },
  {
   "cell_type": "code",
   "execution_count": null,
   "metadata": {},
   "outputs": [],
   "source": [
    "# Debugging\n",
    "stroke = SlnStrokeExpression2(P(0))\n",
    "def create_debug_expression_cb(stroke, t, x, y, only_on_failure=True):\n",
    "    def debug_expression_cb(values, ret):\n",
    "        # if any(np.isnan(ret)):\n",
    "        #     print(f'(t, x, y) = ({t:.3f}, {x:.2f}, {y:.2f}), pred = {ret}, P = {values.atVector(P(0)).tolist()}, X = {values.atVector(X(0)).tolist()}')\n",
    "        if any (np.isnan(stroke.pos(t, x0=values.atPoint2(X(0)), values=values))):\n",
    "            print(stroke.pos(Double_(t), values.atPoint2(X(0)), 1e-2).value(values))\n",
    "    return debug_expression_cb"
   ]
  },
  {
   "cell_type": "markdown",
   "metadata": {},
   "source": [
    "# Fitting - Minimum effort demos"
   ]
  },
  {
   "cell_type": "code",
   "execution_count": null,
   "metadata": {},
   "outputs": [],
   "source": [
    "plotting2.plot_stroke(None, sln_fit.fit_stroke(stroke_data))"
   ]
  },
  {
   "cell_type": "code",
   "execution_count": null,
   "metadata": {},
   "outputs": [],
   "source": [
    "fix, ax = plt.subplots(figsize=(10, 10))\n",
    "plotting2.plot_trajectory(ax, sln_fit.fit_trajectory(trajectory_data), disp_params=False)"
   ]
  },
  {
   "cell_type": "code",
   "execution_count": null,
   "metadata": {},
   "outputs": [],
   "source": [
    "with Time('fit letter'):\n",
    "    sol = sln_fit.fit_letter(letter_data)\n",
    "with Time('plot'):\n",
    "    plotting2.plot_letter(None, sol)"
   ]
  },
  {
   "cell_type": "code",
   "execution_count": null,
   "metadata": {},
   "outputs": [],
   "source": [
    "params = sln_fit.FitStrokeParams(\n",
    "    lm_params=utils.create_params(absoluteErrorTol=0, relativeErrorTol=0))\n",
    "fig, axes = plt.subplots(1, 5, figsize=(25, 5))\n",
    "all_sols = []\n",
    "with Time('Fit letters'):\n",
    "    for letter in 'ABCDE':\n",
    "        letter_data = loader.load_segments(letter, index=None)\n",
    "        all_sols.append(sln_fit.fit_letter(letter_data, fit_params=params))\n",
    "        break\n",
    "with Time('Plotting'):\n",
    "    for sol, ax in zip(all_sols, axes):\n",
    "        plotting2.plot_letter(ax, sol)"
   ]
  },
  {
   "cell_type": "markdown",
   "metadata": {},
   "source": [
    "# Experimentation"
   ]
  },
  {
   "cell_type": "markdown",
   "metadata": {},
   "source": [
    "## Weighting end-points higher\n",
    "\n",
    "Observe in the results of the next cell that:\n",
    "* W/ edge weighting looks better than w/o edge-weighting\n",
    "* Optimizing w/o edge weighting, but initializing with the solution from edge-weighting looks very similar to w/ edge weighting\n",
    "* The MSE (mean-squared-error) is actually lower w/o edge weighting! (even though it looks worse)"
   ]
  },
  {
   "cell_type": "code",
   "execution_count": null,
   "metadata": {},
   "outputs": [],
   "source": [
    "_, axes = plt.subplots(1,3,figsize=(10, 5))\n",
    "sol = sln_fit.fit_stroke(stroke_data,\n",
    "                         fit_params=sln_fit.FitStrokeParams(noise_model_connecting=None))\n",
    "plotting2.plot_stroke(axes[0], sol)\n",
    "axes[0].set_title('Default (without end-point constraints)')\n",
    "sol = sln_fit.fit_stroke(stroke_data,\n",
    "                         fit_params=sln_fit.FitStrokeParams(\n",
    "                             noise_model_connecting=gtsam.noiseModel.Isotropic.Sigma(2, 1e-2)))\n",
    "plotting2.plot_stroke(axes[1], sol)\n",
    "axes[1].set_title('With end-point constraints')\n",
    "sol = sln_fit.fit_stroke(stroke_data,\n",
    "                         fit_params=sln_fit.FitStrokeParams(noise_model_connecting=None),\n",
    "                         initial_guess=sol)\n",
    "plotting2.plot_stroke(axes[2], sol)\n",
    "axes[2].set_title('Without end-point constraints,\\nbut using initial guess w/ end-point constraints')"
   ]
  },
  {
   "cell_type": "markdown",
   "metadata": {},
   "source": [
    "## Random Restarts\n",
    "Question: what is the true global minimum?\n",
    "\n",
    "Let's try random-restarts:\n",
    "* Optimize using a random initialization\n",
    "* Repeat 100 times and take the best result"
   ]
  },
  {
   "cell_type": "code",
   "execution_count": null,
   "metadata": {},
   "outputs": [],
   "source": [
    "errors_and_sols = []\n",
    "for i in range(100):\n",
    "    init_guess = utils.ValuesFromDict({P(0): np.random.randn(6), X(0): np.random.randn(2)})\n",
    "    sol = sln_fit.fit_stroke(stroke_data,\n",
    "                             fit_params=sln_fit.FitStrokeParams(noise_model_connecting=None,\n",
    "                                                                lm_params=utils.create_params(\n",
    "                                                                    absoluteErrorTol=0,\n",
    "                                                                    maxIterations=500)),\n",
    "                             initial_guess=init_guess)\n",
    "    errors_and_sols.append((sln_fit.StrokeUtils.MSE(sol), i, sol)) # add `i` to tuple as tiebreaker"
   ]
  },
  {
   "cell_type": "code",
   "execution_count": null,
   "metadata": {},
   "outputs": [],
   "source": [
    "_, axes = plt.subplots(1, len(errors_and_sols) // 10, figsize=(40, 10))\n",
    "for ax, (_, _, sol) in zip(axes, sorted(errors_and_sols)[::10]):\n",
    "    plotting2.plot_stroke(ax, sol)\n",
    "    ax.get_legend().remove()"
   ]
  },
  {
   "cell_type": "code",
   "execution_count": null,
   "metadata": {},
   "outputs": [],
   "source": [
    "mses = [mse for mse, _, _ in errors_and_sols]\n",
    "bins = 10**np.linspace(np.log10(min(mses)), np.log10(max(mses)), 20)\n",
    "plt.xscale('log')\n",
    "plt.hist(mses, bins=bins);\n",
    "plt.xlabel('MSE')\n",
    "plt.ylabel('Number of trials')\n",
    "plt.title('Histogram of Final regression errors')"
   ]
  },
  {
   "cell_type": "code",
   "execution_count": null,
   "metadata": {},
   "outputs": [],
   "source": [
    "for mse, _, sol in sorted(errors_and_sols):\n",
    "    print('MSE: {:.5e}  Params: {:5.2f}  {:5.2f}  {:5.2f}  {:5.2f}  {:5.2f}  {:5.2f}'.format(mse, *sol['params']))\n",
    "sum(1 for mse, _, _ in errors_and_sols if mse < 1.1e-4)"
   ]
  },
  {
   "cell_type": "code",
   "execution_count": null,
   "metadata": {},
   "outputs": [],
   "source": []
  }
 ],
 "metadata": {
  "kernelspec": {
   "display_name": "Python 3.9.6 ('base')",
   "language": "python",
   "name": "python3"
  },
  "language_info": {
   "codemirror_mode": {
    "name": "ipython",
    "version": 3
   },
   "file_extension": ".py",
   "mimetype": "text/x-python",
   "name": "python",
   "nbconvert_exporter": "python",
   "pygments_lexer": "ipython3",
   "version": "3.9.6"
  },
  "orig_nbformat": 4,
  "vscode": {
   "interpreter": {
    "hash": "402f513bd64bb05ccdfd11315d0c88453571d1d1d73db48414a1b2a41f771ebc"
   }
  }
 },
 "nbformat": 4,
 "nbformat_minor": 2
}
