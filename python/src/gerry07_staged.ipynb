{
 "cells": [
  {
   "cell_type": "code",
   "execution_count": null,
   "metadata": {},
   "outputs": [],
   "source": [
    "import numpy as np\n",
    "import matplotlib\n",
    "import matplotlib.pyplot as plt\n",
    "from IPython.display import HTML\n",
    "import tqdm\n",
    "import gtsam\n",
    "from gtsam.symbol_shorthand import X, P\n",
    "import sln_letter_fit\n",
    "from sln_letter_fit import FitParams, OptimizationLoggingParams\n",
    "import loader, plotting\n",
    "\n",
    "%load_ext autoreload\n",
    "%autoreload 1\n",
    "%aimport sln_letter_fit, loader, plotting, sln_stroke_fit"
   ]
  },
  {
   "cell_type": "markdown",
   "metadata": {},
   "source": [
    "# Normal 1-stage (for reference)\n",
    "\n",
    "The fit still hasn't converged after 30 iterations"
   ]
  },
  {
   "cell_type": "code",
   "execution_count": null,
   "metadata": {},
   "outputs": [],
   "source": [
    "strokes = loader.load_segments('D', 1)\n",
    "sol, history, fitter, _ = sln_letter_fit.fit_trajectory(\n",
    "    strokes,\n",
    "    fit_params=FitParams(max_iters=30, initialization_strategy_params=' :D '),\n",
    "    optimization_logging_params=OptimizationLoggingParams(log_optimization_values=True,\n",
    "                                                          progress_bar_class=tqdm.tqdm_notebook))"
   ]
  },
  {
   "cell_type": "code",
   "execution_count": null,
   "metadata": {},
   "outputs": [],
   "source": [
    "fig, axes = plt.subplots(1, 4, figsize=(17, 5))\n",
    "plotting.plot_trajectory(axes[0], strokes, history[0], iteration_number=0)\n",
    "axes[0].set_title('Initial Guess')\n",
    "plotting.plot_trajectory(axes[1], strokes, history[15], iteration_number=15)\n",
    "axes[1].set_title('Optimization result after 15 iters')\n",
    "plotting.plot_trajectory(axes[2], strokes, sol, iteration_number=len(history) - 1)\n",
    "axes[2].set_title('Optimization result after 30 iters')\n",
    "plotting.plot_residuals(axes[3], strokes, history)\n",
    "plotting.plot_residuals(axes[3], strokes, history, relative=True)\n",
    "axes[3].set_title('Convergence')\n",
    "axes[3].legend()\n",
    "fig.suptitle('1-Stage Fit Results', fontsize=24)\n",
    "plt.show()"
   ]
  },
  {
   "cell_type": "markdown",
   "metadata": {},
   "source": [
    "# 2-stage solve\n",
    "We set the `noise_integration_std` very large during the first stage which is the equivalent of fitting just the velocity.\n",
    "\n",
    "The reason it's equivalent is because setting `noise_integration_std` very large will allow the integration node points (`X[k]` variables) to move directly to the data points after 1 iteration.  Then, the integration factors will try to match the `X[k]` displacements (which are now the same as the data point displacements).\n",
    "\n",
    "Finally, the second stage resets `noise_integration_std` to the original value to fit the position.\n",
    "\n",
    "We see from the results that this appears to have already converged by 30 iterations."
   ]
  },
  {
   "cell_type": "code",
   "execution_count": null,
   "metadata": {},
   "outputs": [],
   "source": [
    "strokes = loader.load_segments('D', 1)\n",
    "sol, history, fitter, _ = sln_letter_fit.fit_trajectory(\n",
    "    strokes,\n",
    "    fit_params=FitParams(max_iters=15,\n",
    "                         noise_integration_std=1e2,\n",
    "                         initialization_strategy_params=' :D '),\n",
    "    optimization_logging_params=OptimizationLoggingParams(log_optimization_values=True,\n",
    "                                                          progress_bar_class=tqdm.tqdm_notebook))\n",
    "param_inits = gtsam.Values()\n",
    "for parami, param in enumerate(sol['params']):\n",
    "    param_inits.insert(P(parami), param)\n",
    "sol2, history2, fitter, _ = sln_letter_fit.fit_trajectory(\n",
    "    strokes,\n",
    "    fit_params=FitParams(max_iters=15,\n",
    "                         noise_integration_std=1e-2,\n",
    "                         initialization_strategy_params=param_inits),\n",
    "    optimization_logging_params=OptimizationLoggingParams(log_optimization_values=True,\n",
    "                                                          progress_bar_class=tqdm.tqdm_notebook))"
   ]
  },
  {
   "cell_type": "code",
   "execution_count": null,
   "metadata": {},
   "outputs": [],
   "source": [
    "fig, axes = plt.subplots(1, 4, figsize=(17, 5))\n",
    "plotting.plot_trajectory(axes[0], strokes, history[0], iteration_number=0)\n",
    "axes[0].set_title('Initial Guess')\n",
    "plotting.plot_trajectory(axes[1], strokes, sol, iteration_number=len(history) - 1)\n",
    "axes[1].set_title('Optimization result after stage 1')\n",
    "plotting.plot_trajectory(axes[2], strokes, sol2, iteration_number=len(history) + len(history2) - 2)\n",
    "axes[2].set_title('Optimization result after stage 2')\n",
    "plotting.plot_residuals(axes[3], strokes, history + history2[1:])\n",
    "plotting.plot_residuals(axes[3], strokes, history + history2[1:], relative=True)\n",
    "axes[3].set_title('Convergence')\n",
    "axes[3].legend()\n",
    "fig.suptitle('2-Stage Fit Results', fontsize=24)\n",
    "plt.show()"
   ]
  },
  {
   "cell_type": "code",
   "execution_count": null,
   "metadata": {},
   "outputs": [],
   "source": [
    "fig, ax = plt.subplots(figsize=(6, 4))\n",
    "anim = plotting.animate_trajectories(ax, [strokes], [(sol2, history + history2)], is_notebook=True)\n",
    "plt.close()\n",
    "HTML(anim.to_jshtml())"
   ]
  },
  {
   "cell_type": "markdown",
   "metadata": {},
   "source": [
    "### Implement the 2-stage function in `sln_letter_fit` and \"test\" it here"
   ]
  },
  {
   "cell_type": "code",
   "execution_count": null,
   "metadata": {},
   "outputs": [],
   "source": [
    "sol, history, _, _ = sln_letter_fit.fit_trajectory_2_stage(\n",
    "    strokes,\n",
    "    fit_params=FitParams(max_iters=30, initialization_strategy_params=' :D '),\n",
    "    optimization_logging_params=OptimizationLoggingParams(log_optimization_values=True,\n",
    "                                                          progress_bar_class=tqdm.tqdm_notebook))\n",
    "fig, axes = plt.subplots(1, 2)\n",
    "plotting.plot_trajectory(axes[0], strokes, sol, iteration_number=len(history))\n",
    "plotting.plot_residuals(axes[1], strokes, history)\n",
    "plotting.plot_residuals(axes[1], strokes, history, relative=True)\n",
    "axes[1].legend()\n",
    "plt.show()\n"
   ]
  },
  {
   "cell_type": "code",
   "execution_count": null,
   "metadata": {},
   "outputs": [],
   "source": [
    "fig, ax = plt.subplots(figsize=(6, 4))\n",
    "anim = plotting.animate_trajectories(ax, [strokes], [(sol, history)], is_notebook=True)\n",
    "plt.close()\n",
    "HTML(anim.to_jshtml())"
   ]
  },
  {
   "cell_type": "code",
   "execution_count": null,
   "metadata": {},
   "outputs": [],
   "source": [
    "fig, ax = plt.subplots()\n",
    "_, anim = sln_letter_fit.fit_and_plot_trajectories(ax,\n",
    "                                                   'A',\n",
    "                                                   num_strokes=None,\n",
    "                                                   trajectory_indices=None,\n",
    "                                                   max_iters=30,\n",
    "                                                   animate=True)\n",
    "plt.close()\n",
    "HTML(anim.to_jshtml())"
   ]
  },
  {
   "cell_type": "code",
   "execution_count": null,
   "metadata": {},
   "outputs": [],
   "source": []
  }
 ],
 "metadata": {
  "interpreter": {
   "hash": "402f513bd64bb05ccdfd11315d0c88453571d1d1d73db48414a1b2a41f771ebc"
  },
  "kernelspec": {
   "display_name": "Python 3.9.6",
   "language": "python",
   "name": "python3"
  },
  "language_info": {
   "codemirror_mode": {
    "name": "ipython",
    "version": 3
   },
   "file_extension": ".py",
   "mimetype": "text/x-python",
   "name": "python",
   "nbconvert_exporter": "python",
   "pygments_lexer": "ipython3",
   "version": "3.9.6"
  },
  "orig_nbformat": 4
 },
 "nbformat": 4,
 "nbformat_minor": 2
}
