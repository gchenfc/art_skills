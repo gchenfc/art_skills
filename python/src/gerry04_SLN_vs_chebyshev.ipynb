{
 "cells": [
  {
   "cell_type": "code",
   "execution_count": null,
   "metadata": {},
   "outputs": [],
   "source": [
    "import numpy as np\n",
    "import matplotlib\n",
    "import matplotlib.pyplot as plt\n",
    "from IPython.display import HTML\n",
    "import tqdm\n",
    "import chebyshev_fitter\n",
    "import sln_letter_fit\n",
    "from sln_letter_fit import FitParams, OptimizationLoggingParams\n",
    "import loader, plotting\n",
    "\n",
    "%load_ext autoreload\n",
    "%autoreload 1\n",
    "%aimport chebyshev_fitter, sln_letter_fit, loader, plotting"
   ]
  },
  {
   "cell_type": "code",
   "execution_count": null,
   "metadata": {},
   "outputs": [],
   "source": [
    "# Util functions\n",
    "def error(strokes, sol):\n",
    "    err = np.vstack(strokes)[:, 1:] - sol['txy_from_params'][:, 1:]\n",
    "    return np.sqrt(np.mean(np.sum(np.square(err), axis=1), axis=0))"
   ]
  },
  {
   "cell_type": "markdown",
   "metadata": {},
   "source": [
    "# Fit trajectory"
   ]
  },
  {
   "cell_type": "code",
   "execution_count": null,
   "metadata": {},
   "outputs": [],
   "source": [
    "poly_orders = list(range(2, 5))\n",
    "fig, axes = plt.subplots(1, len(poly_orders) + 1, figsize=(20, 4))\n",
    "strokes = loader.load_segments('D', index=1)\n",
    "\n",
    "# Fit with Chebyshev\n",
    "for ax, poly_order in zip(axes, poly_orders):\n",
    "    sol, _, _, stroke_indices = chebyshev_fitter.fit_trajectory(strokes, p_order=poly_order)\n",
    "    print('Chebyshev (order {:}) RMSE: {:}'.format(poly_order, error(strokes, sol)))\n",
    "    plotting.plot_trajectory(ax, strokes, sol)\n",
    "    ax.set_title('Chebyshev (order {:}) Fit, RMSE = {:.5e}'.format(poly_order, error(strokes, sol)))\n",
    "\n",
    "# Fit with SLN\n",
    "sol, _ = sln_letter_fit.fit_and_plot_trajectory(axes[-1],\n",
    "                                                strokes,\n",
    "                                                max_iters=50,\n",
    "                                                log_history=False,\n",
    "                                                pbar_description='Fitting SLN')\n",
    "print('SLN RMSE: {:}'.format(error(strokes, sol)))\n",
    "axes[-1].set_title('SLN Fit, RMSE = {:.5e}'.format(error(strokes, sol)));"
   ]
  }
 ],
 "metadata": {
  "interpreter": {
   "hash": "402f513bd64bb05ccdfd11315d0c88453571d1d1d73db48414a1b2a41f771ebc"
  },
  "kernelspec": {
   "display_name": "Python 3.9.6 ('base')",
   "language": "python",
   "name": "python3"
  },
  "language_info": {
   "codemirror_mode": {
    "name": "ipython",
    "version": 3
   },
   "file_extension": ".py",
   "mimetype": "text/x-python",
   "name": "python",
   "nbconvert_exporter": "python",
   "pygments_lexer": "ipython3",
   "version": "3.9.6"
  },
  "orig_nbformat": 4
 },
 "nbformat": 4,
 "nbformat_minor": 2
}
