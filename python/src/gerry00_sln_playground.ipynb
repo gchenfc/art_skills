{
 "cells": [
  {
   "cell_type": "code",
   "execution_count": 1,
   "metadata": {},
   "outputs": [],
   "source": [
    "%matplotlib inline\n",
    "import numpy as np\n",
    "import matplotlib.pyplot as plt\n",
    "import ipywidgets as widgets\n",
    "from IPython.display import display\n",
    "from art_skills import SlnStrokeExpression\n",
    "import scipy.optimize"
   ]
  },
  {
   "cell_type": "markdown",
   "metadata": {},
   "source": [
    "## Computing SLN stroke speed and distance traveled\n",
    "$$ \\Lambda(t) = \\frac{1}{\\sigma\\sqrt{2\\pi}(t-t_0)} \\exp{\\left(-\\frac{(\\ln(t-t_0)-\\mu)^2}{2\\sigma^2}\\right)} $$"
   ]
  },
  {
   "cell_type": "code",
   "execution_count": 2,
   "metadata": {},
   "outputs": [],
   "source": [
    "def evaluate_speed(t, t0, D, th1, th2, sigma, mu):\n",
    "    t = np.maximum(t, t0 + 1e-9)\n",
    "    if False:   # use c++ wrapped version\n",
    "        sln_stroke = SlnStrokeExpression(t0, D, th1, th2, sigma, mu)\n",
    "        return np.array([sln_stroke.speed(t_) for t_ in t])\n",
    "    else:       # use numpy version\n",
    "        return D / (sigma * np.sqrt(2 * np.pi) * (t - t0)) * np.exp(-np.square(np.log(t - t0) - mu) /\n",
    "                                                                 (2 * sigma * sigma))\n",
    "def evaluate_position(t, t0, D, th1, th2, sigma, mu):\n",
    "    return np.hstack((0, np.cumsum(evaluate_speed(t, t0, D, th1, th2, sigma, mu)[1:] * np.diff(t))))"
   ]
  },
  {
   "cell_type": "markdown",
   "metadata": {},
   "source": [
    "## Plotting SLN strokes to gain intuition about parameters\n",
    "\n",
    "First make an interactive plot where we can drag sliders to change the SLN stroke parameters"
   ]
  },
  {
   "cell_type": "code",
   "execution_count": 3,
   "metadata": {},
   "outputs": [
    {
     "data": {
      "application/vnd.jupyter.widget-view+json": {
       "model_id": "841364e3d80e4be9bb8d30befb83d15f",
       "version_major": 2,
       "version_minor": 0
      },
      "text/plain": [
       "interactive(children=(FloatSlider(value=-0.1, description='t0', max=-1e-12, min=-5.0), FloatSlider(value=1.0, …"
      ]
     },
     "metadata": {},
     "output_type": "display_data"
    }
   ],
   "source": [
    "def plot_sln_single(t0, D, th1, th2, sigma, mu):\n",
    "    if True:  # this tries to cut off the curve at 90% of the probability density\n",
    "        import scipy.special\n",
    "        print(scipy.special.erfinv(0.9) * np.sqrt(2))\n",
    "        tmax = np.exp(mu + np.sqrt(2)*sigma * scipy.special.erfinv(0.9))*2\n",
    "        t = np.logspace(-5, np.log10(tmax), 100)\n",
    "    else:\n",
    "        # tmax = np.exp(1*sigma + mu) + t0\n",
    "        tmax = 10\n",
    "        t = np.logspace(-5, 1, 100)\n",
    "    v = evaluate_speed(t, t0, D, th1, th2, sigma, mu)\n",
    "    x = evaluate_position(t, t0, D, th1, th2, sigma, mu)\n",
    "\n",
    "    if D == 1:  # this is just a \"unit test check\" for computing the extremal point\n",
    "        tpeak_alt = np.exp(mu - sigma * sigma)\n",
    "        predicted_peak_speed = 1 / (sigma * np.sqrt(2 * np.pi) *\n",
    "                                    (tpeak_alt)) * np.exp(-0.5 * sigma * sigma)\n",
    "\n",
    "\n",
    "    plt.figure(figsize=(12, 4))\n",
    "    plt.subplot(131)\n",
    "    plt.plot(np.log(t - t0), v)\n",
    "    plt.xlim(-2.5, 2.5)\n",
    "    plt.xlim(-np.log(tmax-t0),np.log(tmax-t0))\n",
    "    plt.ylim(0, 1)\n",
    "    plt.title('Gaussian Curve: Speed vs ln(t-t0)')\n",
    "    plt.subplot(132)\n",
    "    plt.plot(t, v)\n",
    "    if D == 1:\n",
    "        plt.plot(tpeak_alt + t0, predicted_peak_speed, 'r*')\n",
    "    # plt.ylim(0, 1)\n",
    "    # plt.xlim(0, 0.6)\n",
    "    plt.title('Speed vs Time')\n",
    "    plt.subplot(133)\n",
    "    plt.plot(t, x)\n",
    "    # plt.xlim(0, 0.6)\n",
    "    # plt.ylim(0, 100)\n",
    "    plt.title('Distance Traveled vs Time')\n",
    "    plt.show()\n",
    "interactive_plot = widgets.interactive(plot_sln_single,\n",
    "                                       t0=widgets.FloatSlider(min=-5, max=-1e-12, value=-0.1),\n",
    "                                       D=widgets.FloatSlider(min=0, max=5, value=1),\n",
    "                                       th1=widgets.fixed(0),\n",
    "                                       th2=widgets.fixed(0),\n",
    "                                       sigma=widgets.FloatSlider(min=1e-12, max=2, value=1),\n",
    "                                       mu=widgets.FloatSlider(min=-5, max=5, value=0))\n",
    "\n",
    "output = interactive_plot.children[-1]\n",
    "output.layout.height = '350px'\n",
    "interactive_plot\n"
   ]
  },
  {
   "cell_type": "markdown",
   "metadata": {},
   "source": [
    "We notice that $D$ and $t_0$ are pretty obvious what their effects are, so let's just plot the a bunch of variations of $\\sigma, \\mu$ in a grid.\n",
    "\n",
    "Important kwargs are:\n",
    "* `normalize_x` - re-scales the x-axis so that the peak velocity occurs at 1/15 the way through the plot.\n",
    "* `normalize_y` - rescales the y-axis to capture 5% past the full range\n",
    "* `pos` - whether to plot position or velocity\n",
    "\n",
    "The next 2 cells plot speed and distance traveled, respectively"
   ]
  },
  {
   "cell_type": "code",
   "execution_count": null,
   "metadata": {},
   "outputs": [],
   "source": [
    "def plot_sln_speed_array(ax, t0, D, th1, th2, sigma, mu, normalize_x=True, normalize_y=True):\n",
    "    if normalize_x:\n",
    "        duration = 1\n",
    "        # tmax = -(np.log(1) - 2*sigma)\n",
    "        tmax = np.exp(np.sqrt(2)*scipy.special.erfinv(0.9) * sigma + mu)\n",
    "        tmax = np.exp(0.9 + mu)\n",
    "        t = np.linspace(0, tmax, 100)\n",
    "        # t_extrema = np.exp(mu - sigma**2) # https://www.wolframalpha.com/input?i=solve+%28derivative+of+1%2Fx+*+exp%28-%28ln%28x%29+-+mu%29%5E2+%2F+%282*sigma%5E2%29%29%29+%3D+0\n",
    "        # print(t_extrema * 15)\n",
    "        # t = np.linspace(0, t_extrema * 15, 100)\n",
    "    else:\n",
    "        t = np.logspace(-5, 0.3, 100)\n",
    "    v = evaluate_speed(t, t0, D, th1, th2, sigma, mu)\n",
    "    ax.plot(t, v)\n",
    "    if normalize_x:\n",
    "        ax.set_xlim(t[0], t[-1])\n",
    "        ax.grid(False)\n",
    "    else:\n",
    "        ax.set_xlim(0, 10)\n",
    "    if normalize_y:\n",
    "        ax.set_ylim(0, np.max(v)*1.05)\n",
    "        ax.grid(False)\n",
    "    else:\n",
    "        ax.set_ylim(0, 1)\n",
    "\n",
    "sigma_vals = np.linspace(1e-10, 2, 6)[1:]\n",
    "mu_vals = np.linspace(-2, 3, 6)\n",
    "fig, axes = plt.subplots(len(sigma_vals), len(mu_vals), sharex=False, sharey=False, figsize=(20, 14))\n",
    "for ri, sigma in enumerate(sigma_vals):\n",
    "    for ci, mu in enumerate(mu_vals):\n",
    "        plot_sln_speed_array(axes[ri][ci], 0, 1, 0, 0, sigma, mu, normalize_x=True, normalize_y=True)\n",
    "        axes[0][ci].set_title('$\\\\mu = {:}$'.format(mu))\n",
    "    axes[ri][0].set_ylabel('$\\\\sigma = {:.1f}$'.format(sigma))"
   ]
  },
  {
   "cell_type": "code",
   "execution_count": null,
   "metadata": {},
   "outputs": [],
   "source": [
    "def plot_sln_position_array(ax, sigma, mu):\n",
    "    t_ = np.linspace(0, 100, 10000)\n",
    "    x_ = evaluate_position(t_, 0, 1, 0, 0, sigma, 1)\n",
    "    xmax = x_[-1]\n",
    "    tmax = np.argmin(np.square(0.8 - x_))\n",
    "\n",
    "    t = np.linspace(0, t_[tmax]*np.exp(mu), 300)\n",
    "    x = evaluate_position(t, 0, 1, 0, 0, sigma, mu)\n",
    "    ax.plot(t, x)\n",
    "    ax.grid(False)\n",
    "\n",
    "sigma_vals = np.linspace(1e-10, 2, 5)[1:]\n",
    "mu_vals = np.linspace(-2, 3, 6)\n",
    "fig, axes = plt.subplots(len(sigma_vals), len(mu_vals), sharex=False, sharey=False, figsize=(20, 14))\n",
    "for ri, sigma in enumerate(sigma_vals):\n",
    "    for ci, mu in enumerate(mu_vals):\n",
    "        plot_sln_position_array(axes[ri][ci], sigma, mu)\n",
    "        axes[0][ci].set_title('$\\\\mu = {:}$'.format(mu))\n",
    "    axes[ri][0].set_ylabel('$\\\\sigma = {:.1f}$'.format(sigma))"
   ]
  },
  {
   "cell_type": "markdown",
   "metadata": {},
   "source": [
    "## Test case for `test_sln_stroke_fit.py`\n",
    "\n",
    "Generate data for a unit test case"
   ]
  },
  {
   "cell_type": "code",
   "execution_count": 4,
   "metadata": {},
   "outputs": [
    {
     "name": "stdout",
     "output_type": "stream",
     "text": [
      "pExpected = np.array( [0.0, 1.0, 0.0, 0.0, 0.5, -1.0] )\n",
      "data = np.array( [[0.0, 0.0, 0.0], [0.2, 0.1210495445244642, 0.0], [0.3, 0.3538806027542822, 0.0], [0.6, 0.8401353767843258, 0.0]] )\n"
     ]
    }
   ],
   "source": [
    "params_gt = np.array([0., 1., 0., 0., 0.5, -1.])\n",
    "query_times = [0.0, 0.2, 0.3, 0.6]\n",
    "# Generate ground truth for test_sln_stroke_fit\n",
    "dt = 0.01\n",
    "t = np.arange(0, 0.6 + dt, dt)\n",
    "v = evaluate_speed(t, *params_gt)\n",
    "x = evaluate_position(t, *params_gt)\n",
    "# Print out unit test \"expected\"\n",
    "t_expected = np.array(query_times).reshape(-1, 1)\n",
    "x_expected = np.array([x[t == t_expected_][0] for t_expected_ in t_expected]).reshape(-1, 1)\n",
    "data_expected = np.hstack((t_expected, x_expected, np.zeros(t_expected.shape)))\n",
    "print('pExpected = np.array(', params_gt.tolist(), ')')\n",
    "print('data = np.array(', data_expected.tolist(), ')')"
   ]
  },
  {
   "cell_type": "markdown",
   "metadata": {},
   "source": [
    "Now let's compare the optimization output of the unit test"
   ]
  },
  {
   "cell_type": "code",
   "execution_count": 5,
   "metadata": {},
   "outputs": [
    {
     "name": "stdout",
     "output_type": "stream",
     "text": [
      "*** Ground Truth ***\n",
      "parameters: (0.0, 1.0, 0.0, 0.0, 0.5, -1.0)\n",
      "first 5 velocities: [0.00000000e+00 4.09892860e-10 1.71941866e-06 9.28153576e-05\n",
      " 1.05550561e-03]\n",
      "first 5 positions: [0.00000000e+00 4.09892860e-12 1.71982855e-08 9.45351861e-07\n",
      " 1.15004079e-05]\n",
      "data velocities: [0.0, 1.8980317374399713, 2.4472663885848656, 0.824029565210426]\n",
      "data positions: [0.0, 0.1210495445244642, 0.3538806027542822, 0.8401353767843258]\n",
      "*** Optimization Result ***\n",
      "parameters: (0.017215989124497455, 1.0232191058557842, 0.0, 0.0, 0.542680180326043, -1.0303325390125773)\n",
      "first 5 velocities: [8.47686781e-278 8.47686781e-278 1.15446979e-015 3.95546459e-007\n",
      " 8.65081496e-005]\n",
      "first 5 positions: [0.00000000e+000 8.47686781e-280 1.15446979e-017 3.95546460e-009\n",
      " 8.69036961e-007]\n",
      "data velocities: [8.476867805356991e-278, 1.9243186842855202, 2.4262753399397363, 0.8580401547713405]\n",
      "data positions: [0.0, 0.12104954452446418, 0.3538806027542822, 0.8401353767843261]\n"
     ]
    }
   ],
   "source": [
    "params_optim_result = [\n",
    "    0.017215989124497455, 1.0232191058557842, 0.0, 0.0, 0.542680180326043, -1.0303325390125773\n",
    "]\n",
    "\n",
    "def print_info(description, *params):\n",
    "    t = np.arange(0, 0.61, 0.01)\n",
    "    v = evaluate_speed(t, *params)\n",
    "    x = evaluate_position(t, *params)\n",
    "    print('*** {:} ***'.format(description))\n",
    "    print('parameters:', tuple(params))\n",
    "    print('first 5 velocities:', v[:5])\n",
    "    print('first 5 positions:', np.cumsum(v[:5] * 0.01) - v[0]*0.01)\n",
    "    print('data velocities:', [v[t == t_][0] for t_ in query_times])\n",
    "    print('data positions:', [x[t == t_][0] for t_ in query_times])\n",
    "print_info('Ground Truth', *params_gt)\n",
    "print_info('Optimization Result', *params_optim_result)"
   ]
  },
  {
   "cell_type": "markdown",
   "metadata": {},
   "source": [
    "As we can see, even though the first 5 positions/speeds are a little bit different, the positions/speeds at the 4 data points are virtually perfect matches.\n",
    "\n",
    "Let's also plot this to see visually how close of a match it is."
   ]
  },
  {
   "cell_type": "code",
   "execution_count": 6,
   "metadata": {},
   "outputs": [
    {
     "ename": "NameError",
     "evalue": "name 'params' is not defined",
     "output_type": "error",
     "traceback": [
      "\u001b[0;31m---------------------------------------------------------------------------\u001b[0m",
      "\u001b[0;31mNameError\u001b[0m                                 Traceback (most recent call last)",
      "\u001b[1;32m/home/jdflo/GIT_REPOS/art_skills/python/src/gerry00_sln_playground.ipynb Cell 14\u001b[0m in \u001b[0;36m<cell line: 18>\u001b[0;34m()\u001b[0m\n\u001b[1;32m     <a href='vscode-notebook-cell:/home/jdflo/GIT_REPOS/art_skills/python/src/gerry00_sln_playground.ipynb#X16sZmlsZQ%3D%3D?line=15'>16</a>\u001b[0m     plt\u001b[39m.\u001b[39mtitle(\u001b[39m'\u001b[39m\u001b[39mPosition vs Time\u001b[39m\u001b[39m'\u001b[39m)\n\u001b[1;32m     <a href='vscode-notebook-cell:/home/jdflo/GIT_REPOS/art_skills/python/src/gerry00_sln_playground.ipynb#X16sZmlsZQ%3D%3D?line=16'>17</a>\u001b[0m plt\u001b[39m.\u001b[39mfigure(figsize\u001b[39m=\u001b[39m(\u001b[39m12\u001b[39m, \u001b[39m4\u001b[39m))\n\u001b[0;32m---> <a href='vscode-notebook-cell:/home/jdflo/GIT_REPOS/art_skills/python/src/gerry00_sln_playground.ipynb#X16sZmlsZQ%3D%3D?line=17'>18</a>\u001b[0m plot_sln_test(\u001b[39m*\u001b[39mparams, \u001b[39m'\u001b[39m\u001b[39mk-\u001b[39m\u001b[39m'\u001b[39m)\n\u001b[1;32m     <a href='vscode-notebook-cell:/home/jdflo/GIT_REPOS/art_skills/python/src/gerry00_sln_playground.ipynb#X16sZmlsZQ%3D%3D?line=18'>19</a>\u001b[0m plot_sln_test(\u001b[39m*\u001b[39mparams_optim_result, \u001b[39m'\u001b[39m\u001b[39mr:\u001b[39m\u001b[39m'\u001b[39m)\n\u001b[1;32m     <a href='vscode-notebook-cell:/home/jdflo/GIT_REPOS/art_skills/python/src/gerry00_sln_playground.ipynb#X16sZmlsZQ%3D%3D?line=19'>20</a>\u001b[0m plt\u001b[39m.\u001b[39mlegend((\u001b[39mstr\u001b[39m(params), \u001b[39mstr\u001b[39m([\u001b[39mround\u001b[39m(p_, \u001b[39m2\u001b[39m) \u001b[39mfor\u001b[39;00m p_ \u001b[39min\u001b[39;00m p])))\n",
      "\u001b[0;31mNameError\u001b[0m: name 'params' is not defined"
     ]
    },
    {
     "data": {
      "text/plain": [
       "<Figure size 1200x400 with 0 Axes>"
      ]
     },
     "metadata": {},
     "output_type": "display_data"
    }
   ],
   "source": [
    "# Visualize Unit Test Results\n",
    "def plot_sln_test(t0, D, th1, th2, sigma, mu, ls='k-'):\n",
    "    t = np.linspace(0, 0.6, 400)\n",
    "    v = evaluate_speed(t, t0, D, th1, th2, sigma, mu)\n",
    "    plt.subplot(131)\n",
    "    plt.plot(np.log(t - t0), v, ls)\n",
    "    plt.xlim(-2.5, 2.5)\n",
    "    plt.title('Gaussian Curve: Velocity vs ln(t-t0)')\n",
    "    plt.subplot(132)\n",
    "    plt.plot(t, v, ls)\n",
    "    plt.xlim(0, 0.6)\n",
    "    plt.title('Velocity vs Time')\n",
    "    plt.subplot(133)\n",
    "    plt.plot(t, np.cumsum(v) - v[0], ls)\n",
    "    plt.xlim(0, 0.6)\n",
    "    plt.title('Position vs Time')\n",
    "plt.figure(figsize=(12, 4))\n",
    "plot_sln_test(*params, 'k-')\n",
    "plot_sln_test(*params_optim_result, 'r:')\n",
    "plt.legend((str(params), str([round(p_, 2) for p_ in p])))\n",
    "plt.show()"
   ]
  },
  {
   "cell_type": "markdown",
   "metadata": {},
   "source": [
    "Even though the underlying \"normal\" curve is perceptibly different and the lognormal curve (speed vs time) is a teensy bit different, the position vs time is a perfect match as far as our eyes can tell."
   ]
  },
  {
   "cell_type": "markdown",
   "metadata": {},
   "source": [
    "## Effect of shape parameter assuming other parameters \"normalize\"\n",
    "Let's try computing the optimal values of the parameters $t_0, D, \\mu$ such that the resulting curve is most similar to a reference curve, for various values of $\\sigma$.  This will enable us to see the effect of changing $\\sigma$ only."
   ]
  },
  {
   "cell_type": "code",
   "execution_count": null,
   "metadata": {},
   "outputs": [],
   "source": [
    "t = np.linspace(0, 1.5, 100)\n",
    "# t = np.linspace(0, 0.6, 100)\n",
    "\n",
    "# reference curve\n",
    "params_ref = 0, 1, 0, 0, 1.5, -2.0\n",
    "# params_ref = -0.8, 1, 0, 0, 0.2, 0.1\n",
    "# params_ref = params\n",
    "v_ref, x_ref = evaluate_speed(t, *params_ref), evaluate_position(t, *params_ref)\n",
    "\n",
    "# optimization functions\n",
    "def loss(sigma, x):\n",
    "    t0, D, mu = x\n",
    "    return evaluate_position(t, t0, D, 0, 0, sigma, mu) - x_ref\n",
    "def optim_params(sigma):\n",
    "    sol, success = scipy.optimize.leastsq(lambda x: loss(sigma, x), (params_ref[0], params_ref[1], params_ref[-1]))\n",
    "    assert success, 'Optimization failed'\n",
    "    return sol[0], sol[1], 0, 0, sigma, sol[2]\n",
    "    # return sol[0], sol[1], 0, 0, sol[2], sigma\n",
    "\n",
    "# Plot\n",
    "N = 8\n",
    "fig, axes = plt.subplots(2, 1, figsize=(6, 9))\n",
    "axes[0].plot(t, v_ref, 'k-', label='$\\\\sigma={:}$'.format(params_ref[-2]))\n",
    "axes[1].plot(t, x_ref, 'k-', label='$\\\\sigma={:}$'.format(params_ref[-2]))\n",
    "cmap = plt.cm.get_cmap('autumn')\n",
    "axes[0].set_prop_cycle(color=[cmap(i) for i in np.linspace(0, 1, N, endpoint=True)])\n",
    "axes[1].set_prop_cycle(color=[cmap(i) for i in np.linspace(0, 1, N, endpoint=True)])\n",
    "# for sigma in np.linspace(-1.2, -0.8, N + 1)[1:-3]:\n",
    "for sigma in np.linspace(0., 3., N + 1)[1:]:\n",
    "    params = optim_params(sigma)\n",
    "    v, x = evaluate_speed(t, *params), evaluate_position(t, *params)\n",
    "    np.set_printoptions(suppress=True)\n",
    "    params_str = np.array2string(np.array(params), precision=2, separator=',')\n",
    "    axes[0].plot(t, v, label='$\\\\sigma={:}$, {:}'.format(round(sigma, 1), params_str), linewidth=1)\n",
    "    axes[1].plot(t, x, label='$\\\\sigma={:}$, {:}'.format(round(sigma, 1), params_str), linewidth=1)\n",
    "axes[0].legend()\n",
    "axes[1].set_xlabel('$t$', size=24)\n",
    "axes[1].set_ylabel('$x$', size=24)\n",
    "axes[0].set_ylabel('$v$', size=24)\n",
    "axes[0].set_title('Effect of changing $\\\\sigma$', size=24);"
   ]
  }
 ],
 "metadata": {
  "kernelspec": {
   "display_name": "Python 3.9.12 ('base')",
   "language": "python",
   "name": "python3"
  },
  "language_info": {
   "codemirror_mode": {
    "name": "ipython",
    "version": 3
   },
   "file_extension": ".py",
   "mimetype": "text/x-python",
   "name": "python",
   "nbconvert_exporter": "python",
   "pygments_lexer": "ipython3",
   "version": "3.9.12"
  },
  "orig_nbformat": 4,
  "vscode": {
   "interpreter": {
    "hash": "51de4bcb3205f6bd19787b19faf5c94422e99d5cb7cc9b6ffc361c6c48848cad"
   }
  }
 },
 "nbformat": 4,
 "nbformat_minor": 2
}
