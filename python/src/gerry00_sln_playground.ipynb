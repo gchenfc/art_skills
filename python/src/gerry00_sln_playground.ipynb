{
 "cells": [
  {
   "cell_type": "code",
   "execution_count": null,
   "metadata": {},
   "outputs": [],
   "source": [
    "%matplotlib inline\n",
    "import numpy as np\n",
    "import matplotlib.pyplot as plt\n",
    "import ipywidgets as widgets\n",
    "from IPython.display import display\n",
    "from art_skills import SlnStrokeExpression"
   ]
  },
  {
   "cell_type": "markdown",
   "metadata": {},
   "source": [
    "$$ \\Lambda(t) = \\frac{1}{\\sigma\\sqrt{2\\pi}(t-t_0)} \\exp{\\left(-\\frac{(\\ln(t-t_0)-\\mu)^2}{2\\sigma^2}\\right)} $$"
   ]
  },
  {
   "cell_type": "code",
   "execution_count": null,
   "metadata": {},
   "outputs": [],
   "source": [
    "def evaluate_speed(t, t0, D, th1, th2, sigma, mu):\n",
    "    if False:   # use c++ wrapped version\n",
    "        sln_stroke = SlnStrokeExpression(t0, D, th1, th2, sigma, mu)\n",
    "        return np.array([sln_stroke.speed(t_) for t_ in t])\n",
    "    else:       # use numpy version\n",
    "        return D / (sigma * np.sqrt(2 * np.pi) * (t - t0)) * np.exp(-np.square(np.log(t - t0) - mu) /\n",
    "                                                                 (2 * sigma * sigma))"
   ]
  },
  {
   "cell_type": "code",
   "execution_count": null,
   "metadata": {},
   "outputs": [],
   "source": [
    "def plot_sln_single(t0, D, th1, th2, sigma, mu):\n",
    "    t = np.logspace(-5, 1, 100)\n",
    "    v = evaluate_speed(t, t0, D, th1, th2, sigma, mu) * (t-t0)\n",
    "    plt.figure(figsize=(12, 4))\n",
    "    plt.subplot(131)\n",
    "    plt.plot(np.log(t - t0), v)\n",
    "    plt.xlim(-2.5, 2.5)\n",
    "    plt.ylim(0, 1)\n",
    "    plt.title('Gaussian Curve: Velocity vs ln(t-t0)')\n",
    "    plt.subplot(132)\n",
    "    plt.plot(t, v)\n",
    "    plt.ylim(0, 1)\n",
    "    plt.xlim(0, 0.6)\n",
    "    plt.title('Velocity vs Time')\n",
    "    plt.subplot(133)\n",
    "    plt.plot(t, np.cumsum(v) - v[0])\n",
    "    plt.xlim(0, 0.6)\n",
    "    plt.ylim(0, 100)\n",
    "    plt.title('Position vs Time')\n",
    "    plt.show()"
   ]
  },
  {
   "cell_type": "code",
   "execution_count": null,
   "metadata": {},
   "outputs": [],
   "source": [
    "interactive_plot = widgets.interactive(plot_sln_single,\n",
    "                                       t0=widgets.FloatSlider(min=-5, max=-1e-12, value=-0.1),\n",
    "                                       D=widgets.FloatSlider(min=0, max=5, value=1),\n",
    "                                       th1=widgets.fixed(0),\n",
    "                                       th2=widgets.fixed(0),\n",
    "                                       sigma=widgets.FloatSlider(min=1e-12, max=2, value=1),\n",
    "                                       mu=widgets.FloatSlider(min=-5, max=5, value=0))\n",
    "\n",
    "output = interactive_plot.children[-1]\n",
    "output.layout.height = '350px'\n",
    "interactive_plot\n"
   ]
  },
  {
   "cell_type": "code",
   "execution_count": null,
   "metadata": {},
   "outputs": [],
   "source": [
    "def plot_sln_array(ax, t0, D, th1, th2, sigma, mu):\n",
    "    t = np.logspace(-5, 1, 100)\n",
    "    v = evaluate_speed(t, t0, D, th1, th2, sigma, mu)\n",
    "    ax.plot(t, v)\n",
    "    ax.set_ylim(0, 1)\n",
    "    ax.set_xlim(0, 10)"
   ]
  },
  {
   "cell_type": "code",
   "execution_count": null,
   "metadata": {},
   "outputs": [],
   "source": [
    "sigma_vals = np.linspace(1e-10, 2, 5)\n",
    "mu_vals = np.linspace(0, 3, 6)\n",
    "fig, axes = plt.subplots(len(sigma_vals), len(mu_vals), sharex=True, sharey=True, figsize=(20, 14))\n",
    "for ri, sigma in enumerate(sigma_vals):\n",
    "    for ci, mu in enumerate(mu_vals):\n",
    "        plot_sln_array(axes[ri][ci], 0, 1, 0, 0, sigma, mu)\n",
    "        axes[0][ci].set_title('$\\\\mu = {:}$'.format(mu))\n",
    "    axes[ri][0].set_ylabel('$\\\\sigma = {:.1f}$'.format(sigma))"
   ]
  },
  {
   "cell_type": "code",
   "execution_count": null,
   "metadata": {},
   "outputs": [],
   "source": [
    "# Generate ground truth for test_sln_stroke_fit\n",
    "dt = 0.01\n",
    "t = np.arange(0, 0.6 + dt, dt)\n",
    "params = np.array([-0.8, 1, 0., 0., 0.2, 0.1])\n",
    "v = evaluate_speed(t, *params)\n",
    "x = np.cumsum(v * dt)\n",
    "x = x - x[0]\n",
    "# Print out unit test \"expected\"\n",
    "t_expected = np.array([0, 0.2, 0.4, 0.6]).reshape(-1, 1)\n",
    "x_expected = np.array([x[t == t_expected_][0] for t_expected_ in t_expected]).reshape(-1, 1)\n",
    "data_expected = np.hstack((t_expected, x_expected, np.zeros(t_expected.shape)))\n",
    "print('pExpected = np.array(', params.tolist(), ')')\n",
    "print('data = np.array(', data_expected.tolist(), ')')"
   ]
  },
  {
   "cell_type": "code",
   "execution_count": null,
   "metadata": {},
   "outputs": [],
   "source": [
    "# Visualize Unit Test Results\n",
    "def plot_sln_test(t0, D, th1, th2, sigma, mu, ls='k-'):\n",
    "    t = np.logspace(-3, 10**0.6, 400)\n",
    "    v = evaluate_speed(t, t0, D, th1, th2, sigma, mu)\n",
    "    plt.subplot(131)\n",
    "    plt.plot(np.log(t - t0), v, ls)\n",
    "    plt.xlim(-2.5, 2.5)\n",
    "    plt.title('Gaussian Curve: Velocity vs ln(t-t0)')\n",
    "    plt.subplot(132)\n",
    "    plt.plot(t, v, ls)\n",
    "    plt.xlim(0, 0.6)\n",
    "    plt.title('Velocity vs Time')\n",
    "    plt.subplot(133)\n",
    "    plt.plot(t, np.cumsum(v) - v[0], ls)\n",
    "    plt.xlim(0, 0.6)\n",
    "    plt.title('Position vs Time')\n",
    "plt.figure(figsize=(12, 4))\n",
    "plot_sln_test(*params, 'k-')\n",
    "plot_sln_test(-0.91072802, 0.99922022, 0., 0., 0.18157826, 0.19371412, 'r:')\n",
    "plt.show()"
   ]
  }
 ],
 "metadata": {
  "interpreter": {
   "hash": "402f513bd64bb05ccdfd11315d0c88453571d1d1d73db48414a1b2a41f771ebc"
  },
  "kernelspec": {
   "display_name": "Python 3.9.6",
   "language": "python",
   "name": "python3"
  },
  "language_info": {
   "name": "python",
   "version": "3.9.6"
  },
  "orig_nbformat": 4
 },
 "nbformat": 4,
 "nbformat_minor": 2
}
