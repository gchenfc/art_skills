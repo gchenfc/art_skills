{
 "cells": [
  {
   "cell_type": "code",
   "execution_count": null,
   "metadata": {},
   "outputs": [],
   "source": [
    "import numpy as np\n",
    "import matplotlib\n",
    "import matplotlib.pyplot as plt\n",
    "from IPython.display import HTML\n",
    "import tqdm\n",
    "import chebyshev_fitter, spline_fitter, sln_letter_fit\n",
    "from sln_letter_fit import FitParams, OptimizationLoggingParams\n",
    "import loader, plotting\n",
    "\n",
    "%load_ext autoreload\n",
    "%autoreload 1\n",
    "%aimport chebyshev_fitter, spline_fitter, sln_letter_fit, loader, plotting"
   ]
  },
  {
   "cell_type": "code",
   "execution_count": null,
   "metadata": {},
   "outputs": [],
   "source": [
    "# Util functions\n",
    "def rms(err):\n",
    "    return np.sqrt(np.mean(np.sum(np.square(err), axis=1), axis=0))\n",
    "def error(strokes, sol):\n",
    "    err = np.vstack(strokes)[:, 1:] - sol['txy_from_params'][:, 1:]\n",
    "    return rms(err)\n",
    "def error_letter(letter, sols):\n",
    "    err = lambda strokes, sol: np.vstack(strokes)[:, 1:] - sol['txy_from_params'][:, 1:]\n",
    "    errs = np.vstack([err(strokes, sol) for strokes, sol in zip(letter, sols)])\n",
    "    return rms(errs)\n"
   ]
  },
  {
   "cell_type": "markdown",
   "metadata": {},
   "source": [
    "# Fit trajectory"
   ]
  },
  {
   "cell_type": "code",
   "execution_count": null,
   "metadata": {},
   "outputs": [],
   "source": [
    "poly_orders = list(range(2, 5))\n",
    "fig, axes = plt.subplots(3, len(poly_orders), figsize=(20, 17))\n",
    "strokes = loader.load_segments('D', index=1)\n",
    "\n",
    "# Fit with Spline\n",
    "for ax, poly_order in zip(axes[0], poly_orders):\n",
    "    sol, _, _, _ = spline_fitter.fit_trajectory(strokes, p_order=poly_order)\n",
    "    print('Spline (order {:}) RMSE: {:}'.format(poly_order, error(strokes, sol)))\n",
    "    plotting.plot_trajectory(ax, strokes, sol)\n",
    "    ax.plot(sol['params'][:, 1], sol['params'][:, 2], 'm*', label='Spline Nodes', markersize=15)\n",
    "    ax.legend(loc='upper right')\n",
    "    ax.set_title('Spline (order {:}) Fit, RMSE = {:.5e}'.format(poly_order, error(strokes, sol)))\n",
    "\n",
    "# Fit with Chebyshev\n",
    "for ax, poly_order in zip(axes[1], poly_orders):\n",
    "    sol, _, _, stroke_indices = chebyshev_fitter.fit_trajectory(strokes, p_order=poly_order)\n",
    "    print('Chebyshev (order {:}) RMSE: {:}'.format(poly_order, error(strokes, sol)))\n",
    "    plotting.plot_trajectory(ax, strokes, sol)\n",
    "    ax.set_title('Chebyshev (order {:}) Fit, RMSE = {:.5e}'.format(poly_order, error(strokes, sol)))\n",
    "\n",
    "# Fit with SLN\n",
    "sol, _ = sln_letter_fit.fit_and_plot_trajectory(axes[-1][-1],\n",
    "                                                strokes,\n",
    "                                                max_iters=50,\n",
    "                                                log_history=False,\n",
    "                                                pbar_description='Fitting SLN')\n",
    "print('SLN RMSE: {:}'.format(error(strokes, sol)))\n",
    "axes[-1][-1].set_title('SLN Fit, RMSE = {:.5e}'.format(error(strokes, sol)));"
   ]
  },
  {
   "cell_type": "markdown",
   "metadata": {},
   "source": [
    "# Fit Letter"
   ]
  },
  {
   "cell_type": "code",
   "execution_count": null,
   "metadata": {},
   "outputs": [],
   "source": [
    "poly_orders = list(range(2, 5))\n",
    "iters = [50, 75, 100]\n",
    "fig, axes = plt.subplots(3, len(poly_orders), figsize=(20, 12))\n",
    "letter_ = 'B'\n",
    "letter = loader.load_segments(letter_, index=None)\n",
    "\n",
    "def process(sols, name):\n",
    "    print(name + ' RMSE: {:}'.format(error_letter(letter, sols)))\n",
    "    plotting.plot_letter(ax, letter, sols)\n",
    "    ax.set_title(name + ' Fit, RMSE = {:.5e}'.format(error_letter(letter, sols)))\n",
    "\n",
    "# Fit with Spline\n",
    "for ax, poly_order in zip(axes[0], poly_orders):\n",
    "    all_sols_and_histories = spline_fitter.fit_letter(letter, p_order=poly_order)\n",
    "    process([sol for sol, _ in all_sols_and_histories], 'Spline (order {:})'.format(poly_order))\n",
    "    for sol, _ in all_sols_and_histories:\n",
    "        ax.plot(sol['params'][:, 1], sol['params'][:, 2], 'm*', label='Spline Nodes', markersize=10)\n",
    "\n",
    "# Fit with Chebyshev\n",
    "for ax, poly_order in zip(axes[1], poly_orders):\n",
    "    all_sols_and_histories = chebyshev_fitter.fit_letter(letter, p_order=poly_order)\n",
    "    process([sol for sol, _ in all_sols_and_histories], 'Chebyshev (order {:})'.format(poly_order))\n",
    "\n",
    "# Fit with SLN\n",
    "all_sols_and_histories = np.load('data/optimized_{:}.npy'.format(letter_), allow_pickle=True)\n",
    "# all_sols_and_histories = sln_letter_fit.fit_letter(letter,\n",
    "#                                                    max_iters=iters[-1],\n",
    "#                                                    log_history=True,\n",
    "#                                                    pbar_description_prefix='SLN Fitting Letter ' +\n",
    "#                                                    letter_)\n",
    "for ax, iter in zip(axes[2], iters):\n",
    "    process([hist[iter] for _, hist in all_sols_and_histories], 'SLN ({:} iters)'.format(iter))"
   ]
  },
  {
   "cell_type": "markdown",
   "metadata": {},
   "source": [
    "# Fit all letters"
   ]
  },
  {
   "cell_type": "code",
   "execution_count": null,
   "metadata": {},
   "outputs": [],
   "source": [
    "# Processing / precomputing\n",
    "\n",
    "poly_orders = list(range(2, 5))\n",
    "iters = [100, 200, -1]\n",
    "all_RMSE_errors = {}\n",
    "all_data = {}\n",
    "\n",
    "plt.ioff()\n",
    "for letter_ in tqdm.tqdm('ABCDEFGHIJKLMNOPQRSTUVWXYZ'):\n",
    "    fig, axes = plt.subplots(3, len(poly_orders), figsize=(20, 12))\n",
    "    letter = loader.load_segments(letter_, index=None)\n",
    "\n",
    "    def process(sols, name, custom_info=None):\n",
    "        plotting.plot_letter(ax, letter, sols)\n",
    "        all_data[name.split(' ')[0], letter_, custom_info] = sols\n",
    "        try:\n",
    "            all_RMSE_errors[name.split(' ')[0], letter_, custom_info] = error_letter(letter, sols)\n",
    "            # print('{:} - {:} RMSE: {:}'.format(letter_, name, all_RMSE_errors[letter_]))\n",
    "            ax.set_title(name + ' Fit, RMSE = {:.5e}'.format(error_letter(letter, sols)))\n",
    "        except ValueError:\n",
    "            print('Calculation failed on letter {:}'.format(letter_))\n",
    "\n",
    "    # Fit with Spline\n",
    "    for ax, poly_order in zip(axes[0], poly_orders):\n",
    "        all_sols_and_histories = spline_fitter.fit_letter(letter, p_order=poly_order)\n",
    "        process([sol for sol, _ in all_sols_and_histories],\n",
    "                'Spline (order {:})'.format(poly_order), poly_order)\n",
    "        for sol, _ in all_sols_and_histories:\n",
    "            ax.plot(sol['params'][:, 1],\n",
    "                    sol['params'][:, 2],\n",
    "                    'm*',\n",
    "                    label='Spline Nodes',\n",
    "                    markersize=10)\n",
    "\n",
    "    # Fit with Chebyshev\n",
    "    for ax, poly_order in zip(axes[1], poly_orders):\n",
    "        all_sols_and_histories = chebyshev_fitter.fit_letter(letter, p_order=poly_order)\n",
    "        process([sol for sol, _ in all_sols_and_histories],\n",
    "                'Chebyshev (order {:})'.format(poly_order), poly_order)\n",
    "\n",
    "    # Fit with SLN\n",
    "    all_sols_and_histories = np.load('data/optimized_{:}.npy'.format(letter_), allow_pickle=True)\n",
    "    for ax, iter in zip(axes[2], iters):\n",
    "        process([hist[iter] for _, hist in all_sols_and_histories], 'SLN ({:} iters)'.format(iter),\n",
    "                iter)\n",
    "\n",
    "    fig.savefig('data/compare_spline_cheby_sln_{:}.svg'.format(letter_))\n",
    "    plt.close(fig)\n"
   ]
  },
  {
   "cell_type": "code",
   "execution_count": null,
   "metadata": {},
   "outputs": [],
   "source": [
    "# Displaying\n",
    "\n",
    "def filt(name, special):\n",
    "    return [v for k, v in all_RMSE_errors.items() if k[0] == name and k[2] == special]\n",
    "\n",
    "bins = np.linspace(0, 0.1, 50)\n",
    "\n",
    "fig, axes = plt.subplots(3, 3, figsize=(15, 7), sharex=True, sharey=True)\n",
    "fig.tight_layout()\n",
    "for i, order in enumerate(poly_orders):\n",
    "    axes[0][i].hist(filt('Spline', order), bins=bins)\n",
    "    axes[0][i].set_title('RMSEs for Spline Fits of Order {:}'.format(order))\n",
    "for i, order in enumerate(poly_orders):\n",
    "    axes[1][i].hist(filt('Chebyshev', order), bins=bins)\n",
    "    axes[1][i].set_title('RMSEs for Chebyshev Fits of Order {:}'.format(order))\n",
    "for i, iter in enumerate(iters):\n",
    "    axes[2][i].hist(filt('SLN', iter), bins=bins)\n",
    "    axes[2][i].set_title('RMSEs for SLN Fits after {:} iters'.format(iter))\n",
    "for ax in axes.flatten():\n",
    "    ax.set_xlim(0, bins.max())\n",
    "\n",
    "display(fig)"
   ]
  }
 ],
 "metadata": {
  "interpreter": {
   "hash": "402f513bd64bb05ccdfd11315d0c88453571d1d1d73db48414a1b2a41f771ebc"
  },
  "kernelspec": {
   "display_name": "Python 3.9.6 ('base')",
   "language": "python",
   "name": "python3"
  },
  "language_info": {
   "codemirror_mode": {
    "name": "ipython",
    "version": 3
   },
   "file_extension": ".py",
   "mimetype": "text/x-python",
   "name": "python",
   "nbconvert_exporter": "python",
   "pygments_lexer": "ipython3",
   "version": "3.9.6"
  },
  "orig_nbformat": 4
 },
 "nbformat": 4,
 "nbformat_minor": 2
}
