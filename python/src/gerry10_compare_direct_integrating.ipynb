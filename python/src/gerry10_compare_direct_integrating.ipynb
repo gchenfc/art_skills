{
 "cells": [
  {
   "cell_type": "code",
   "execution_count": null,
   "metadata": {},
   "outputs": [],
   "source": [
    "%load_ext autoreload\n",
    "%autoreload 2"
   ]
  },
  {
   "cell_type": "code",
   "execution_count": null,
   "metadata": {},
   "outputs": [],
   "source": [
    "import numpy as np\n",
    "import matplotlib.pyplot as plt\n",
    "from IPython.display import HTML\n",
    "import IPython.utils.io\n",
    "import tqdm\n",
    "import gtsam\n",
    "import sln_letter_fit, sln_fit\n",
    "from fit_types import FitParams, OptimizationLoggingParams, LetterSolutionAndHistory, LetterSolution\n",
    "import loader, plotting2\n",
    "import utils\n",
    "from utils import Time\n",
    "\n",
    "%aimport -numpy\n",
    "%aimport -matplotlib\n",
    "%aimport -IPython\n",
    "%aimport -tqdm\n",
    "%aimport -gtsam"
   ]
  },
  {
   "cell_type": "markdown",
   "metadata": {},
   "source": [
    "# Setup"
   ]
  },
  {
   "cell_type": "code",
   "execution_count": null,
   "metadata": {},
   "outputs": [],
   "source": [
    "letter_data = loader.load_segments('A', index=None)\n",
    "print(f'total letter duration is approx {sum(traj[-1][-1, 0] for traj in letter_data):.5f}s')"
   ]
  },
  {
   "cell_type": "code",
   "execution_count": null,
   "metadata": {},
   "outputs": [],
   "source": [
    "def iterating_sol_to_direct_sol(letter_sol_and_history: LetterSolutionAndHistory) -> LetterSolution:\n",
    "    return LetterSolution(\n",
    "        params=[sol['params'] for sol, _ in letter_sol_and_history],\n",
    "        txy=[sol['txy_from_params'] for sol, _ in letter_sol_and_history],\n",
    "        data=[np.vstack(trajectory) for trajectory in letter_data],\n",
    "        all_stroke_indices=[sol['stroke_indices'] for sol, _ in letter_sol_and_history])"
   ]
  },
  {
   "cell_type": "code",
   "execution_count": null,
   "metadata": {},
   "outputs": [],
   "source": [
    "def do_integrating_strokewise(letter_data):\n",
    "    with Time('Integrating Version, Strokewise') as t:\n",
    "        sol = sln_letter_fit.fit_letter(letter_data,\n",
    "                                        max_iters=100,\n",
    "                                        fit_params_kwargs={'strokewise': True},\n",
    "                                        use_2_stage=False)\n",
    "        return t(), iterating_sol_to_direct_sol(sol)\n",
    "def do_integrating_connected(letter_data):\n",
    "    with Time('Integrating Version, Connected') as t:\n",
    "        sol = sln_letter_fit.fit_letter(letter_data, max_iters=100, use_2_stage=False)\n",
    "        return t(), iterating_sol_to_direct_sol(sol)\n",
    "def do_direct_strokewise(letter_data):\n",
    "    with Time('Direct Version, Strokewise') as t:\n",
    "        lm_params = utils.create_params(absoluteErrorTol=0, relativeErrorTol=0, errorTol=0)\n",
    "        sol = sln_fit.fit_letter(letter_data,\n",
    "                                 fit_params=sln_fit.FitLetterParams(lm_params=lm_params,\n",
    "                                                                    strokewise=True))\n",
    "        return t(), sol\n",
    "def do_direct_connected(letter_data):\n",
    "    with Time('Direct Version, Connected') as t:\n",
    "        lm_params = utils.create_params(absoluteErrorTol=0, relativeErrorTol=0, errorTol=0)\n",
    "        sol = sln_fit.fit_letter(\n",
    "            letter_data,\n",
    "            fit_params=sln_fit.FitLetterParams(\n",
    "                lm_params=lm_params,\n",
    "                #  noise_model_connecting=gtsam.noiseModel.Isotropic.Sigma(2, 1e-2)\n",
    "            ))\n",
    "        return t(), sol"
   ]
  },
  {
   "cell_type": "markdown",
   "metadata": {},
   "source": [
    "# Run one optimization using each method, and plot"
   ]
  },
  {
   "cell_type": "code",
   "execution_count": null,
   "metadata": {},
   "outputs": [],
   "source": [
    "t_integrating_strokewise, sol_integrating_strokewise = do_integrating_strokewise(letter_data)\n",
    "t_integrating_connected, sol_integrating_connected = do_integrating_connected(letter_data)\n",
    "t_direct_strokewise, sol_direct_strokewise = do_direct_strokewise(letter_data)\n",
    "t_direct_connected, sol_direct_connected = do_direct_connected(letter_data)"
   ]
  },
  {
   "cell_type": "code",
   "execution_count": null,
   "metadata": {},
   "outputs": [],
   "source": [
    "fig, axes = plt.subplots(2, 2, figsize=(10, 10))\n",
    "plotting2.plot_letter(axes[0][0], sol_integrating_strokewise, disp_params=False)\n",
    "plotting2.plot_letter(axes[1][0], sol_integrating_connected, disp_params=False)\n",
    "plotting2.plot_letter(axes[0][1], sol_direct_strokewise, disp_params=False)\n",
    "plotting2.plot_letter(axes[1][1], sol_direct_connected, disp_params=False)\n",
    "\n",
    "axes[0][0].set_title(f'Integrating Strokewise (t = {t_integrating_strokewise:.5f}s)', fontsize=20)\n",
    "axes[1][0].set_title(f'Integrating Connected (t = {t_integrating_connected:.5f}s)', fontsize=20)\n",
    "axes[0][1].set_title(f'Direct Strokewise (t = {t_direct_strokewise:.5f}s)', fontsize=20)\n",
    "axes[1][1].set_title(f'Direct Connected (t = {t_direct_connected:.5f}s)', fontsize=20);"
   ]
  },
  {
   "cell_type": "markdown",
   "metadata": {},
   "source": [
    "# Timing Test"
   ]
  },
  {
   "cell_type": "code",
   "execution_count": null,
   "metadata": {},
   "outputs": [],
   "source": [
    "t_integrating_strokewise = []\n",
    "t_integrating_connected = []\n",
    "t_direct_strokewise = []\n",
    "t_direct_connected = []\n",
    "for _ in tqdm.notebook.trange(10):\n",
    "    with IPython.utils.io.capture_output():\n",
    "        t_integrating_strokewise.append(do_integrating_strokewise(letter_data)[0])\n",
    "        t_integrating_connected.append(do_integrating_connected(letter_data)[0])\n",
    "        t_direct_strokewise.append(do_direct_strokewise(letter_data)[0])\n",
    "        t_direct_connected.append(do_direct_connected(letter_data)[0])\n",
    "disp = lambda name, t: print(f'{name:30} : {np.mean(t):.5f} +/- {np.std(t):.5f} seconds')\n",
    "disp('t_integrating_strokewise', t_integrating_strokewise)\n",
    "disp('t_integrating_connected', t_integrating_connected)\n",
    "disp('t_direct_strokewise', t_direct_strokewise)\n",
    "disp('t_direct_connected', t_direct_connected)"
   ]
  },
  {
   "cell_type": "code",
   "execution_count": null,
   "metadata": {},
   "outputs": [],
   "source": []
  }
 ],
 "metadata": {
  "kernelspec": {
   "display_name": "Python 3.9.6 ('base')",
   "language": "python",
   "name": "python3"
  },
  "language_info": {
   "codemirror_mode": {
    "name": "ipython",
    "version": 3
   },
   "file_extension": ".py",
   "mimetype": "text/x-python",
   "name": "python",
   "nbconvert_exporter": "python",
   "pygments_lexer": "ipython3",
   "version": "3.9.6"
  },
  "orig_nbformat": 4,
  "vscode": {
   "interpreter": {
    "hash": "402f513bd64bb05ccdfd11315d0c88453571d1d1d73db48414a1b2a41f771ebc"
   }
  }
 },
 "nbformat": 4,
 "nbformat_minor": 2
}
