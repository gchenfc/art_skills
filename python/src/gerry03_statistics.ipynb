{
 "cells": [
  {
   "cell_type": "code",
   "execution_count": null,
   "metadata": {},
   "outputs": [],
   "source": [
    "import numpy as np\n",
    "import matplotlib.pyplot as plt"
   ]
  },
  {
   "cell_type": "code",
   "execution_count": null,
   "metadata": {},
   "outputs": [],
   "source": [
    "all_params = []\n",
    "all_indices = []\n",
    "for letter in 'ABCDEFGHIJKLMNOPQRSTUVWXYZ':\n",
    "    data = np.load('data/optimized_{:}.npy'.format(letter), allow_pickle=True)\n",
    "    # for trajectory in data:\n",
    "    #     sol, history = trajectory\n",
    "    #     strokes_params = sol['params']\n",
    "    for trajectory in data:\n",
    "        all_params += trajectory[0]['params']\n",
    "        all_indices += trajectory[0]['stroke_indices'].values()\n",
    "all_params = np.array(all_params)\n",
    "all_indices = np.array(all_indices)\n",
    "print(all_params.shape, all_indices.shape)"
   ]
  },
  {
   "cell_type": "code",
   "execution_count": null,
   "metadata": {},
   "outputs": [],
   "source": [
    "t0s, ds, th1s, th2s, sigmas, mus = all_params.T\n",
    "DT = 1./120\n",
    "t_stroke_starts = all_indices[:, 0] * DT\n",
    "t0s = t0s - t_stroke_starts\n",
    "datas = {\n",
    "    '$t_0$': t0s,\n",
    "    '$D$': ds,\n",
    "    '$\\\\theta_1$': th1s,\n",
    "    '$\\\\theta_2$': th2s,\n",
    "    '$\\\\sigma$': sigmas,\n",
    "    '$\\\\mu$': mus\n",
    "}"
   ]
  },
  {
   "cell_type": "code",
   "execution_count": null,
   "metadata": {},
   "outputs": [],
   "source": [
    "fig, axes = plt.subplots(2, 3, figsize=(10, 5))\n",
    "plt.subplots_adjust(hspace=0.3)\n",
    "for ax, (label, data) in zip(axes.flatten(), datas.items()):\n",
    "    ax.hist(data, bins=30)\n",
    "    ax.set_title(label)"
   ]
  },
  {
   "cell_type": "code",
   "execution_count": null,
   "metadata": {},
   "outputs": [],
   "source": []
  }
 ],
 "metadata": {
  "interpreter": {
   "hash": "402f513bd64bb05ccdfd11315d0c88453571d1d1d73db48414a1b2a41f771ebc"
  },
  "kernelspec": {
   "display_name": "Python 3.9.6 ('base')",
   "language": "python",
   "name": "python3"
  },
  "language_info": {
   "codemirror_mode": {
    "name": "ipython",
    "version": 3
   },
   "file_extension": ".py",
   "mimetype": "text/x-python",
   "name": "python",
   "nbconvert_exporter": "python",
   "pygments_lexer": "ipython3",
   "version": "3.9.6"
  },
  "orig_nbformat": 4
 },
 "nbformat": 4,
 "nbformat_minor": 2
}
