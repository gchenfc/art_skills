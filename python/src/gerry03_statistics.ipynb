{
 "cells": [
  {
   "cell_type": "code",
   "execution_count": null,
   "metadata": {},
   "outputs": [],
   "source": [
    "import numpy as np\n",
    "import matplotlib.pyplot as plt"
   ]
  },
  {
   "cell_type": "code",
   "execution_count": null,
   "metadata": {},
   "outputs": [],
   "source": [
    "def load_stuff(fbase='results/2022-03-16_SLN_letters/noReparam_yesFlip_newInit_max'):\n",
    "    all_params = []\n",
    "    all_indices = []\n",
    "    for letter in 'ABCDEFGHIJKLMNOPQRSTUVWXYZ':\n",
    "        data = np.load('{:}_{:}.npy'.format(fbase, letter), allow_pickle=True)\n",
    "        # for trajectory in data:\n",
    "        #     sol, history = trajectory\n",
    "        #     strokes_params = sol['params']\n",
    "        for trajectory in data:\n",
    "            all_params += trajectory[0]['params']\n",
    "            all_indices += trajectory[0]['stroke_indices'].values()\n",
    "    all_params = np.array(all_params)\n",
    "    all_indices = np.array(all_indices)\n",
    "    print(all_params.shape, all_indices.shape)\n",
    "    return all_params, all_indices"
   ]
  },
  {
   "cell_type": "code",
   "execution_count": null,
   "metadata": {},
   "outputs": [],
   "source": [
    "def realign_t0(all_params, all_indices):\n",
    "    t0s, ds, th1s, th2s, sigmas, mus = all_params.T\n",
    "    DT = 1. / 120\n",
    "    t_stroke_starts = all_indices[:, 0] * DT\n",
    "    t0s = t0s - t_stroke_starts\n",
    "    datas = {\n",
    "        '$t_0$': t0s,\n",
    "        '$D$': ds,\n",
    "        '$\\\\theta_1$': th1s,\n",
    "        '$\\\\theta_2$': th2s,\n",
    "        '$\\\\sigma$': sigmas,\n",
    "        '$\\\\mu$': mus\n",
    "    }\n",
    "    return datas"
   ]
  },
  {
   "cell_type": "code",
   "execution_count": null,
   "metadata": {},
   "outputs": [],
   "source": [
    "fig, axes = plt.subplots(2, 3, figsize=(10, 5))\n",
    "plt.subplots_adjust(hspace=0.3)\n",
    "\n",
    "both_datas = {}\n",
    "for artist in ['max', 'jules']:\n",
    "    both_datas[artist] = realign_t0(*load_stuff(\n",
    "        fbase='results/2022-03-16_SLN_letters/noReparam_yesFlip_newInit_{:}'.format(artist)))\n",
    "mins = [min(*a) for a in zip(*[[np.min(data) for data in datas.values()] for datas in both_datas.values()])]\n",
    "maxs = [max(*a) for a in zip(*[[np.max(data) for data in datas.values()] for datas in both_datas.values()])]\n",
    "for artist, datas in both_datas.items():\n",
    "    for ax, (label, data), lb, ub in zip(axes.flatten(), datas.items(), mins, maxs):\n",
    "        ax.hist(data, bins=np.linspace(lb, ub, 30), label=artist, alpha=0.5)\n",
    "        ax.set_title(label)\n",
    "axes[0][1].legend()\n",
    "fig.savefig('results/2022-03-16_SLN_letters/statistics.svg')"
   ]
  },
  {
   "cell_type": "code",
   "execution_count": null,
   "metadata": {},
   "outputs": [],
   "source": []
  }
 ],
 "metadata": {
  "interpreter": {
   "hash": "402f513bd64bb05ccdfd11315d0c88453571d1d1d73db48414a1b2a41f771ebc"
  },
  "kernelspec": {
   "display_name": "Python 3.9.6 ('base')",
   "language": "python",
   "name": "python3"
  },
  "language_info": {
   "codemirror_mode": {
    "name": "ipython",
    "version": 3
   },
   "file_extension": ".py",
   "mimetype": "text/x-python",
   "name": "python",
   "nbconvert_exporter": "python",
   "pygments_lexer": "ipython3",
   "version": "3.9.6"
  },
  "orig_nbformat": 4
 },
 "nbformat": 4,
 "nbformat_minor": 2
}
