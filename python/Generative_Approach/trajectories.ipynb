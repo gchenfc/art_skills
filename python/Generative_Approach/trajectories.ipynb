{
 "cells": [
  {
   "cell_type": "code",
   "execution_count": 1,
   "source": [
    "from trajectory_generator import TrajectoryGenerator\n",
    "import numpy as np\n",
    "import matplotlib.pyplot as plt\n",
    "# py.offline.init_notebook_mode(connected=True)"
   ],
   "outputs": [],
   "metadata": {}
  },
  {
   "cell_type": "code",
   "execution_count": 2,
   "source": [
    "# Berio Code\n",
    "parameters = {\"dt\": 0.01, \n",
    "              \"t_points\": np.array([[0,0], [-50, 100], [100,70], [-40, 120]]).T,\n",
    "              \"delta\": np.array([0.3, 0.3, 0.3]), \n",
    "              \"Ac\": np.array([0.05, 0.05, 0.05]),\n",
    "              \"delta_t\": np.array([0.4, 0.4, 0.4]), \n",
    "              \"T\": 0.3}\n",
    "              # note: period is for each stroke, with endtime being calculated as t0[0] + t[-1] + period\n",
    "\n",
    "# Letter G\n",
    "# parameters = {\"dt\": 0.01,\n",
    "#               \"t_points\": np.array([[0,0], [-100,100], [-200,-100], [-100,-300], [0,-100], [-100,-100]]).T,\n",
    "#               \"delta\": np.array([0.4, 0.4, 0.4, 0.4, 0.4]), \n",
    "#               \"Ac\": np.array([0.05, 0.05, 0.05, 0.05, 0.05]),\n",
    "#               \"delta_t\": np.array([0.3, 0.3, 0.3, 0.3, 0.7]), \n",
    "#               \"T\": 0.8}\n",
    "\n",
    "# Fig 8. Djioua08EPM\n",
    "#parameters = {\"dt\": 0.01, \"t_points\": np.array([[25,18], [6,4], [8,5.5]]).T, \"delta\": np.array([-0.5, 0.5]), \"Ac\": np.array([0.043949, 0.1082468]), \"delta_t\": np.array([0, 0]), \"T\": 0.4}\n",
    "#parameters = {\"dt\": 0.01, \"t_points\": np.array([[25,18], [6,4], [8,5.5]]), \"delta\": [-0.5, 0.5], \"Ac\": [0.043949, 0.1082468], \"delta_t\": [0, 0], \"T\": [0.5, 0.2]}\n",
    "\n",
    "t_points = parameters[\"t_points\"]\n",
    "trajectory_generator = TrajectoryGenerator(**parameters)\n",
    "trajectory = trajectory_generator.generate_trajectory()\n",
    "maxima = trajectory_generator.extract_strokes()\n",
    "\n",
    "#print(trajectory)\n",
    "\n",
    "print(maxima)\n",
    "\n",
    "velocity = trajectory_generator.velocity()"
   ],
   "outputs": [
    {
     "output_type": "stream",
     "name": "stdout",
     "text": [
      "inst t0 [0. 0. 0.]\n",
      "t0 from delt [0.   0.12 0.12]\n",
      "t0 [-0.10374027  0.01625973  0.13625973]\n",
      "endtime 0.54\n",
      "t [0.   0.01 0.02 0.03 0.04 0.05 0.06 0.07 0.08 0.09 0.1  0.11 0.12 0.13\n",
      " 0.14 0.15 0.16 0.17 0.18 0.19 0.2  0.21 0.22 0.23 0.24 0.25 0.26 0.27\n",
      " 0.28 0.29 0.3  0.31 0.32 0.33 0.34 0.35 0.36 0.37 0.38 0.39 0.4  0.41\n",
      " 0.42 0.43 0.44 0.45 0.46 0.47 0.48 0.49 0.5  0.51 0.52 0.53]\n",
      "inst t0 [0. 0. 0.]\n",
      "t0 from delt [0.   0.12 0.12]\n",
      "t0 [-0.10374027  0.01625973  0.13625973]\n",
      "endtime 0.54\n",
      "t [0.   0.01 0.02 0.03 0.04 0.05 0.06 0.07 0.08 0.09 0.1  0.11 0.12 0.13\n",
      " 0.14 0.15 0.16 0.17 0.18 0.19 0.2  0.21 0.22 0.23 0.24 0.25 0.26 0.27\n",
      " 0.28 0.29 0.3  0.31 0.32 0.33 0.34 0.35 0.36 0.37 0.38 0.39 0.4  0.41\n",
      " 0.42 0.43 0.44 0.45 0.46 0.47 0.48 0.49 0.5  0.51 0.52 0.53]\n",
      "[72.21044647]\n",
      "[-34.97986029]\n",
      "[-4.67686352e-02 -1.64756567e-01 -4.58271833e-01 -1.05882112e+00\n",
      " -2.11208062e+00 -3.74611941e+00 -6.04094794e+00 -9.00579629e+00\n",
      " -1.25686686e+01 -1.65819345e+01 -2.08416677e+01 -2.51049271e+01\n",
      " -2.90809795e+01 -3.23929868e+01 -3.45494036e+01 -3.49798603e+01\n",
      " -3.31503638e+01 -2.87132542e+01 -2.16222801e+01 -1.21650348e+01\n",
      " -9.07395504e-01  1.14212467e+01  2.40574793e+01  3.63020019e+01\n",
      "  4.75523209e+01  5.72712540e+01  6.49396876e+01  7.00567026e+01\n",
      "  7.22104465e+01  7.11855230e+01  6.70473035e+01  6.01608681e+01\n",
      "  5.11377401e+01  4.07322009e+01  2.97213985e+01  1.88011178e+01\n",
      "  8.51725124e+00 -7.61734189e-01 -8.83786296e+00 -1.56546755e+01\n",
      " -2.12589347e+01 -2.57626826e+01 -2.93112899e+01 -3.20596796e+01\n",
      " -3.41565964e+01 -3.57355854e+01 -3.69109538e+01 -3.77770689e+01\n",
      " -3.84096497e+01 -3.88680673e+01 -3.91979973e+01 -3.94340232e+01\n",
      " -3.96019794e+01 -3.97209433e+01]\n",
      "(array([28]),)\n",
      "inst t0 [0. 0. 0.]\n",
      "t0 from delt [0.   0.12 0.12]\n",
      "t0 [-0.10374027  0.01625973  0.13625973]\n",
      "endtime 0.54\n",
      "t [0.   0.01 0.02 0.03 0.04 0.05 0.06 0.07 0.08 0.09 0.1  0.11 0.12 0.13\n",
      " 0.14 0.15 0.16 0.17 0.18 0.19 0.2  0.21 0.22 0.23 0.24 0.25 0.26 0.27\n",
      " 0.28 0.29 0.3  0.31 0.32 0.33 0.34 0.35 0.36 0.37 0.38 0.39 0.4  0.41\n",
      " 0.42 0.43 0.44 0.45 0.46 0.47 0.48 0.49 0.5  0.51 0.52 0.53]\n"
     ]
    }
   ],
   "metadata": {}
  },
  {
   "cell_type": "code",
   "execution_count": 3,
   "source": [
    "fig = plt.figure(figsize=(8,3))\n",
    "plt.subplot(121)\n",
    "plt.scatter(t_points[0,:], t_points[1,:], c='k')\n",
    "plt.plot(trajectory[0,:], trajectory[1,:])\n",
    "plt.subplot(122)\n",
    "t = np.linspace(0, 0.3, trajectory.shape[1])\n",
    "plt.plot(t, velocity)"
   ],
   "outputs": [
    {
     "output_type": "execute_result",
     "data": {
      "text/plain": [
       "[<matplotlib.lines.Line2D at 0x7fe2dc0f20d0>]"
      ]
     },
     "metadata": {},
     "execution_count": 3
    },
    {
     "output_type": "display_data",
     "data": {
      "image/png": "[encoded data removed]",
      "text/plain": [
       "<Figure size 576x216 with 2 Axes>"
      ]
     },
     "metadata": {
      "needs_background": "light"
     }
    }
   ],
   "metadata": {}
  }
 ],
 "metadata": {
  "interpreter": {
   "hash": "77552f969461f1480f7b2e537541492f22412e41250fcf87da08c1560454d6b5"
  },
  "kernelspec": {
   "name": "python3",
   "display_name": "Python 3.9.6 64-bit ('gtsam': conda)"
  },
  "language_info": {
   "name": "python",
   "version": "3.9.6",
   "mimetype": "text/x-python",
   "codemirror_mode": {
    "name": "ipython",
    "version": 3
   },
   "pygments_lexer": "ipython3",
   "nbconvert_exporter": "python",
   "file_extension": ".py"
  },
  "metadata": {
   "interpreter": {
    "hash": "56faf2608bd7395c2ca9e7dc550cb81edf567bff87061f72d7d9ac4a6aaf3131"
   }
  },
  "orig_nbformat": 2
 },
 "nbformat": 4,
 "nbformat_minor": 2
}