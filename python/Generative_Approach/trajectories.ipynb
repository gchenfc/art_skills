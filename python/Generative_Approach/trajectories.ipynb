{
 "cells": [
  {
   "cell_type": "code",
   "execution_count": 1,
   "metadata": {},
   "outputs": [],
   "source": [
    "from trajectory_generator import TrajectoryGenerator\r\n",
    "import ipywidgets as widgets\r\n",
    "from IPython.display import display\r\n",
    "import numpy as np\r\n",
    "from plotly.subplots import make_subplots\r\n",
    "import plotly.graph_objects as go"
   ]
  },
  {
   "cell_type": "code",
   "execution_count": 2,
   "metadata": {},
   "outputs": [
    {
     "data": {
      "application/vnd.jupyter.widget-view+json": {
       "model_id": "aa4401685b26422580bda246cf2c71c2",
       "version_major": 2,
       "version_minor": 0
      },
      "text/plain": [
       "FloatSlider(value=0.01, description='Timestep Size:', max=0.1, min=0.001, readout_format='.3f', step=0.001)"
      ]
     },
     "metadata": {},
     "output_type": "display_data"
    }
   ],
   "source": [
    "step_slider = widgets.FloatSlider(\r\n",
    "    value=0.01,\r\n",
    "    min=0.001,\r\n",
    "    max=0.1,\r\n",
    "    step=0.001,\r\n",
    "    description='Timestep Size:',\r\n",
    "    disabled=False,\r\n",
    "    continuous_update=True,\r\n",
    "    orientation='horizontal',\r\n",
    "    readout=True,\r\n",
    "    readout_format='.3f',\r\n",
    ")\r\n",
    "display(step_slider)"
   ]
  },
  {
   "cell_type": "code",
   "execution_count": 3,
   "metadata": {},
   "outputs": [
    {
     "name": "stdout",
     "output_type": "stream",
     "text": [
      "[[-0.00000000e+00 -0.00000000e+00]\n",
      " [-0.00000000e+00 -0.00000000e+00]\n",
      " [-0.00000000e+00 -0.00000000e+00]\n",
      " [-2.62022053e-12 -0.00000000e+00]\n",
      " [-2.14072017e-09 -1.57475254e-09]\n",
      " [-3.97251635e-07 -2.92403510e-07]\n",
      " [-1.87711944e-05 -1.38169286e-05]\n",
      " [-3.50675687e-04 -2.58122180e-04]\n",
      " [-3.38608321e-03 -2.49239786e-03]\n",
      " [-2.01047386e-02 -1.47985299e-02]\n",
      " [-8.26030130e-02 -6.08019526e-02]\n",
      " [-2.55286031e-01 -1.87911267e-01]\n",
      " [-6.30691246e-01 -4.64249620e-01]\n",
      " [-1.30363141e+00 -9.59634103e-01]\n",
      " [-2.33455660e+00 -1.71862030e+00]\n",
      " [-3.72234854e+00 -2.74047458e+00]\n",
      " [-5.40028621e+00 -3.97617671e+00]\n",
      " [-7.25452491e+00 -5.34197996e+00]\n",
      " [-9.15390740e+00 -6.74132484e+00]\n",
      " [-1.09782349e+01 -8.08564975e+00]\n",
      " [-1.26368208e+01 -9.30807633e+00]\n",
      " [-1.40753509e+01 -1.03684962e+01]\n",
      " [-1.52734343e+01 -1.12517979e+01]\n",
      " [-1.62368922e+01 -1.19622037e+01]\n",
      " [-1.69884796e+01 -1.25164391e+01]] \n",
      "\n",
      "[[5.65705839e-08 4.24721387e-08]\n",
      " [7.20906026e-04 5.41242735e-04]\n",
      " [2.89894114e-02 2.17643863e-02]\n",
      " [1.82288959e-01 1.36846192e-01]\n",
      " [4.99985782e-01 3.75282355e-01]\n",
      " [8.91923583e-01 6.69328765e-01]\n",
      " [1.25069665e+00 9.38388528e-01]\n",
      " [1.52482112e+00 1.14389882e+00]\n",
      " [1.71179824e+00 1.28404134e+00]\n",
      " [1.83036279e+00 1.37289335e+00]\n",
      " [1.90206983e+00 1.42662511e+00]\n",
      " [1.94413069e+00 1.45814043e+00]\n",
      " [1.96832951e+00 1.47627148e+00]\n",
      " [1.98209133e+00 1.48658235e+00]]\n"
     ]
    }
   ],
   "source": [
    "# Letter G\r\n",
    "# parameters = {\"step_size\": step_slider.value, \"t_points\": np.array([[0,0], [-10,10], [-20,-10], [-10,-30], [0,-10], [-10,-10]]), \"delta\": [-0.9, -0.5, -0.9, -1, 0.1], \"Ac\": [0.05, 0.09, 0.1, 0.1, 0.2], \"T\": [0.15, 0.2, 0.25, 0.4, 0.1]}\r\n",
    "\r\n",
    "# unit test, Fig 8. Djioua08EPM\r\n",
    "parameters = {\"step_size\": step_slider.value, \"t_points\": np.array([[25,18], [6,4], [8,5.5]]), \"delta\": [-0.001, 0.001], \"Ac\": [0.043949, 0.1082468], \"delta_t\": [0, -0.01] \"T\": [0.260832, 0.150658]}\r\n",
    "\r\n",
    "trajectory_generator = TrajectoryGenerator(**parameters)\r\n",
    "points, velocities = trajectory_generator.generate_strokes()\r\n",
    "# velocities[0] = [velocities[0][x] if velocities[1][x] < 0.28 else -1*velocities[0][x] for x in range(len(velocities[0])-2)]\r\n"
   ]
  },
  {
   "cell_type": "code",
   "execution_count": 4,
   "metadata": {},
   "outputs": [
    {
     "data": {
      "application/vnd.plotly.v1+json": {
       "config": {
        "plotlyServerURL": "https://plot.ly"
       },
       "data": [
        {
         "mode": "markers",
         "type": "scatter",
         "x": [
          25,
          25,
          25,
          25,
          25,
          24.999999999997378,
          24.99999999785928,
          24.999999602748364,
          24.999981228805613,
          24.99964932431265,
          24.996613916785687,
          24.979895261398404,
          24.917396987049724,
          24.744713968723804,
          24.36930875416179,
          23.696368591637224,
          22.665443397687532,
          21.27765145629659,
          19.59971378838445,
          17.745475091691652,
          15.846092601856796,
          14.02176511333491,
          12.363179153785945,
          10.924649149518874,
          9.72656568854649,
          8.763107764131945,
          8.011520390784419,
          6,
          6.000000056570584,
          6.00072090602577,
          6.028989411351679,
          6.182288959026726,
          6.499985782325646,
          6.891923583365583,
          7.250696649780382,
          7.524821118309462,
          7.711798240504083,
          7.830362793338324,
          7.902069833580793,
          7.944130688757393,
          7.968329514871636,
          7.982091325119928
         ],
         "xaxis": "x",
         "y": [
          18,
          18,
          18,
          18,
          18,
          18,
          17.99999999842525,
          17.99999970759649,
          17.99998618307143,
          17.999741877820124,
          17.997507602144466,
          17.985201470145093,
          17.939198047423474,
          17.812088732515473,
          17.5357503801915,
          17.040365897120715,
          16.281379699729282,
          15.25952542027829,
          14.023823287468108,
          12.658020036565304,
          11.258675162386194,
          9.914350246604593,
          8.691923669869032,
          7.631503831412202,
          6.748202077825644,
          6.037796268912027,
          5.483560855756352,
          4,
          4.000000042472139,
          4.000541242735422,
          4.021764386347675,
          4.136846192046,
          4.375282354885648,
          4.669328765466499,
          4.938388527603993,
          5.143898815385034,
          5.284041341171957,
          5.372893345391793,
          5.426625112309882,
          5.458140430165017,
          5.476271478078565,
          5.486582354607225
         ],
         "yaxis": "y"
        },
        {
         "mode": "markers",
         "type": "scatter",
         "x": [
          0.01,
          0.02,
          0.03,
          0.04,
          0.05,
          0.06,
          0.07,
          0.08,
          0.09,
          0.1,
          0.11,
          0.12,
          0.13,
          0.14,
          0.15,
          0.16,
          0.17,
          0.18,
          0.19,
          0.2,
          0.21,
          0.22,
          0.23,
          0.24,
          0.25,
          0.26,
          0.27,
          0.28,
          0.29,
          0.3,
          0.31,
          0.32,
          0.33,
          0.34,
          0.35,
          0.36,
          0.37,
          0.38,
          0.39,
          0.4,
          0.41
         ],
         "xaxis": "x2",
         "y": [
          0,
          0,
          0,
          0,
          2.6219026949547697e-10,
          2.6554288674802546e-7,
          0.000049060575108657496,
          0.0022814787973997287,
          0.04121233410831142,
          0.3769043200810347,
          2.0759439364894776,
          7.760379629030294,
          21.442062110378103,
          46.61458570935497,
          83.56160891258008,
          128.01823320726297,
          172.34130790445886,
          208.38509011995228,
          230.29588933564722,
          235.91989995722295,
          226.61377417464678,
          206.03965930670685,
          178.71370420226393,
          148.84978896003364,
          119.70495334176414,
          93.38417815514977,
          249.9433354837456,
          0.000007073975907318198,
          0.09013998347130224,
          3.534869471631508,
          19.16887407234997,
          39.721917789039374,
          48.99780928363059,
          44.84543107008369,
          34.26057539362071,
          23.366722439854623,
          14.816285581300479,
          8.960470074987636,
          5.255788045285975,
          3.023769309571656,
          1.7195976160115742
         ],
         "yaxis": "y2"
        }
       ],
       "layout": {
        "annotations": [
         {
          "font": {
           "size": 16
          },
          "showarrow": false,
          "text": "Stroke Trajectory",
          "x": 0.2,
          "xanchor": "center",
          "xref": "paper",
          "y": 1,
          "yanchor": "bottom",
          "yref": "paper"
         },
         {
          "font": {
           "size": 16
          },
          "showarrow": false,
          "text": "Velocity Profile",
          "x": 0.8,
          "xanchor": "center",
          "xref": "paper",
          "y": 1,
          "yanchor": "bottom",
          "yref": "paper"
         }
        ],
        "showlegend": false,
        "template": {
         "data": {
          "bar": [
           {
            "error_x": {
             "color": "#2a3f5f"
            },
            "error_y": {
             "color": "#2a3f5f"
            },
            "marker": {
             "line": {
              "color": "#E5ECF6",
              "width": 0.5
             }
            },
            "type": "bar"
           }
          ],
          "barpolar": [
           {
            "marker": {
             "line": {
              "color": "#E5ECF6",
              "width": 0.5
             }
            },
            "type": "barpolar"
           }
          ],
          "carpet": [
           {
            "aaxis": {
             "endlinecolor": "#2a3f5f",
             "gridcolor": "white",
             "linecolor": "white",
             "minorgridcolor": "white",
             "startlinecolor": "#2a3f5f"
            },
            "baxis": {
             "endlinecolor": "#2a3f5f",
             "gridcolor": "white",
             "linecolor": "white",
             "minorgridcolor": "white",
             "startlinecolor": "#2a3f5f"
            },
            "type": "carpet"
           }
          ],
          "choropleth": [
           {
            "colorbar": {
             "outlinewidth": 0,
             "ticks": ""
            },
            "type": "choropleth"
           }
          ],
          "contour": [
           {
            "colorbar": {
             "outlinewidth": 0,
             "ticks": ""
            },
            "colorscale": [
             [
              0,
              "#0d0887"
             ],
             [
              0.1111111111111111,
              "#46039f"
             ],
             [
              0.2222222222222222,
              "#7201a8"
             ],
             [
              0.3333333333333333,
              "#9c179e"
             ],
             [
              0.4444444444444444,
              "#bd3786"
             ],
             [
              0.5555555555555556,
              "#d8576b"
             ],
             [
              0.6666666666666666,
              "#ed7953"
             ],
             [
              0.7777777777777778,
              "#fb9f3a"
             ],
             [
              0.8888888888888888,
              "#fdca26"
             ],
             [
              1,
              "#f0f921"
             ]
            ],
            "type": "contour"
           }
          ],
          "contourcarpet": [
           {
            "colorbar": {
             "outlinewidth": 0,
             "ticks": ""
            },
            "type": "contourcarpet"
           }
          ],
          "heatmap": [
           {
            "colorbar": {
             "outlinewidth": 0,
             "ticks": ""
            },
            "colorscale": [
             [
              0,
              "#0d0887"
             ],
             [
              0.1111111111111111,
              "#46039f"
             ],
             [
              0.2222222222222222,
              "#7201a8"
             ],
             [
              0.3333333333333333,
              "#9c179e"
             ],
             [
              0.4444444444444444,
              "#bd3786"
             ],
             [
              0.5555555555555556,
              "#d8576b"
             ],
             [
              0.6666666666666666,
              "#ed7953"
             ],
             [
              0.7777777777777778,
              "#fb9f3a"
             ],
             [
              0.8888888888888888,
              "#fdca26"
             ],
             [
              1,
              "#f0f921"
             ]
            ],
            "type": "heatmap"
           }
          ],
          "heatmapgl": [
           {
            "colorbar": {
             "outlinewidth": 0,
             "ticks": ""
            },
            "colorscale": [
             [
              0,
              "#0d0887"
             ],
             [
              0.1111111111111111,
              "#46039f"
             ],
             [
              0.2222222222222222,
              "#7201a8"
             ],
             [
              0.3333333333333333,
              "#9c179e"
             ],
             [
              0.4444444444444444,
              "#bd3786"
             ],
             [
              0.5555555555555556,
              "#d8576b"
             ],
             [
              0.6666666666666666,
              "#ed7953"
             ],
             [
              0.7777777777777778,
              "#fb9f3a"
             ],
             [
              0.8888888888888888,
              "#fdca26"
             ],
             [
              1,
              "#f0f921"
             ]
            ],
            "type": "heatmapgl"
           }
          ],
          "histogram": [
           {
            "marker": {
             "colorbar": {
              "outlinewidth": 0,
              "ticks": ""
             }
            },
            "type": "histogram"
           }
          ],
          "histogram2d": [
           {
            "colorbar": {
             "outlinewidth": 0,
             "ticks": ""
            },
            "colorscale": [
             [
              0,
              "#0d0887"
             ],
             [
              0.1111111111111111,
              "#46039f"
             ],
             [
              0.2222222222222222,
              "#7201a8"
             ],
             [
              0.3333333333333333,
              "#9c179e"
             ],
             [
              0.4444444444444444,
              "#bd3786"
             ],
             [
              0.5555555555555556,
              "#d8576b"
             ],
             [
              0.6666666666666666,
              "#ed7953"
             ],
             [
              0.7777777777777778,
              "#fb9f3a"
             ],
             [
              0.8888888888888888,
              "#fdca26"
             ],
             [
              1,
              "#f0f921"
             ]
            ],
            "type": "histogram2d"
           }
          ],
          "histogram2dcontour": [
           {
            "colorbar": {
             "outlinewidth": 0,
             "ticks": ""
            },
            "colorscale": [
             [
              0,
              "#0d0887"
             ],
             [
              0.1111111111111111,
              "#46039f"
             ],
             [
              0.2222222222222222,
              "#7201a8"
             ],
             [
              0.3333333333333333,
              "#9c179e"
             ],
             [
              0.4444444444444444,
              "#bd3786"
             ],
             [
              0.5555555555555556,
              "#d8576b"
             ],
             [
              0.6666666666666666,
              "#ed7953"
             ],
             [
              0.7777777777777778,
              "#fb9f3a"
             ],
             [
              0.8888888888888888,
              "#fdca26"
             ],
             [
              1,
              "#f0f921"
             ]
            ],
            "type": "histogram2dcontour"
           }
          ],
          "mesh3d": [
           {
            "colorbar": {
             "outlinewidth": 0,
             "ticks": ""
            },
            "type": "mesh3d"
           }
          ],
          "parcoords": [
           {
            "line": {
             "colorbar": {
              "outlinewidth": 0,
              "ticks": ""
             }
            },
            "type": "parcoords"
           }
          ],
          "pie": [
           {
            "automargin": true,
            "type": "pie"
           }
          ],
          "scatter": [
           {
            "marker": {
             "colorbar": {
              "outlinewidth": 0,
              "ticks": ""
             }
            },
            "type": "scatter"
           }
          ],
          "scatter3d": [
           {
            "line": {
             "colorbar": {
              "outlinewidth": 0,
              "ticks": ""
             }
            },
            "marker": {
             "colorbar": {
              "outlinewidth": 0,
              "ticks": ""
             }
            },
            "type": "scatter3d"
           }
          ],
          "scattercarpet": [
           {
            "marker": {
             "colorbar": {
              "outlinewidth": 0,
              "ticks": ""
             }
            },
            "type": "scattercarpet"
           }
          ],
          "scattergeo": [
           {
            "marker": {
             "colorbar": {
              "outlinewidth": 0,
              "ticks": ""
             }
            },
            "type": "scattergeo"
           }
          ],
          "scattergl": [
           {
            "marker": {
             "colorbar": {
              "outlinewidth": 0,
              "ticks": ""
             }
            },
            "type": "scattergl"
           }
          ],
          "scattermapbox": [
           {
            "marker": {
             "colorbar": {
              "outlinewidth": 0,
              "ticks": ""
             }
            },
            "type": "scattermapbox"
           }
          ],
          "scatterpolar": [
           {
            "marker": {
             "colorbar": {
              "outlinewidth": 0,
              "ticks": ""
             }
            },
            "type": "scatterpolar"
           }
          ],
          "scatterpolargl": [
           {
            "marker": {
             "colorbar": {
              "outlinewidth": 0,
              "ticks": ""
             }
            },
            "type": "scatterpolargl"
           }
          ],
          "scatterternary": [
           {
            "marker": {
             "colorbar": {
              "outlinewidth": 0,
              "ticks": ""
             }
            },
            "type": "scatterternary"
           }
          ],
          "surface": [
           {
            "colorbar": {
             "outlinewidth": 0,
             "ticks": ""
            },
            "colorscale": [
             [
              0,
              "#0d0887"
             ],
             [
              0.1111111111111111,
              "#46039f"
             ],
             [
              0.2222222222222222,
              "#7201a8"
             ],
             [
              0.3333333333333333,
              "#9c179e"
             ],
             [
              0.4444444444444444,
              "#bd3786"
             ],
             [
              0.5555555555555556,
              "#d8576b"
             ],
             [
              0.6666666666666666,
              "#ed7953"
             ],
             [
              0.7777777777777778,
              "#fb9f3a"
             ],
             [
              0.8888888888888888,
              "#fdca26"
             ],
             [
              1,
              "#f0f921"
             ]
            ],
            "type": "surface"
           }
          ],
          "table": [
           {
            "cells": {
             "fill": {
              "color": "#EBF0F8"
             },
             "line": {
              "color": "white"
             }
            },
            "header": {
             "fill": {
              "color": "#C8D4E3"
             },
             "line": {
              "color": "white"
             }
            },
            "type": "table"
           }
          ]
         },
         "layout": {
          "annotationdefaults": {
           "arrowcolor": "#2a3f5f",
           "arrowhead": 0,
           "arrowwidth": 1
          },
          "autotypenumbers": "strict",
          "coloraxis": {
           "colorbar": {
            "outlinewidth": 0,
            "ticks": ""
           }
          },
          "colorscale": {
           "diverging": [
            [
             0,
             "#8e0152"
            ],
            [
             0.1,
             "#c51b7d"
            ],
            [
             0.2,
             "#de77ae"
            ],
            [
             0.3,
             "#f1b6da"
            ],
            [
             0.4,
             "#fde0ef"
            ],
            [
             0.5,
             "#f7f7f7"
            ],
            [
             0.6,
             "#e6f5d0"
            ],
            [
             0.7,
             "#b8e186"
            ],
            [
             0.8,
             "#7fbc41"
            ],
            [
             0.9,
             "#4d9221"
            ],
            [
             1,
             "#276419"
            ]
           ],
           "sequential": [
            [
             0,
             "#0d0887"
            ],
            [
             0.1111111111111111,
             "#46039f"
            ],
            [
             0.2222222222222222,
             "#7201a8"
            ],
            [
             0.3333333333333333,
             "#9c179e"
            ],
            [
             0.4444444444444444,
             "#bd3786"
            ],
            [
             0.5555555555555556,
             "#d8576b"
            ],
            [
             0.6666666666666666,
             "#ed7953"
            ],
            [
             0.7777777777777778,
             "#fb9f3a"
            ],
            [
             0.8888888888888888,
             "#fdca26"
            ],
            [
             1,
             "#f0f921"
            ]
           ],
           "sequentialminus": [
            [
             0,
             "#0d0887"
            ],
            [
             0.1111111111111111,
             "#46039f"
            ],
            [
             0.2222222222222222,
             "#7201a8"
            ],
            [
             0.3333333333333333,
             "#9c179e"
            ],
            [
             0.4444444444444444,
             "#bd3786"
            ],
            [
             0.5555555555555556,
             "#d8576b"
            ],
            [
             0.6666666666666666,
             "#ed7953"
            ],
            [
             0.7777777777777778,
             "#fb9f3a"
            ],
            [
             0.8888888888888888,
             "#fdca26"
            ],
            [
             1,
             "#f0f921"
            ]
           ]
          },
          "colorway": [
           "#636efa",
           "#EF553B",
           "#00cc96",
           "#ab63fa",
           "#FFA15A",
           "#19d3f3",
           "#FF6692",
           "#B6E880",
           "#FF97FF",
           "#FECB52"
          ],
          "font": {
           "color": "#2a3f5f"
          },
          "geo": {
           "bgcolor": "white",
           "lakecolor": "white",
           "landcolor": "#E5ECF6",
           "showlakes": true,
           "showland": true,
           "subunitcolor": "white"
          },
          "hoverlabel": {
           "align": "left"
          },
          "hovermode": "closest",
          "mapbox": {
           "style": "light"
          },
          "paper_bgcolor": "white",
          "plot_bgcolor": "#E5ECF6",
          "polar": {
           "angularaxis": {
            "gridcolor": "white",
            "linecolor": "white",
            "ticks": ""
           },
           "bgcolor": "#E5ECF6",
           "radialaxis": {
            "gridcolor": "white",
            "linecolor": "white",
            "ticks": ""
           }
          },
          "scene": {
           "xaxis": {
            "backgroundcolor": "#E5ECF6",
            "gridcolor": "white",
            "gridwidth": 2,
            "linecolor": "white",
            "showbackground": true,
            "ticks": "",
            "zerolinecolor": "white"
           },
           "yaxis": {
            "backgroundcolor": "#E5ECF6",
            "gridcolor": "white",
            "gridwidth": 2,
            "linecolor": "white",
            "showbackground": true,
            "ticks": "",
            "zerolinecolor": "white"
           },
           "zaxis": {
            "backgroundcolor": "#E5ECF6",
            "gridcolor": "white",
            "gridwidth": 2,
            "linecolor": "white",
            "showbackground": true,
            "ticks": "",
            "zerolinecolor": "white"
           }
          },
          "shapedefaults": {
           "line": {
            "color": "#2a3f5f"
           }
          },
          "ternary": {
           "aaxis": {
            "gridcolor": "white",
            "linecolor": "white",
            "ticks": ""
           },
           "baxis": {
            "gridcolor": "white",
            "linecolor": "white",
            "ticks": ""
           },
           "bgcolor": "#E5ECF6",
           "caxis": {
            "gridcolor": "white",
            "linecolor": "white",
            "ticks": ""
           }
          },
          "title": {
           "x": 0.05
          },
          "xaxis": {
           "automargin": true,
           "gridcolor": "white",
           "linecolor": "white",
           "ticks": "",
           "title": {
            "standoff": 15
           },
           "zerolinecolor": "white",
           "zerolinewidth": 2
          },
          "yaxis": {
           "automargin": true,
           "gridcolor": "white",
           "linecolor": "white",
           "ticks": "",
           "title": {
            "standoff": 15
           },
           "zerolinecolor": "white",
           "zerolinewidth": 2
          }
         }
        },
        "xaxis": {
         "anchor": "y",
         "domain": [
          0,
          0.4
         ],
         "title": {
          "text": "x"
         }
        },
        "xaxis2": {
         "anchor": "y2",
         "domain": [
          0.6000000000000001,
          1
         ],
         "title": {
          "text": "time (s)"
         }
        },
        "yaxis": {
         "anchor": "x",
         "domain": [
          0,
          1
         ],
         "title": {
          "text": "y"
         }
        },
        "yaxis2": {
         "anchor": "x2",
         "domain": [
          0,
          1
         ],
         "title": {
          "text": "velocity (cm/s)"
         }
        }
       }
      }
     },
     "metadata": {},
     "output_type": "display_data"
    }
   ],
   "source": [
    "points_trace = go.Scatter(x=points[:,0], y=points[:,1], mode=\"markers\")\r\n",
    "vel_trace = go.Scatter(x=velocities[1], y=velocities[0], mode=\"markers\")\r\n",
    "\r\n",
    "g = go.FigureWidget(data=[points_trace, vel_trace])\r\n",
    "\r\n",
    "\r\n",
    "fig = make_subplots(rows = 1, cols = 2, subplot_titles=(\"Stroke Trajectory\", \"Velocity Profile\"), horizontal_spacing=0.2)\r\n",
    "fig.add_trace(\r\n",
    "    go.Scatter(x=points[:,0], y=points[:,1], mode=\"markers\"), row=1, col=1,\r\n",
    ")\r\n",
    "fig.add_trace(\r\n",
    "    go.Scatter(x=velocities[1], y=velocities[0], mode=\"markers\"), row=1, col=2\r\n",
    ")\r\n",
    "fig.update_xaxes(title_text=\"x\", row=1, col=1)\r\n",
    "fig.update_yaxes(title_text=\"y\", row=1, col=1)\r\n",
    "fig.update_xaxes(title_text=\"time (s)\", row=1, col=2)\r\n",
    "fig.update_yaxes(title_text=\"velocity (cm/s)\", row=1, col=2)\r\n",
    "fig.update_layout(showlegend=False)"
   ]
  },
  {
   "cell_type": "code",
   "execution_count": null,
   "metadata": {},
   "outputs": [],
   "source": []
  }
 ],
 "metadata": {
  "interpreter": {
   "hash": "56faf2608bd7395c2ca9e7dc550cb81edf567bff87061f72d7d9ac4a6aaf3131"
  },
  "kernelspec": {
   "display_name": "Python 3.9.4 64-bit",
   "name": "python3"
  },
  "language_info": {
   "name": "python",
   "version": ""
  },
  "metadata": {
   "interpreter": {
    "hash": "56faf2608bd7395c2ca9e7dc550cb81edf567bff87061f72d7d9ac4a6aaf3131"
   }
  },
  "orig_nbformat": 2
 },
 "nbformat": 4,
 "nbformat_minor": 2
}