{
 "metadata": {
  "language_info": {
   "codemirror_mode": {
    "name": "ipython",
    "version": 3
   },
   "file_extension": ".py",
   "mimetype": "text/x-python",
   "name": "python",
   "nbconvert_exporter": "python",
   "pygments_lexer": "ipython3",
   "version": "3.9.4"
  },
  "orig_nbformat": 2,
  "kernelspec": {
   "name": "python394jvsc74a57bd056faf2608bd7395c2ca9e7dc550cb81edf567bff87061f72d7d9ac4a6aaf3131",
   "display_name": "Python 3.9.4 64-bit"
  },
  "metadata": {
   "interpreter": {
    "hash": "56faf2608bd7395c2ca9e7dc550cb81edf567bff87061f72d7d9ac4a6aaf3131"
   }
  }
 },
 "nbformat": 4,
 "nbformat_minor": 2,
 "cells": [
  {
   "cell_type": "code",
   "execution_count": 1,
   "metadata": {},
   "outputs": [],
   "source": [
    "from trajectory_generator import TrajectoryGenerator\n",
    "import ipywidgets as widgets\n",
    "from IPython.display import display\n",
    "import numpy as np\n",
    "import plotly.express as px\n",
    "from plotly.subplots import make_subplots\n",
    "import plotly.graph_objects as go"
   ]
  },
  {
   "cell_type": "code",
   "execution_count": 2,
   "metadata": {},
   "outputs": [
    {
     "output_type": "display_data",
     "data": {
      "text/plain": "FloatSlider(value=0.01, continuous_update=False, description='Timestep Size:', max=0.1, min=0.001, readout_for…",
      "application/vnd.jupyter.widget-view+json": {
       "version_major": 2,
       "version_minor": 0,
       "model_id": "977185d2aea04bb3bcdf5d0a59bc4aa3"
      }
     },
     "metadata": {}
    }
   ],
   "source": [
    "step_slider = widgets.FloatSlider(\n",
    "    value=0.01,\n",
    "    min=0.001,\n",
    "    max=0.1,\n",
    "    step=0.001,\n",
    "    description='Timestep Size:',\n",
    "    disabled=False,\n",
    "    continuous_update=False,\n",
    "    orientation='horizontal',\n",
    "    readout=True,\n",
    "    readout_format='.3f',\n",
    ")\n",
    "display(step_slider)"
   ]
  },
  {
   "cell_type": "code",
   "execution_count": 123,
   "metadata": {},
   "outputs": [],
   "source": [
    "# Letter G\n",
    "# parameters = {\"step_size\": step_slider.value, \"t_points\": np.array([[0,0], [-10,10], [-20,-10], [-10,-30], [0,-10], [-10,-10]]), \"delta\": [-0.9, -0.5, -0.9, -1, 0.1], \"Ac\": [0.05, 0.09, 0.1, 0.1, 0.2], \"T\": [0.15, 0.2, 0.25, 0.4, 0.1]}\n",
    "\n",
    "# unit test, Fig 8. Djioua08EPM\n",
    "parameters = {\"step_size\": step_slider.value, \"t_points\": np.array([[25,18], [6,4], [8,5.5]]), \"delta\": [-0.7, 0.7], \"Ac\": [0.043949, 0.1082468], \"T\": [0.260832, 0.150658]}\n",
    "\n",
    "trajectory_generator = TrajectoryGenerator(**parameters)\n",
    "points, velocities = trajectory_generator.generate_stroke()\n",
    "velocities[0] = [velocities[0][x] if velocities[1][x] < 0.28 else -1*velocities[0][x] for x in range(len(velocities[0])-2)]\n"
   ]
  },
  {
   "cell_type": "code",
   "execution_count": 124,
   "metadata": {},
   "outputs": [
    {
     "output_type": "display_data",
     "data": {
      "application/vnd.plotly.v1+json": {
       "config": {
        "plotlyServerURL": "https://plot.ly"
       },
       "data": [
        {
         "mode": "markers",
         "type": "scatter",
         "x": [
          0,
          0,
          0,
          -1.3680740085695608e-12,
          -1.4541890514012512e-7,
          -0.00008097065506725302,
          -0.0037749281153593244,
          -0.04487378012990412,
          -0.23904468975605864,
          -0.7846417358134403,
          -1.8631016196954595,
          -3.4446638321978464,
          -5.221277323364534,
          -6.823065976184606,
          -8.04404358429441,
          -8.866969140792705,
          -10,
          -10.000000000001881,
          -10.000003110565343,
          -10.001365829690172,
          -10.037494623107904,
          -10.278905300056541,
          -11.002419638977216,
          -12.301886619616361,
          -13.949739391782394,
          -15.586734971183589,
          -16.957391400658246,
          -17.979465859998072,
          -18.68731049144261,
          -19.156796291489567,
          -19.46121772331865,
          -19.656556601816327,
          -19.781358048687736,
          -19.86094271044599,
          -19.91163070002944,
          -19.943876219342318,
          -20,
          -19.99999999999998,
          -19.999999976669308,
          -19.999990247107476,
          -19.999705848825528,
          -19.99704678526211,
          -19.980505150949153,
          -19.905407133836185,
          -19.674661168391196,
          -19.177321639294206,
          -18.367576748569476,
          -17.30245044898204,
          -16.108903354230073,
          -14.922450004356655,
          -13.843752755331824,
          -12.926063109608048,
          -12.183065383071561,
          -11.603363321916904,
          -11.163450474450723,
          -10.836513997451398,
          -10.597326379640466,
          -10.42438777540288,
          -10.30044453724229,
          -10.212190462046115,
          -10.149643059227778,
          -10,
          -10,
          -9.999999999804817,
          -9.999999528670632,
          -9.999952807146588,
          -9.999001229470114,
          -9.99134006407468,
          -9.957339153138042,
          -9.856735888137075,
          -9.633832584273739,
          -9.235478243689224,
          -8.63224061876705,
          -7.831538797354661,
          -6.877373226208393,
          -5.838505885843437,
          -4.791235414492528,
          -3.803395533550594,
          -2.923997091909958,
          -2.1797777762196793,
          -1.5773591717617386,
          -1.108524155819513,
          -0.7562331025624935,
          -0.49980403141637275,
          -0.31858517115832186,
          -0.19410456067926773,
          -0.11101491653764661,
          -0.05723786109704676,
          -0.023661072166230923,
          -0.00364300955059349,
          0.00751705994590246,
          0.013060608535340634,
          0.015169116317881759,
          0.015275752121294062,
          0.01429829855324627,
          0.01280746507188013,
          0.011145237974901079,
          0.009506189631370177,
          0.007992194427187016,
          0.006648537275525612,
          0.005487280887448875,
          0,
          -0.22591285290541357,
          -2.961591371437133,
          -6.267279845888979,
          -8.244291157316512,
          -9.199598104735099,
          -9.633339093358526,
          -9.82872810139385,
          -9.917961961371892,
          -9.959639614734701
         ],
         "xaxis": "x",
         "y": [
          0,
          0,
          0,
          3.92644459847372e-12,
          4.1718995640044323e-7,
          0.0002322897643052928,
          0.0108175645767746,
          0.12704136316926926,
          0.6419442256965416,
          1.8675920147402278,
          3.7244500129367135,
          5.718170269394542,
          7.364189113975496,
          8.48957274328821,
          9.171233662841313,
          9.556851621671065,
          10,
          9.999999999997828,
          9.999996407670896,
          9.998422557448878,
          9.956642685212875,
          9.674795564556709,
          8.801044511121074,
          7.110960682954085,
          4.70006411565487,
          1.9157962144204106,
          -0.8388057386579142,
          -3.266236750148673,
          -5.2278861949658015,
          -6.714072799393822,
          -7.787300486411791,
          -8.535141533148167,
          -9.042571372409643,
          -9.380121655320224,
          -9.601389711090906,
          -9.744876767825204,
          -10,
          -10.00000000000169,
          -10.000001709397393,
          -10.000713851948465,
          -10.020927590877067,
          -10.173471902628336,
          -10.70976396096764,
          -11.880014529166779,
          -13.74074663314664,
          -16.109438312904974,
          -18.669741916372445,
          -21.11694245973899,
          -23.25057459704827,
          -24.990125402320196,
          -26.342749509194654,
          -27.36093495335659,
          -28.110893115658726,
          -28.65534628907203,
          -29.04676201023874,
          -29.32624538224976,
          -29.524821274712718,
          -29.66538932351558,
          -29.764614076589158,
          -29.834506120080004,
          -29.883660741633314,
          -30,
          -30,
          -29.99999999986441,
          -29.9999996725754,
          -29.999967215831678,
          -29.999306132287522,
          -29.993981184492185,
          -29.97029367654641,
          -29.89967826104268,
          -29.740369575085488,
          -29.44561706787347,
          -28.97349302735776,
          -28.29495261662609,
          -27.39968436844405,
          -26.299471789032847,
          -25.027855098598486,
          -23.635363179185944,
          -22.18137750690121,
          -20.72510339486083,
          -19.31813528025662,
          -18.000013641918084,
          -16.796873201414826,
          -15.722425431798328,
          -14.780250089397024,
          -13.966511477541719,
          -13.272517885670279,
          -12.686834832116993,
          -12.196871299960993,
          -11.789976810078723,
          -11.45413825212384,
          -11.178375502634001,
          -10.952924684880752,
          -10.769280432826292,
          -10.620150559417745,
          -10.499361048001752,
          -10.401737109006696,
          -10.322977003287335,
          -10.259528894510591,
          -10.208476561818905,
          -10.167436853335499,
          -10,
          -10.011049058234773,
          -10.10425699902188,
          -10.11699908052431,
          -10.072407009791203,
          -10.036840798354696,
          -10.017674013175688,
          -10.00842359065875,
          -10.004071561377875,
          -10.002011530783586
         ],
         "yaxis": "y"
        },
        {
         "type": "scatter",
         "x": [
          0.01,
          0.02,
          0.03,
          0.04,
          0.05,
          0.06,
          0.07,
          0.08,
          0.09,
          0.1,
          0.11,
          0.12,
          0.13,
          0.14,
          0.15,
          0.16,
          0.17,
          0.18,
          0.19,
          0.2,
          0.21,
          0.22,
          0.23,
          0.24,
          0.25,
          0.26,
          0.27,
          0.28,
          0.29,
          0.3,
          0.31,
          0.32,
          0.33,
          0.34,
          0.35,
          0.36,
          0.37,
          0.38,
          0.39,
          0.4,
          0.41,
          0.42,
          0.43,
          0.44,
          0.45,
          0.46,
          0.47,
          0.48,
          0.49,
          0.5,
          0.51,
          0.52,
          0.53,
          0.54,
          0.55,
          0.56,
          0.57,
          0.58,
          0.59,
          0.6,
          0.61,
          0.62,
          0.63,
          0.64,
          0.65,
          0.66,
          0.67,
          0.68,
          0.69,
          0.7,
          0.71,
          0.72,
          0.73,
          0.74,
          0.75,
          0.76,
          0.77,
          0.78,
          0.79,
          0.8,
          0.81,
          0.82,
          0.83,
          0.84,
          0.85,
          0.86,
          0.87,
          0.88,
          0.89,
          0.9,
          0.91,
          0.92,
          0.93,
          0.94,
          0.95,
          0.96,
          0.97,
          0.98,
          0.99,
          1,
          1.01,
          1.02,
          1.03,
          1.04,
          1.05,
          1.06,
          1.07,
          1.08,
          1.09,
          1.1
         ],
         "xaxis": "x2",
         "y": [
          0,
          0,
          4.1579554684733027e-10,
          0.00004418036256943738,
          0.02455557157466385,
          1.121130521277271,
          12.327646570283482,
          55.02974649985474,
          134.15992842328953,
          214.73232981107148,
          254.48496012585332,
          242.1927648322944,
          195.76044547937147,
          139.8373315231495,
          90.87946312066612,
          121.66098031544816,
          2.873753399130471e-10,
          0.00047518857137380523,
          0.2081828027124442,
          5.523447689512227,
          37.11022963644544,
          113.44222767575143,
          213.19000398712413,
          292.0246739053126,
          322.9845549375944,
          307.6772817021617,
          263.3829439425007,
          208.5452604739844,
          155.85786921509677,
          111.55671545625609,
          77.29317619534652,
          52.2551856674651,
          34.680529390450296,
          22.69996140801785,
          14.70656620901992,
          26.122354861425965,
          1.6894498365007944e-10,
          0.00017095549108998945,
          0.07122090124534881,
          2.021573950802817,
          15.256748561440816,
          53.65471065093461,
          117.26577098815775,
          187.4984710164449,
          242.03402407427697,
          268.5300975679136,
          266.8948207351791,
          244.47782649454797,
          210.563732763932,
          173.0080844802249,
          137.07136406164014,
          105.56907060507754,
          79.52884619726188,
          58.883748194409335,
          43.01144210827854,
          31.08747361583588,
          22.28612509609685,
          15.876863011390322,
          11.257743793522087,
          7.955095486145002,
          18.954648034811598,
          0,
          2.376566550837477e-8,
          0.00005736597584076252,
          0.005688884795734838,
          0.11586766273286468,
          0.9329979862746082,
          4.143862904588321,
          12.291278955267133,
          27.39801823026594,
          49.55453775087543,
          76.60265933729879,
          104.95429937877827,
          130.84101701545373,
          151.3179787986744,
          164.7356806388583,
          170.7296510864062,
          169.92398166148502,
          163.54194199793218,
          153.05121530095678,
          139.9017843213521,
          125.36570128146352,
          110.4623862752715,
          95.94449703564256,
          82.3204683422924,
          69.8949922757134,
          58.81467596708855,
          49.111267912535986,
          40.7386608429187,
          33.602393391004455,
          27.581846373504327,
          22.546067734901698,
          18.36442830143009,
          14.91330766742479,
          12.079871130348758,
          9.76380892061721,
          7.8777158697159075,
          6.346616964039773,
          5.1070011629172445,
          4.105613460619313,
          16.75267444512399,
          22.618288793747958,
          273.7265912727822,
          330.57130321255636,
          197.751414110865,
          95.59687856735513,
          43.416426714565766,
          19.560785970346323,
          8.93399234689762,
          4.172853359369207
         ],
         "yaxis": "y2"
        }
       ],
       "layout": {
        "annotations": [
         {
          "font": {
           "size": 16
          },
          "showarrow": false,
          "text": "Stroke Trajectory",
          "x": 0.2,
          "xanchor": "center",
          "xref": "paper",
          "y": 1,
          "yanchor": "bottom",
          "yref": "paper"
         },
         {
          "font": {
           "size": 16
          },
          "showarrow": false,
          "text": "Velocity Profile",
          "x": 0.8,
          "xanchor": "center",
          "xref": "paper",
          "y": 1,
          "yanchor": "bottom",
          "yref": "paper"
         }
        ],
        "showlegend": false,
        "template": {
         "data": {
          "bar": [
           {
            "error_x": {
             "color": "#2a3f5f"
            },
            "error_y": {
             "color": "#2a3f5f"
            },
            "marker": {
             "line": {
              "color": "#E5ECF6",
              "width": 0.5
             }
            },
            "type": "bar"
           }
          ],
          "barpolar": [
           {
            "marker": {
             "line": {
              "color": "#E5ECF6",
              "width": 0.5
             }
            },
            "type": "barpolar"
           }
          ],
          "carpet": [
           {
            "aaxis": {
             "endlinecolor": "#2a3f5f",
             "gridcolor": "white",
             "linecolor": "white",
             "minorgridcolor": "white",
             "startlinecolor": "#2a3f5f"
            },
            "baxis": {
             "endlinecolor": "#2a3f5f",
             "gridcolor": "white",
             "linecolor": "white",
             "minorgridcolor": "white",
             "startlinecolor": "#2a3f5f"
            },
            "type": "carpet"
           }
          ],
          "choropleth": [
           {
            "colorbar": {
             "outlinewidth": 0,
             "ticks": ""
            },
            "type": "choropleth"
           }
          ],
          "contour": [
           {
            "colorbar": {
             "outlinewidth": 0,
             "ticks": ""
            },
            "colorscale": [
             [
              0,
              "#0d0887"
             ],
             [
              0.1111111111111111,
              "#46039f"
             ],
             [
              0.2222222222222222,
              "#7201a8"
             ],
             [
              0.3333333333333333,
              "#9c179e"
             ],
             [
              0.4444444444444444,
              "#bd3786"
             ],
             [
              0.5555555555555556,
              "#d8576b"
             ],
             [
              0.6666666666666666,
              "#ed7953"
             ],
             [
              0.7777777777777778,
              "#fb9f3a"
             ],
             [
              0.8888888888888888,
              "#fdca26"
             ],
             [
              1,
              "#f0f921"
             ]
            ],
            "type": "contour"
           }
          ],
          "contourcarpet": [
           {
            "colorbar": {
             "outlinewidth": 0,
             "ticks": ""
            },
            "type": "contourcarpet"
           }
          ],
          "heatmap": [
           {
            "colorbar": {
             "outlinewidth": 0,
             "ticks": ""
            },
            "colorscale": [
             [
              0,
              "#0d0887"
             ],
             [
              0.1111111111111111,
              "#46039f"
             ],
             [
              0.2222222222222222,
              "#7201a8"
             ],
             [
              0.3333333333333333,
              "#9c179e"
             ],
             [
              0.4444444444444444,
              "#bd3786"
             ],
             [
              0.5555555555555556,
              "#d8576b"
             ],
             [
              0.6666666666666666,
              "#ed7953"
             ],
             [
              0.7777777777777778,
              "#fb9f3a"
             ],
             [
              0.8888888888888888,
              "#fdca26"
             ],
             [
              1,
              "#f0f921"
             ]
            ],
            "type": "heatmap"
           }
          ],
          "heatmapgl": [
           {
            "colorbar": {
             "outlinewidth": 0,
             "ticks": ""
            },
            "colorscale": [
             [
              0,
              "#0d0887"
             ],
             [
              0.1111111111111111,
              "#46039f"
             ],
             [
              0.2222222222222222,
              "#7201a8"
             ],
             [
              0.3333333333333333,
              "#9c179e"
             ],
             [
              0.4444444444444444,
              "#bd3786"
             ],
             [
              0.5555555555555556,
              "#d8576b"
             ],
             [
              0.6666666666666666,
              "#ed7953"
             ],
             [
              0.7777777777777778,
              "#fb9f3a"
             ],
             [
              0.8888888888888888,
              "#fdca26"
             ],
             [
              1,
              "#f0f921"
             ]
            ],
            "type": "heatmapgl"
           }
          ],
          "histogram": [
           {
            "marker": {
             "colorbar": {
              "outlinewidth": 0,
              "ticks": ""
             }
            },
            "type": "histogram"
           }
          ],
          "histogram2d": [
           {
            "colorbar": {
             "outlinewidth": 0,
             "ticks": ""
            },
            "colorscale": [
             [
              0,
              "#0d0887"
             ],
             [
              0.1111111111111111,
              "#46039f"
             ],
             [
              0.2222222222222222,
              "#7201a8"
             ],
             [
              0.3333333333333333,
              "#9c179e"
             ],
             [
              0.4444444444444444,
              "#bd3786"
             ],
             [
              0.5555555555555556,
              "#d8576b"
             ],
             [
              0.6666666666666666,
              "#ed7953"
             ],
             [
              0.7777777777777778,
              "#fb9f3a"
             ],
             [
              0.8888888888888888,
              "#fdca26"
             ],
             [
              1,
              "#f0f921"
             ]
            ],
            "type": "histogram2d"
           }
          ],
          "histogram2dcontour": [
           {
            "colorbar": {
             "outlinewidth": 0,
             "ticks": ""
            },
            "colorscale": [
             [
              0,
              "#0d0887"
             ],
             [
              0.1111111111111111,
              "#46039f"
             ],
             [
              0.2222222222222222,
              "#7201a8"
             ],
             [
              0.3333333333333333,
              "#9c179e"
             ],
             [
              0.4444444444444444,
              "#bd3786"
             ],
             [
              0.5555555555555556,
              "#d8576b"
             ],
             [
              0.6666666666666666,
              "#ed7953"
             ],
             [
              0.7777777777777778,
              "#fb9f3a"
             ],
             [
              0.8888888888888888,
              "#fdca26"
             ],
             [
              1,
              "#f0f921"
             ]
            ],
            "type": "histogram2dcontour"
           }
          ],
          "mesh3d": [
           {
            "colorbar": {
             "outlinewidth": 0,
             "ticks": ""
            },
            "type": "mesh3d"
           }
          ],
          "parcoords": [
           {
            "line": {
             "colorbar": {
              "outlinewidth": 0,
              "ticks": ""
             }
            },
            "type": "parcoords"
           }
          ],
          "pie": [
           {
            "automargin": true,
            "type": "pie"
           }
          ],
          "scatter": [
           {
            "marker": {
             "colorbar": {
              "outlinewidth": 0,
              "ticks": ""
             }
            },
            "type": "scatter"
           }
          ],
          "scatter3d": [
           {
            "line": {
             "colorbar": {
              "outlinewidth": 0,
              "ticks": ""
             }
            },
            "marker": {
             "colorbar": {
              "outlinewidth": 0,
              "ticks": ""
             }
            },
            "type": "scatter3d"
           }
          ],
          "scattercarpet": [
           {
            "marker": {
             "colorbar": {
              "outlinewidth": 0,
              "ticks": ""
             }
            },
            "type": "scattercarpet"
           }
          ],
          "scattergeo": [
           {
            "marker": {
             "colorbar": {
              "outlinewidth": 0,
              "ticks": ""
             }
            },
            "type": "scattergeo"
           }
          ],
          "scattergl": [
           {
            "marker": {
             "colorbar": {
              "outlinewidth": 0,
              "ticks": ""
             }
            },
            "type": "scattergl"
           }
          ],
          "scattermapbox": [
           {
            "marker": {
             "colorbar": {
              "outlinewidth": 0,
              "ticks": ""
             }
            },
            "type": "scattermapbox"
           }
          ],
          "scatterpolar": [
           {
            "marker": {
             "colorbar": {
              "outlinewidth": 0,
              "ticks": ""
             }
            },
            "type": "scatterpolar"
           }
          ],
          "scatterpolargl": [
           {
            "marker": {
             "colorbar": {
              "outlinewidth": 0,
              "ticks": ""
             }
            },
            "type": "scatterpolargl"
           }
          ],
          "scatterternary": [
           {
            "marker": {
             "colorbar": {
              "outlinewidth": 0,
              "ticks": ""
             }
            },
            "type": "scatterternary"
           }
          ],
          "surface": [
           {
            "colorbar": {
             "outlinewidth": 0,
             "ticks": ""
            },
            "colorscale": [
             [
              0,
              "#0d0887"
             ],
             [
              0.1111111111111111,
              "#46039f"
             ],
             [
              0.2222222222222222,
              "#7201a8"
             ],
             [
              0.3333333333333333,
              "#9c179e"
             ],
             [
              0.4444444444444444,
              "#bd3786"
             ],
             [
              0.5555555555555556,
              "#d8576b"
             ],
             [
              0.6666666666666666,
              "#ed7953"
             ],
             [
              0.7777777777777778,
              "#fb9f3a"
             ],
             [
              0.8888888888888888,
              "#fdca26"
             ],
             [
              1,
              "#f0f921"
             ]
            ],
            "type": "surface"
           }
          ],
          "table": [
           {
            "cells": {
             "fill": {
              "color": "#EBF0F8"
             },
             "line": {
              "color": "white"
             }
            },
            "header": {
             "fill": {
              "color": "#C8D4E3"
             },
             "line": {
              "color": "white"
             }
            },
            "type": "table"
           }
          ]
         },
         "layout": {
          "annotationdefaults": {
           "arrowcolor": "#2a3f5f",
           "arrowhead": 0,
           "arrowwidth": 1
          },
          "autotypenumbers": "strict",
          "coloraxis": {
           "colorbar": {
            "outlinewidth": 0,
            "ticks": ""
           }
          },
          "colorscale": {
           "diverging": [
            [
             0,
             "#8e0152"
            ],
            [
             0.1,
             "#c51b7d"
            ],
            [
             0.2,
             "#de77ae"
            ],
            [
             0.3,
             "#f1b6da"
            ],
            [
             0.4,
             "#fde0ef"
            ],
            [
             0.5,
             "#f7f7f7"
            ],
            [
             0.6,
             "#e6f5d0"
            ],
            [
             0.7,
             "#b8e186"
            ],
            [
             0.8,
             "#7fbc41"
            ],
            [
             0.9,
             "#4d9221"
            ],
            [
             1,
             "#276419"
            ]
           ],
           "sequential": [
            [
             0,
             "#0d0887"
            ],
            [
             0.1111111111111111,
             "#46039f"
            ],
            [
             0.2222222222222222,
             "#7201a8"
            ],
            [
             0.3333333333333333,
             "#9c179e"
            ],
            [
             0.4444444444444444,
             "#bd3786"
            ],
            [
             0.5555555555555556,
             "#d8576b"
            ],
            [
             0.6666666666666666,
             "#ed7953"
            ],
            [
             0.7777777777777778,
             "#fb9f3a"
            ],
            [
             0.8888888888888888,
             "#fdca26"
            ],
            [
             1,
             "#f0f921"
            ]
           ],
           "sequentialminus": [
            [
             0,
             "#0d0887"
            ],
            [
             0.1111111111111111,
             "#46039f"
            ],
            [
             0.2222222222222222,
             "#7201a8"
            ],
            [
             0.3333333333333333,
             "#9c179e"
            ],
            [
             0.4444444444444444,
             "#bd3786"
            ],
            [
             0.5555555555555556,
             "#d8576b"
            ],
            [
             0.6666666666666666,
             "#ed7953"
            ],
            [
             0.7777777777777778,
             "#fb9f3a"
            ],
            [
             0.8888888888888888,
             "#fdca26"
            ],
            [
             1,
             "#f0f921"
            ]
           ]
          },
          "colorway": [
           "#636efa",
           "#EF553B",
           "#00cc96",
           "#ab63fa",
           "#FFA15A",
           "#19d3f3",
           "#FF6692",
           "#B6E880",
           "#FF97FF",
           "#FECB52"
          ],
          "font": {
           "color": "#2a3f5f"
          },
          "geo": {
           "bgcolor": "white",
           "lakecolor": "white",
           "landcolor": "#E5ECF6",
           "showlakes": true,
           "showland": true,
           "subunitcolor": "white"
          },
          "hoverlabel": {
           "align": "left"
          },
          "hovermode": "closest",
          "mapbox": {
           "style": "light"
          },
          "paper_bgcolor": "white",
          "plot_bgcolor": "#E5ECF6",
          "polar": {
           "angularaxis": {
            "gridcolor": "white",
            "linecolor": "white",
            "ticks": ""
           },
           "bgcolor": "#E5ECF6",
           "radialaxis": {
            "gridcolor": "white",
            "linecolor": "white",
            "ticks": ""
           }
          },
          "scene": {
           "xaxis": {
            "backgroundcolor": "#E5ECF6",
            "gridcolor": "white",
            "gridwidth": 2,
            "linecolor": "white",
            "showbackground": true,
            "ticks": "",
            "zerolinecolor": "white"
           },
           "yaxis": {
            "backgroundcolor": "#E5ECF6",
            "gridcolor": "white",
            "gridwidth": 2,
            "linecolor": "white",
            "showbackground": true,
            "ticks": "",
            "zerolinecolor": "white"
           },
           "zaxis": {
            "backgroundcolor": "#E5ECF6",
            "gridcolor": "white",
            "gridwidth": 2,
            "linecolor": "white",
            "showbackground": true,
            "ticks": "",
            "zerolinecolor": "white"
           }
          },
          "shapedefaults": {
           "line": {
            "color": "#2a3f5f"
           }
          },
          "ternary": {
           "aaxis": {
            "gridcolor": "white",
            "linecolor": "white",
            "ticks": ""
           },
           "baxis": {
            "gridcolor": "white",
            "linecolor": "white",
            "ticks": ""
           },
           "bgcolor": "#E5ECF6",
           "caxis": {
            "gridcolor": "white",
            "linecolor": "white",
            "ticks": ""
           }
          },
          "title": {
           "x": 0.05
          },
          "xaxis": {
           "automargin": true,
           "gridcolor": "white",
           "linecolor": "white",
           "ticks": "",
           "title": {
            "standoff": 15
           },
           "zerolinecolor": "white",
           "zerolinewidth": 2
          },
          "yaxis": {
           "automargin": true,
           "gridcolor": "white",
           "linecolor": "white",
           "ticks": "",
           "title": {
            "standoff": 15
           },
           "zerolinecolor": "white",
           "zerolinewidth": 2
          }
         }
        },
        "xaxis": {
         "anchor": "y",
         "domain": [
          0,
          0.4
         ],
         "title": {
          "text": "x"
         }
        },
        "xaxis2": {
         "anchor": "y2",
         "domain": [
          0.6000000000000001,
          1
         ],
         "title": {
          "text": "time (s)"
         }
        },
        "yaxis": {
         "anchor": "x",
         "domain": [
          0,
          1
         ],
         "title": {
          "text": "y"
         }
        },
        "yaxis2": {
         "anchor": "x2",
         "domain": [
          0,
          1
         ],
         "title": {
          "text": "velocity (cm/s)"
         }
        }
       }
      }
     },
     "metadata": {}
    }
   ],
   "source": [
    "fig = make_subplots(rows = 1, cols = 2, subplot_titles=(\"Stroke Trajectory\", \"Velocity Profile\"), horizontal_spacing=0.2)\n",
    "fig.add_trace(\n",
    "    go.Scatter(x=points[:,0], y=points[:,1], mode=\"markers\"), row=1, col=1,\n",
    ")\n",
    "fig.add_trace(\n",
    "    go.Scatter(x=velocities[1], y=velocities[0]), row=1, col=2\n",
    ")\n",
    "fig.update_xaxes(title_text=\"x\", row=1, col=1)\n",
    "fig.update_yaxes(title_text=\"y\", row=1, col=1)\n",
    "fig.update_xaxes(title_text=\"time (s)\", row=1, col=2)\n",
    "fig.update_yaxes(title_text=\"velocity (cm/s)\", row=1, col=2)\n",
    "fig.update_layout(showlegend=False)"
   ]
  },
  {
   "cell_type": "code",
   "execution_count": null,
   "metadata": {},
   "outputs": [],
   "source": []
  }
 ]
}