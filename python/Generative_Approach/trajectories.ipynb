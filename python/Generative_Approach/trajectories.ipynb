{
 "cells": [
  {
   "cell_type": "code",
   "execution_count": 1,
   "metadata": {},
   "outputs": [
    {
     "data": {
      "text/html": [
       "        <script type=\"text/javascript\">\n",
       "        window.PlotlyConfig = {MathJaxConfig: 'local'};\n",
       "        if (window.MathJax) {MathJax.Hub.Config({SVG: {font: \"STIX-Web\"}});}\n",
       "        if (typeof require !== 'undefined') {\n",
       "        require.undef(\"plotly\");\n",
       "        requirejs.config({\n",
       "            paths: {\n",
       "                'plotly': ['https://cdn.plot.ly/plotly-2.2.0.min']\n",
       "            }\n",
       "        });\n",
       "        require(['plotly'], function(Plotly) {\n",
       "            window._Plotly = Plotly;\n",
       "        });\n",
       "        }\n",
       "        </script>\n",
       "        "
      ]
     },
     "metadata": {},
     "output_type": "display_data"
    }
   ],
   "source": [
    "from trajectory_generator import TrajectoryGenerator\n",
    "import plotly as py\n",
    "import plotly.graph_objs as go\n",
    "# import plotly.graph_objects as go\n",
    "import ipywidgets as widgets\n",
    "import numpy as np\n",
    "from plotly.subplots import make_subplots\n",
    "py.offline.init_notebook_mode(connected=True)"
   ]
  },
  {
   "cell_type": "code",
   "execution_count": 2,
   "metadata": {},
   "outputs": [
    {
     "ename": "TypeError",
     "evalue": "unhashable type: 'slice'",
     "output_type": "error",
     "traceback": [
      "\u001b[1;31m---------------------------------------------------------------------------\u001b[0m",
      "\u001b[1;31mTypeError\u001b[0m                                 Traceback (most recent call last)",
      "\u001b[1;32m~\\AppData\\Local\\Temp/ipykernel_20668/606873827.py\u001b[0m in \u001b[0;36m<module>\u001b[1;34m\u001b[0m\n\u001b[0;32m      1\u001b[0m \u001b[0mP\u001b[0m \u001b[1;33m=\u001b[0m \u001b[0mnp\u001b[0m\u001b[1;33m.\u001b[0m\u001b[0marray\u001b[0m\u001b[1;33m(\u001b[0m\u001b[1;33m[\u001b[0m\u001b[1;33m[\u001b[0m\u001b[1;36m0\u001b[0m\u001b[1;33m,\u001b[0m\u001b[1;36m0\u001b[0m\u001b[1;33m]\u001b[0m\u001b[1;33m,\u001b[0m \u001b[1;33m[\u001b[0m\u001b[1;33m-\u001b[0m\u001b[1;36m50\u001b[0m\u001b[1;33m,\u001b[0m \u001b[1;36m100\u001b[0m\u001b[1;33m]\u001b[0m\u001b[1;33m,\u001b[0m \u001b[1;33m[\u001b[0m\u001b[1;36m100\u001b[0m\u001b[1;33m,\u001b[0m\u001b[1;36m70\u001b[0m\u001b[1;33m]\u001b[0m\u001b[1;33m,\u001b[0m \u001b[1;33m[\u001b[0m\u001b[1;33m-\u001b[0m\u001b[1;36m40\u001b[0m\u001b[1;33m,\u001b[0m \u001b[1;36m120\u001b[0m\u001b[1;33m]\u001b[0m\u001b[1;33m]\u001b[0m\u001b[1;33m)\u001b[0m\u001b[1;33m.\u001b[0m\u001b[0mT\u001b[0m \u001b[1;31m#this is the transpose\u001b[0m\u001b[1;33m\u001b[0m\u001b[1;33m\u001b[0m\u001b[0m\n\u001b[0;32m      2\u001b[0m \u001b[0mparams\u001b[0m \u001b[1;33m=\u001b[0m \u001b[0mdict\u001b[0m\u001b[1;33m(\u001b[0m\u001b[0mP\u001b[0m\u001b[1;33m=\u001b[0m\u001b[0mP\u001b[0m\u001b[1;33m,\u001b[0m \u001b[0mDelta_t\u001b[0m\u001b[1;33m=\u001b[0m\u001b[1;36m0.4\u001b[0m\u001b[1;33m,\u001b[0m \u001b[0mdelta\u001b[0m\u001b[1;33m=\u001b[0m\u001b[1;36m0.3\u001b[0m\u001b[1;33m,\u001b[0m \u001b[0mAc\u001b[0m\u001b[1;33m=\u001b[0m\u001b[1;36m0.05\u001b[0m\u001b[1;33m,\u001b[0m \u001b[0mT\u001b[0m\u001b[1;33m=\u001b[0m\u001b[1;36m0.3\u001b[0m\u001b[1;33m)\u001b[0m \u001b[1;31m# Delta_t, delta etc can be arrays\u001b[0m\u001b[1;33m\u001b[0m\u001b[1;33m\u001b[0m\u001b[0m\n\u001b[1;32m----> 3\u001b[1;33m \u001b[0mmu\u001b[0m\u001b[1;33m,\u001b[0m \u001b[0msigma\u001b[0m \u001b[1;33m=\u001b[0m \u001b[0mparams\u001b[0m\u001b[1;33m[\u001b[0m\u001b[1;33m-\u001b[0m\u001b[1;36m2\u001b[0m\u001b[1;33m:\u001b[0m\u001b[1;33m]\u001b[0m\u001b[1;33m\u001b[0m\u001b[1;33m\u001b[0m\u001b[0m\n\u001b[0m\u001b[0;32m      4\u001b[0m \u001b[1;33m\u001b[0m\u001b[0m\n\u001b[0;32m      5\u001b[0m \u001b[0mfig\u001b[0m \u001b[1;33m=\u001b[0m \u001b[0mmake_subplots\u001b[0m\u001b[1;33m(\u001b[0m\u001b[0mrows\u001b[0m \u001b[1;33m=\u001b[0m \u001b[1;36m1\u001b[0m\u001b[1;33m,\u001b[0m \u001b[0mcols\u001b[0m \u001b[1;33m=\u001b[0m \u001b[1;36m2\u001b[0m\u001b[1;33m,\u001b[0m \u001b[0msubplot_titles\u001b[0m\u001b[1;33m=\u001b[0m\u001b[1;33m(\u001b[0m\u001b[1;34m\"Stroke Trajectory\"\u001b[0m\u001b[1;33m,\u001b[0m \u001b[1;34m\"Velocity Profile\"\u001b[0m\u001b[1;33m)\u001b[0m\u001b[1;33m,\u001b[0m \u001b[0mhorizontal_spacing\u001b[0m\u001b[1;33m=\u001b[0m\u001b[1;36m0.2\u001b[0m\u001b[1;33m)\u001b[0m\u001b[1;33m\u001b[0m\u001b[1;33m\u001b[0m\u001b[0m\n",
      "\u001b[1;31mTypeError\u001b[0m: unhashable type: 'slice'"
     ]
    }
   ],
   "source": [
    "P = np.array([[0,0], [-50, 100], [100,70], [-40, 120]]).T #this is the transpose\r\n",
    "params = dict(P=P, Delta_t=0.4, delta=0.3, Ac=0.05, T=0.3) # Delta_t, delta etc can be arrays\r\n",
    "mu, sigma = params[-2:]"
   ]
  },
  {
   "cell_type": "code",
   "execution_count": null,
   "metadata": {},
   "outputs": [],
   "source": [
    "fig = make_subplots(rows = 1, cols = 2, subplot_titles=(\"Stroke Trajectory\", \"Velocity Profile\"), horizontal_spacing=0.2)\r\n",
    "\r\n",
    "# Letter G\r\n",
    "# parameters = {\"step_size\": 0.01, \"t_points\": np.array([[0,0], [-10,10], [-20,-10], [-10,-30], [0,-10], [-10,-10]]), \"delta\": [-0.9, -0.5, -0.9, -1, 0.1], \"Ac\": [0.05, 0.01, 0.01, 0.01, 0.02], \"delta_t\": [0, 0, 0, 0, 0], \"T\": [0.15, 0.2, 0.25, 0.4, 0.1]}\r\n",
    "\r\n",
    "# Fig 8. Djioua08EPM\r\n",
    "#parameters = {\"step_size\": 0.01, \"t_points\": np.array([[25,18], [6,4], [8,5.5]]), \"delta\": [-0.5, 0.5], \"Ac\": [0.043949, 0.1082468], \"delta_t\": [0, 0], \"T\": [0.260832, 0.150658]}\r\n",
    "parameters = {\"step_size\": 0.01, \"t_points\": np.array([[25,18], [6,4], [8,5.5]]), \"delta\": [-0.5, 0.5], \"Ac\": [0.043949, 0.1082468], \"delta_t\": [0, 0], \"T\": [0.5, 0.2]}\r\n",
    "\r\n",
    "trajectory_generator = TrajectoryGenerator(**parameters)\r\n",
    "points, velocities, vel, dw = trajectory_generator.generate_strokes()\r\n",
    "# print(len(points[0]))\r\n",
    "# print('points', points)\r\n",
    "# print('weights, displacement', dw)\r\n",
    "\r\n",
    "for i in range(len(points)):\r\n",
    "    fig.add_trace(go.Scatter(x=points[i][:,0], y=points[i][:,1], mode=\"markers\"), row=1, col=1)\r\n",
    "    fig.add_trace(go.Scatter(x=velocities[i][1], y=velocities[i][0], mode=\"markers\"), row=1, col=2)\r\n",
    "fig.update_xaxes(title_text=\"x\", row=1, col=1)\r\n",
    "fig.update_yaxes(title_text=\"y\", row=1, col=1)\r\n",
    "fig.update_xaxes(title_text=\"time (s)\", row=1, col=2)\r\n",
    "fig.update_yaxes(title_text=\"velocity (cm/s)\", row=1, col=2)\r\n",
    "fig.update_layout(showlegend=False)\r\n",
    "fig.show()\r\n",
    "\r\n",
    "# widgets.interactive(update_plot, step_size = step_size)"
   ]
  },
  {
   "cell_type": "code",
   "execution_count": null,
   "metadata": {},
   "outputs": [
    {
     "data": {
      "application/vnd.jupyter.widget-view+json": {
       "model_id": "667cd087766e4eec91a08408e9eebbc6",
       "version_major": 2,
       "version_minor": 0
      },
      "text/plain": [
       "interactive(children=(FloatSlider(value=0.01, description='Timestep Size:', max=0.02, min=0.008, readout_forma…"
      ]
     },
     "metadata": {},
     "output_type": "display_data"
    }
   ],
   "source": [
    "layout = go.Layout(\r\n",
    "    title='Generative Approach (wSL)',\r\n",
    "    yaxis=dict(\r\n",
    "        title='y'\r\n",
    "    ),\r\n",
    "    xaxis=dict(\r\n",
    "        title='x'\r\n",
    "    )\r\n",
    ")\r\n",
    "\r\n",
    "def update(step_size):\r\n",
    "    \"\"\"\r\n",
    "    This function updates the plot everytime a widget value changes\r\n",
    "    \"\"\"\r\n",
    "    # Fig 8. Djioua08EPM\r\n",
    "    parameters = {\"step_size\": step_size, \"t_points\": np.array([[25,18], [6,4], [8,5.5]]), \"delta\": [-0.5, 0.5], \"Ac\": [0.043949, 0.1082468], \"delta_t\": [0, -0], \"T\": [0.260832, 0.150658]}\r\n",
    "    # Letter G\r\n",
    "    # parameters = {\"step_size\": step_s, \"t_points\": np.array([[0,0], [-10,10], [-20,-10], [-10,-30], [0,-10], [-10,-10]]), \"delta\": [-0.9, -0.5, -0.9, -1, 0.1], \"Ac\": [0.05, 0.01, 0.01, 0.01, 0.02], \"delta_t\": [0, 0, 0, 0, 0], \"T\": [0.15, 0.2, 0.25, 0.4, 0.1]}\r\n",
    "\r\n",
    "    trajectory_generator = TrajectoryGenerator(**parameters)\r\n",
    "    points, velocities, vel = trajectory_generator.generate_strokes()\r\n",
    "    X = points[0][:,0]\r\n",
    "    Y = points[0][:,1]\r\n",
    "    pts_trace = go.Scatter(\r\n",
    "        x=X,\r\n",
    "        y=Y,\r\n",
    "        mode=\"markers\")\r\n",
    "    fig = go.Figure(data=pts_trace, layout=layout)\r\n",
    "    # trajectory = []\r\n",
    "    # for i in range(1):\r\n",
    "    #     X = points[i][:,0]\r\n",
    "    #     Y = points[i][:,1]\r\n",
    "    #     pts_trace = go.Scatter(\r\n",
    "    #         x=X,\r\n",
    "    #         y=Y,\r\n",
    "    #         mode=\"markers\")\r\n",
    "    #     trajectory.append(pts_trace)\r\n",
    "    # fig = go.Figure(data=trajectory, layout=layout)\r\n",
    "    py.offline.iplot(fig)\r\n",
    "\r\n",
    "step_size = widgets.FloatSlider(value=0.01, min=0.008, max=0.02, step=0.001, description='Timestep Size:', orientation='horizontal', readout=True, readout_format='.3f')\r\n",
    "widgets.interactive(update, step_size=step_size)"
   ]
  }
 ],
 "metadata": {
  "interpreter": {
   "hash": "cb708911ab792dd85c7997513b26b6ee1c2240d41316778aedb0e5779c8df92f"
  },
  "kernelspec": {
   "display_name": "Python 3.9.6 64-bit",
   "name": "python3"
  },
  "language_info": {
   "codemirror_mode": {
    "name": "ipython",
    "version": 3
   },
   "file_extension": ".py",
   "mimetype": "text/x-python",
   "name": "python",
   "nbconvert_exporter": "python",
   "pygments_lexer": "ipython3",
   "version": "3.9.6"
  },
  "metadata": {
   "interpreter": {
    "hash": "56faf2608bd7395c2ca9e7dc550cb81edf567bff87061f72d7d9ac4a6aaf3131"
   }
  },
  "orig_nbformat": 2
 },
 "nbformat": 4,
 "nbformat_minor": 2
}