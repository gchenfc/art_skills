{
 "cells": [
  {
   "cell_type": "code",
   "execution_count": 18,
   "metadata": {},
   "outputs": [],
   "source": [
    "from trajectory_generator import TrajectoryGenerator\n",
    "from stroke_generator import StrokeGenerator\n",
    "import numpy as np\n",
    "import matplotlib.pyplot as plt\n",
    "# py.offline.init_notebook_mode(connected=True)"
   ]
  },
  {
   "cell_type": "code",
   "execution_count": 19,
   "metadata": {},
   "outputs": [
    {
     "name": "stdout",
     "output_type": "stream",
     "text": [
      "t0 [ 0.         -0.01048578]\n",
      "D [30. 70.]\n",
      "th1 1\n",
      "th2 1\n",
      "sigma [0.47238073 0.32459285]\n",
      "mu [-2.96602237 -2.42933999]\n",
      "[[1.91996807e-09 8.05246420e-03 7.16016025e-01 4.36901441e+00\n",
      "  1.19080574e+01 2.28823564e+01 3.60226444e+01 4.95860965e+01\n",
      "  6.20316823e+01 7.24578721e+01 8.06096905e+01 8.66613036e+01\n",
      "  9.09832288e+01 9.39823823e+01 9.60200203e+01 9.73832992e+01\n",
      "  9.82855405e+01 9.88782812e+01 9.92659081e+01 9.95187972e+01\n",
      "  9.96836847e+01 9.97912860e+01 9.98616486e+01]\n",
      " [0.00000000e+00 0.00000000e+00 0.00000000e+00 0.00000000e+00\n",
      "  0.00000000e+00 0.00000000e+00 0.00000000e+00 0.00000000e+00\n",
      "  0.00000000e+00 0.00000000e+00 0.00000000e+00 0.00000000e+00\n",
      "  0.00000000e+00 0.00000000e+00 0.00000000e+00 0.00000000e+00\n",
      "  0.00000000e+00 0.00000000e+00 0.00000000e+00 0.00000000e+00\n",
      "  0.00000000e+00 0.00000000e+00 0.00000000e+00]]\n",
      "[8.05246228e-01 3.58008012e+01 2.18048097e+02 5.59602070e+02\n",
      " 9.25667098e+02 1.20572935e+03 1.33518701e+03 1.30045189e+03\n",
      " 1.14358878e+03 9.28900413e+02 7.10171577e+02 5.18676915e+02\n",
      " 3.66053932e+02 2.51839570e+02 1.70045848e+02 1.13276011e+02\n",
      " 7.47490976e+01 4.90183829e+01 3.20258027e+01 2.08888263e+01\n",
      " 1.36244388e+01 8.89819747e+00 7.03625927e+00]\n",
      "[2.68415409e-02 1.19336004e+00 7.26826991e+00 1.86534023e+01\n",
      " 3.08555699e+01]\n"
     ]
    }
   ],
   "source": [
    "# GTSAM SLN Unit Testing\n",
    "parameters = {\"dt\": 0.01, \n",
    "              \"t_points\": np.array([[0,0], [30, 0], [100,0]]).T,\n",
    "              \"delta\": np.array([0.0, 0.0]),\n",
    "              \"Ac\": np.array([0.2, 0.1]),\n",
    "              \"delta_t\": np.array([0.1, 0.01]), \n",
    "              \"T\": 0.2}\n",
    "\n",
    "strokegent = StrokeGenerator()\n",
    "\n",
    "sigma = strokegent.sigma(parameters[\"Ac\"])\n",
    "mu = strokegent.mu(sigma, parameters[\"T\"])\n",
    "t0 = strokegent.t0_t(parameters[\"dt\"], sigma, mu, parameters[\"T\"], parameters[\"delta_t\"])\n",
    "print(\"t0\", t0[0])\n",
    "D =  strokegent.D_theta(parameters[\"t_points\"], parameters[\"delta\"])\n",
    "print(\"D\", D[0])\n",
    "th1 = 1\n",
    "print(\"th1\", th1)\n",
    "th2 = 1\n",
    "print(\"th2\", th2)\n",
    "\n",
    "print(\"sigma\", sigma)\n",
    "print(\"mu\", mu)\n",
    "\n",
    "# # Berio Code\n",
    "    # parameters = {\"dt\": 0.02, \n",
    "    #               \"t_points\": np.array([[0,0], [-50, 100], [100,70], [-40, 120]]).T,\n",
    "    #               \"delta\": np.array([0.3, 0.3, 0.3]), \n",
    "    #               \"Ac\": np.array([0.05, 0.05, 0.05]),\n",
    "    #               \"delta_t\": np.array([0.4, 0.4, 0.4]), \n",
    "    #               \"T\": 0.3}\n",
    "              # note: period is for each stroke, with endtime being calculated as t0[0] + t[-1] + period\n",
    "\n",
    "# Letter G\n",
    "    # parameters = {\"dt\": 0.01,\n",
    "    #               \"t_points\": np.array([[0,0], [-100,100], [-200,-100], [-100,-300], [0,-100], [-100,-100]]).T,\n",
    "    #               \"delta\": np.array([0.4, 0.4, 0.4, 0.4, 0.4]), \n",
    "    #               \"Ac\": np.array([0.05, 0.05, 0.05, 0.05, 0.05]),\n",
    "    #               \"delta_t\": np.array([0.3, 0.3, 0.3, 0.3, 0.7]), \n",
    "    #               \"T\": 0.8}\n",
    "\n",
    "# Fig 8. Djioua08EPM\n",
    "    #parameters = {\"dt\": 0.01, \"t_points\": np.array([[25,18], [6,4], [8,5.5]]).T, \"delta\": np.array([-0.5, 0.5]), \"Ac\": np.array([0.043949, 0.1082468]), \"delta_t\": np.array([0, 0]), \"T\": 0.4}\n",
    "    #parameters = {\"dt\": 0.01, \"t_points\": np.array([[25,18], [6,4], [8,5.5]]), \"delta\": [-0.5, 0.5], \"Ac\": [0.043949, 0.1082468], \"delta_t\": [0, 0], \"T\": [0.5, 0.2]}\n",
    "\n",
    "t_points = parameters[\"t_points\"]\n",
    "trajectory_generator = TrajectoryGenerator(**parameters)\n",
    "trajectory = trajectory_generator.generate_trajectory()\n",
    "maxima = trajectory_generator.extract_strokes()\n",
    "\n",
    "print(trajectory)\n",
    "\n",
    "#print(maxima)\n",
    "\n",
    "velocity = trajectory_generator.velocity()\n",
    "print(velocity)\n",
    "SL = np.multiply(velocity[0:5], 1/D[0][0])\n",
    "print(SL)"
   ]
  },
  {
   "cell_type": "code",
   "execution_count": 22,
   "metadata": {},
   "outputs": [
    {
     "ename": "SyntaxError",
     "evalue": "invalid syntax (1232680945.py, line 7)",
     "output_type": "error",
     "traceback": [
      "\u001b[0;36m  File \u001b[0;32m\"/tmp/ipykernel_2136/1232680945.py\"\u001b[0;36m, line \u001b[0;32m7\u001b[0m\n\u001b[0;31m    plt.plot(t, velocity)80267,   20.888880267,   20.88882634,   13.62443882,\u001b[0m\n\u001b[0m                         ^\u001b[0m\n\u001b[0;31mSyntaxError\u001b[0m\u001b[0;31m:\u001b[0m invalid syntax\n"
     ]
    }
   ],
   "source": [
    "fig = plt.figure(figsize=(8,3))\n",
    "plt.subplot(121)\n",
    "plt.scatter(t_points[0,:], t_points[1,:], c='k')\n",
    "plt.plot(trajectory[0,:], trajectory[1,:])\n",
    "plt.subplot(122)\n",
    "t = np.linspace(0, 0.3, trajectory.shape[1])\n",
    "plt.plot(t, velocity)   "
   ]
  }
 ],
 "metadata": {
  "interpreter": {
   "hash": "558604a386a08b755e338e53c64746a46b195689c26271921b35d01bfd9b8c64"
  },
  "kernelspec": {
   "display_name": "Python 3.9.6 64-bit ('gtsam': conda)",
   "name": "python3"
  },
  "language_info": {
   "codemirror_mode": {
    "name": "ipython",
    "version": 3
   },
   "file_extension": ".py",
   "mimetype": "text/x-python",
   "name": "python",
   "nbconvert_exporter": "python",
   "pygments_lexer": "ipython3",
   "version": "3.9.6"
  },
  "metadata": {
   "interpreter": {
    "hash": "56faf2608bd7395c2ca9e7dc550cb81edf567bff87061f72d7d9ac4a6aaf3131"
   }
  },
  "orig_nbformat": 2
 },
 "nbformat": 4,
 "nbformat_minor": 2
}
