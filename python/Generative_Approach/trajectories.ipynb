{
 "cells": [
  {
   "cell_type": "code",
   "execution_count": 7,
   "metadata": {},
   "outputs": [],
   "source": [
    "from trajectory_generator import TrajectoryGenerator\n",
    "from stroke_generator import StrokeGenerator\n",
    "import numpy as np\n",
    "import matplotlib.pyplot as plt\n",
    "# py.offline.init_notebook_mode(connected=True)"
   ]
  },
  {
   "cell_type": "code",
   "execution_count": 8,
   "metadata": {},
   "outputs": [
    {
     "name": "stdout",
     "output_type": "stream",
     "text": [
      "sigma [0.22648023 0.22648023]\n",
      "mu [-1.07559856 -1.07559856]\n",
      "t0 [-0.17290046  0.02709954]\n",
      "[[6.74949016e-02 1.48198985e-01 2.96150447e-01 5.45424911e-01\n",
      "  9.35578447e-01 1.50799612e+00 2.30128224e+00 3.34652176e+00\n",
      "  4.66325632e+00 6.25682586e+00 8.11741321e+00 1.02207937e+01\n",
      "  1.25305155e+01 1.50010664e+01 1.75815291e+01 2.02192908e+01\n",
      "  2.28635242e+01 2.54683543e+01 2.79957704e+01 3.04183358e+01\n",
      "  3.27215775e+01 3.49056820e+01 3.69859628e+01 3.89916319e+01\n",
      "  4.09627050e+01 4.29453082e+01 4.49860473e+01 4.71263270e+01\n",
      "  4.93974968e+01 5.18174949e+01 5.43893268e+01 5.71013787e+01\n",
      "  5.99292760e+01 6.28388266e+01 6.57895253e+01 6.87381308e+01\n",
      "  7.16419256e+01 7.44613962e+01 7.71622007e+01 7.97163996e+01\n",
      "  8.21030090e+01 8.43079870e+01 8.63237873e+01 8.81486171e+01\n",
      "  8.97855259e+01 9.12414286e+01 9.25261436e+01 9.36515034e+01\n",
      "  9.46305712e+01 9.54769833e+01 9.62044187e+01 9.68261920e+01\n",
      "  9.73549582e+01 9.78025125e+01 9.81796708e+01 9.84962136e+01\n",
      "  9.87608793e+01 9.89813932e+01 9.91645217e+01 9.93161425e+01\n",
      "  9.94413234e+01 9.95444052e+01 9.96290836e+01 9.96984879e+01\n",
      "  9.97552547e+01 9.98015954e+01 9.98393574e+01 9.98700779e+01\n",
      "  9.98950318e+01 9.99152730e+01]\n",
      " [0.00000000e+00 0.00000000e+00 0.00000000e+00 0.00000000e+00\n",
      "  0.00000000e+00 0.00000000e+00 0.00000000e+00 0.00000000e+00\n",
      "  0.00000000e+00 0.00000000e+00 0.00000000e+00 0.00000000e+00\n",
      "  0.00000000e+00 0.00000000e+00 0.00000000e+00 0.00000000e+00\n",
      "  0.00000000e+00 0.00000000e+00 0.00000000e+00 0.00000000e+00\n",
      "  0.00000000e+00 0.00000000e+00 0.00000000e+00 0.00000000e+00\n",
      "  0.00000000e+00 0.00000000e+00 0.00000000e+00 0.00000000e+00\n",
      "  0.00000000e+00 0.00000000e+00 0.00000000e+00 0.00000000e+00\n",
      "  0.00000000e+00 0.00000000e+00 0.00000000e+00 0.00000000e+00\n",
      "  0.00000000e+00 0.00000000e+00 0.00000000e+00 0.00000000e+00\n",
      "  0.00000000e+00 0.00000000e+00 0.00000000e+00 0.00000000e+00\n",
      "  0.00000000e+00 0.00000000e+00 0.00000000e+00 0.00000000e+00\n",
      "  0.00000000e+00 0.00000000e+00 0.00000000e+00 0.00000000e+00\n",
      "  0.00000000e+00 0.00000000e+00 0.00000000e+00 0.00000000e+00\n",
      "  0.00000000e+00 0.00000000e+00 0.00000000e+00 0.00000000e+00\n",
      "  0.00000000e+00 0.00000000e+00 0.00000000e+00 0.00000000e+00\n",
      "  0.00000000e+00 0.00000000e+00 0.00000000e+00 0.00000000e+00\n",
      "  0.00000000e+00 0.00000000e+00]]\n"
     ]
    }
   ],
   "source": [
    "# GTSAM SLN Unit Testing\n",
    "parameters = {\"dt\": 0.01, \n",
    "              \"t_points\": np.array([[0,0], [50, 0], [100,0]]).T,\n",
    "              \"delta\": np.array([0.0, 0.0]),\n",
    "              \"Ac\": np.array([0.05, 0.05]),\n",
    "              \"delta_t\": np.array([0.0, 0.4]), \n",
    "              \"T\": 0.5}\n",
    "\n",
    "strokegent = StrokeGenerator()\n",
    "sigma = strokegent.sigma(parameters[\"Ac\"])\n",
    "mu = strokegent.mu(sigma, parameters[\"T\"])\n",
    "print(\"sigma\", sigma)\n",
    "print(\"mu\", mu)\n",
    "t0, t = strokegent.t0_t(parameters[\"dt\"], sigma, mu, parameters[\"T\"], parameters[\"delta_t\"])\n",
    "print(\"t0\", t0)\n",
    "# D =  strokegent.D_theta(parameters[\"t_points\"], parameters[\"delta\"])\n",
    "# print(\"D\", D[0])\n",
    "# th1 = 1\n",
    "# print(\"th1\", th1)\n",
    "# th2 = 1\n",
    "# print(\"th2\", th2)\n",
    "\n",
    "\n",
    "# Berio Code\n",
    "# parameters = {\"dt\": 0.01, \n",
    "#                 \"t_points\": np.array([[0,0], [-50, 100], [100,70], [-40, 120]]).T,\n",
    "#                 \"delta\": np.array([0.3, 0.3, 0.3]), \n",
    "#                 \"Ac\": np.array([0.05, 0.05, 0.05]),\n",
    "#                 \"delta_t\": np.array([0.4, 0.4, 0.4]), \n",
    "#                 \"T\": 0.3}\n",
    "              # note: period is for each stroke, with endtime being calculated as t0[0] + t[-1] + period\n",
    "\n",
    "# Letter G\n",
    "    # parameters = {\"dt\": 0.01,\n",
    "    #               \"t_points\": np.array([[0,0], [-100,100], [-200,-100], [-100,-300], [0,-100], [-100,-100]]).T,\n",
    "    #               \"delta\": np.array([0.4, 0.4, 0.4, 0.4, 0.4]), \n",
    "    #               \"Ac\": np.array([0.05, 0.05, 0.05, 0.05, 0.05]),\n",
    "    #               \"delta_t\": np.array([0.3, 0.3, 0.3, 0.3, 0.7]), \n",
    "    #               \"T\": 0.8}\n",
    "\n",
    "# Fig 8. Djioua08EPM\n",
    "    #parameters = {\"dt\": 0.01, \"t_points\": np.array([[25,18], [6,4], [8,5.5]]).T, \"delta\": np.array([-0.5, 0.5]), \"Ac\": np.array([0.043949, 0.1082468]), \"delta_t\": np.array([0, 0]), \"T\": 0.4}\n",
    "    #parameters = {\"dt\": 0.01, \"t_points\": np.array([[25,18], [6,4], [8,5.5]]), \"delta\": [-0.5, 0.5], \"Ac\": [0.043949, 0.1082468], \"delta_t\": [0, 0], \"T\": [0.5, 0.2]}\n",
    "\n",
    "t_points = parameters[\"t_points\"]\n",
    "trajectory_generator = TrajectoryGenerator(**parameters)\n",
    "trajectory, strokes = trajectory_generator.generate_trajectory()\n",
    "maxima = trajectory_generator.extract_strokes()\n",
    "\n",
    "#print(trajectory)\n",
    "\n",
    "#print(maxima)\n",
    "\n",
    "velocity = trajectory_generator.velocity()\n",
    "#SL = np.multiply(velocity[0:5], 1/D[0][0])\n",
    "#print(SL)"
   ]
  },
  {
   "cell_type": "code",
   "execution_count": 9,
   "metadata": {},
   "outputs": [
    {
     "name": "stdout",
     "output_type": "stream",
     "text": [
      "unit x [0.14819899]\n",
      "[0.05 array([1.50799612]) array([0.])]\n",
      "[0.1 array([8.11741321]) array([0.])]\n",
      "[0.15 array([20.21929084]) array([0.])]\n",
      "[0.2 array([32.72157755]) array([0.])]\n",
      "[0.25 array([42.94530815]) array([0.])]\n",
      "[0.34 array([65.78952532]) array([0.])]\n",
      "[0.39 array([79.7163996]) array([0.])]\n",
      "[0.44 array([89.78552592]) array([0.])]\n",
      "[0.49 array([95.47698334]) array([0.])]\n",
      "[0.54 array([98.17967079]) array([0.])]\n",
      "[8.07040837]\n"
     ]
    },
    {
     "name": "stderr",
     "output_type": "stream",
     "text": [
      "/tmp/ipykernel_8966/3075133537.py:12: VisibleDeprecationWarning: Creating an ndarray from ragged nested sequences (which is a list-or-tuple of lists-or-tuples-or ndarrays with different lengths or shapes) is deprecated. If you meant to do this, you must specify 'dtype=object' when creating the ndarray.\n",
      "  new_meas = np.array([timeval, ptx, pty])\n",
      "/tmp/ipykernel_8966/3075133537.py:19: VisibleDeprecationWarning: Creating an ndarray from ragged nested sequences (which is a list-or-tuple of lists-or-tuples-or ndarrays with different lengths or shapes) is deprecated. If you meant to do this, you must specify 'dtype=object' when creating the ndarray.\n",
      "  new_meas = np.array([timeval, ptx, pty])\n"
     ]
    },
    {
     "data": {
      "text/plain": [
       "Text(0, 0.5, 'speed')"
      ]
     },
     "execution_count": 9,
     "metadata": {},
     "output_type": "execute_result"
    },
    {
     "data": {
      "image/png": "[encoded data removed]",
      "text/plain": [
       "<Figure size 576x216 with 3 Axes>"
      ]
     },
     "metadata": {
      "needs_background": "light"
     },
     "output_type": "display_data"
    }
   ],
   "source": [
    "t = trajectory_generator.compute_time_steps()\n",
    "timeval = round(0.01, 2)\n",
    "index = np.where(t == timeval)\n",
    "ptx = trajectory[0, index[0]]\n",
    "print(\"unit x\", ptx)\n",
    "\n",
    "for i in range(5):\n",
    "    timeval = round(0.05*(i+1), 2)\n",
    "    index = np.where(t == timeval)\n",
    "    ptx = trajectory[0, index[0]]\n",
    "    pty = trajectory[1, index[0]]\n",
    "    new_meas = np.array([timeval, ptx, pty])\n",
    "    print(new_meas)\n",
    "for i in range(5):\n",
    "    timeval = round(0.29 + 0.05*(i+1), 2)\n",
    "    index = np.where(t == timeval)\n",
    "    ptx = trajectory[0, index[0]]\n",
    "    pty = trajectory[1, index[0]]\n",
    "    new_meas = np.array([timeval, ptx, pty])\n",
    "    print(new_meas)\n",
    "\n",
    "timeval = round(0.01)\n",
    "index = np.where(t == timeval)\n",
    "vel = velocity[index[0]]\n",
    "print(vel)\n",
    "\n",
    "fig = plt.figure(figsize=(8,3))\n",
    "plt.subplot(131)\n",
    "#plt.scatter(t_points[0,:], t_points[1,:], c='k')\n",
    "plt.plot(t, trajectory[0,:])\n",
    "plt.subplot(132)\n",
    "plt.plot(t, trajectory[1,:])\n",
    "\n",
    "plt.subplot(133)\n",
    "for i, s in enumerate(strokes):\n",
    "    plt.fill_between(t, 0, s, where=s>0, facecolor='c', alpha=0.5)\n",
    "\n",
    "plt.plot(t, velocity, 'k')\n",
    "plt.xlabel('$t$', labelpad=0)\n",
    "plt.ylabel('speed', labelpad=0)"
   ]
  }
 ],
 "metadata": {
  "interpreter": {
   "hash": "558604a386a08b755e338e53c64746a46b195689c26271921b35d01bfd9b8c64"
  },
  "kernelspec": {
   "display_name": "Python 3.9.6 64-bit ('gtsam': conda)",
   "name": "python3"
  },
  "language_info": {
   "codemirror_mode": {
    "name": "ipython",
    "version": 3
   },
   "file_extension": ".py",
   "mimetype": "text/x-python",
   "name": "python",
   "nbconvert_exporter": "python",
   "pygments_lexer": "ipython3",
   "version": "3.9.6"
  },
  "metadata": {
   "interpreter": {
    "hash": "56faf2608bd7395c2ca9e7dc550cb81edf567bff87061f72d7d9ac4a6aaf3131"
   }
  },
  "orig_nbformat": 2
 },
 "nbformat": 4,
 "nbformat_minor": 2
}
