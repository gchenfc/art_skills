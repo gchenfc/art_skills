{
 "cells": [
  {
   "cell_type": "code",
   "execution_count": 1,
   "metadata": {},
   "outputs": [],
   "source": [
    "from trajectory_generator import TrajectoryGenerator\r\n",
    "import numpy as np\r\n",
    "import matplotlib.pyplot as plt\r\n",
    "# import plotly as py\r\n",
    "# import plotly.graph_objs as go\r\n",
    "# import plotly.graph_objects as go\r\n",
    "# import ipywidgets as widgets\r\n",
    "# from plotly.subplots import make_subplots\r\n",
    "# py.offline.init_notebook_mode(connected=True)"
   ]
  },
  {
   "cell_type": "code",
   "execution_count": 2,
   "metadata": {},
   "outputs": [
    {
     "name": "stdout",
     "output_type": "stream",
     "text": [
      "[[-4.67686352e-02 -1.64756567e-01 -4.58271833e-01 -1.05882112e+00\n",
      "  -2.11208062e+00 -3.74611941e+00 -6.04094794e+00 -9.00579655e+00\n",
      "  -1.25686873e+01 -1.65824088e+01 -2.08474127e+01 -2.51457626e+01\n",
      "  -2.92758831e+01 -3.30786429e+01 -3.64500590e+01 -3.93412211e+01\n",
      "  -4.17493809e+01 -4.37049685e+01 -4.52584000e+01 -4.64689904e+01\n",
      "  -4.73968812e+01 -4.80979290e+01 -4.86210183e+01 -4.90071130e+01\n",
      "  -4.92894166e+01 -4.94941431e+01 -4.96415532e+01 -4.97470342e+01\n",
      "  -4.98221037e+01 -4.98752780e+01 -4.99127887e+01 -4.99391557e+01\n",
      "  -4.99576326e+01 -4.99705462e+01 -4.99795512e+01 -4.99858186e+01\n",
      "  -4.99901736e+01 -4.99931956e+01 -4.99952905e+01 -4.99967414e+01\n",
      "  -4.99977457e+01 -4.99984405e+01 -4.99989210e+01 -4.99992533e+01\n",
      "  -4.99994830e+01 -4.99996420e+01 -4.99997519e+01 -4.99998280e+01\n",
      "  -4.99998806e+01 -4.99999171e+01 -4.99999424e+01 -4.99999599e+01\n",
      "  -4.99999721e+01 -4.99999806e+01]\n",
      " [ 1.44090625e-01  5.06722787e-01  1.40343241e+00  3.21476956e+00\n",
      "   6.31932352e+00  1.09675685e+01  1.71867811e+01  2.47584136e+01\n",
      "   3.32701902e+01  4.22133187e+01  5.10850940e+01  5.94665317e+01\n",
      "   6.70624601e+01  7.37071188e+01  7.93465648e+01  8.40103400e+01\n",
      "   8.77818938e+01  9.07732084e+01  9.31057267e+01  9.48975714e+01\n",
      "   9.62560253e+01  9.72739374e+01  9.80287936e+01  9.85834285e+01\n",
      "   9.89876166e+01  9.92800257e+01  9.94902029e+01  9.96404096e+01\n",
      "   9.97472146e+01  9.98228202e+01  9.98761307e+01  9.99135919e+01\n",
      "   9.99398374e+01  9.99581777e+01  9.99709655e+01  9.99798649e+01\n",
      "   9.99860485e+01  9.99903394e+01  9.99933137e+01  9.99953737e+01\n",
      "   9.99967995e+01  9.99977859e+01  9.99984681e+01  9.99989398e+01\n",
      "   9.99992660e+01  9.99994917e+01  9.99996478e+01  9.99997558e+01\n",
      "   9.99998305e+01  9.99998823e+01  9.99999182e+01  9.99999431e+01\n",
      "   9.99999604e+01  9.99999724e+01]]\n"
     ]
    }
   ],
   "source": [
    "# Berio Code\r\n",
    "parameters = {\"step_size\": 0.01, \"t_points\": np.array([[0,0], [-50, 100], [100,70], [-40, 120]]).T,\r\n",
    "              \"delta\": np.array([0.3, 0.3, 0.3]), \"Ac\": np.array([0.05, 0.05, 0.05]),\r\n",
    "              \"delta_t\": np.array([0.4, 0.4, 0.4]), \"T\": np.array([0.3, 0.3, 0.3])}\r\n",
    "\r\n",
    "# Letter G\r\n",
    "# parameters = {\"step_size\": 0.01, \"t_points\": np.array([[0,0], [-10,10], [-20,-10], [-10,-30], [0,-10], [-10,-10]]), \"delta\": [-0.9, -0.5, -0.9, -1, 0.1], \"Ac\": [0.05, 0.01, 0.01, 0.01, 0.02], \"delta_t\": [0, 0, 0, 0, 0], \"T\": [0.15, 0.2, 0.25, 0.4, 0.1]}\r\n",
    "\r\n",
    "# Fig 8. Djioua08EPM\r\n",
    "#parameters = {\"step_size\": 0.01, \"t_points\": np.array([[25,18], [6,4], [8,5.5]]), \"delta\": [-0.5, 0.5], \"Ac\": [0.043949, 0.1082468], \"delta_t\": [0, 0], \"T\": [0.260832, 0.150658]}\r\n",
    "#parameters = {\"step_size\": 0.01, \"t_points\": np.array([[25,18], [6,4], [8,5.5]]), \"delta\": [-0.5, 0.5], \"Ac\": [0.043949, 0.1082468], \"delta_t\": [0, 0], \"T\": [0.5, 0.2]}\r\n",
    "\r\n",
    "trajectory_generator = TrajectoryGenerator(**parameters)\r\n",
    "trajectory, velocities, = trajectory_generator.generate_trajectory()\r\n",
    "print(trajectory)\r\n"
   ]
  },
  {
   "cell_type": "code",
   "execution_count": 3,
   "metadata": {},
   "outputs": [
    {
     "data": {
      "text/plain": [
       "[<matplotlib.lines.Line2D at 0x2609bf10130>]"
      ]
     },
     "execution_count": 3,
     "metadata": {},
     "output_type": "execute_result"
    },
    {
     "data": {
      "image/png": "[encoded data removed]",
      "text/plain": [
       "<Figure size 576x216 with 1 Axes>"
      ]
     },
     "metadata": {
      "needs_background": "light"
     },
     "output_type": "display_data"
    }
   ],
   "source": [
    "fig = plt.figure(figsize=(8,3))\r\n",
    "plt.plot(trajectory[0,:], trajectory[1,:], 'k')\r\n",
    "plt.plot(trajectory[0,:], trajectory[1,:], 'k')\r\n",
    "plt.plot(trajectory[0,:], trajectory[1,:], 'k')"
   ]
  }
 ],
 "metadata": {
  "interpreter": {
   "hash": "cb708911ab792dd85c7997513b26b6ee1c2240d41316778aedb0e5779c8df92f"
  },
  "kernelspec": {
   "display_name": "Python 3.9.6 64-bit",
   "name": "python3"
  },
  "language_info": {
   "codemirror_mode": {
    "name": "ipython",
    "version": 3
   },
   "file_extension": ".py",
   "mimetype": "text/x-python",
   "name": "python",
   "nbconvert_exporter": "python",
   "pygments_lexer": "ipython3",
   "version": "3.9.6"
  },
  "metadata": {
   "interpreter": {
    "hash": "56faf2608bd7395c2ca9e7dc550cb81edf567bff87061f72d7d9ac4a6aaf3131"
   }
  },
  "orig_nbformat": 2
 },
 "nbformat": 4,
 "nbformat_minor": 2
}